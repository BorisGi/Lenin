{
 "cells": [
  {
   "cell_type": "markdown",
   "metadata": {},
   "source": [
    "## Кластерный анализ регионов ##"
   ]
  },
  {
   "cell_type": "code",
   "execution_count": 1,
   "metadata": {},
   "outputs": [],
   "source": [
    "import pandas as pd\n",
    "import numpy as np\n",
    "pd.options.display.max_rows = 85\n",
    "\n",
    "\n",
    "import matplotlib.pyplot as plt\n",
    "import seaborn as sns\n",
    "\n",
    "%matplotlib inline"
   ]
  },
  {
   "cell_type": "code",
   "execution_count": 2,
   "metadata": {},
   "outputs": [],
   "source": [
    "from sklearn import preprocessing\n",
    "from sklearn.cluster import KMeans\n",
    "\n",
    "from scipy.spatial.distance import pdist\n",
    "from scipy.cluster.hierarchy import dendrogram, linkage, fcluster"
   ]
  },
  {
   "cell_type": "code",
   "execution_count": 3,
   "metadata": {},
   "outputs": [],
   "source": [
    "# загружаем датасет, регион переводим сразу в индекс\n",
    "\n",
    "work_clust = pd.read_csv('C:/00_Projects/Lenin/Datasets/04_work_data/work_weight.csv', index_col='region')"
   ]
  },
  {
   "cell_type": "code",
   "execution_count": 4,
   "metadata": {},
   "outputs": [
    {
     "data": {
      "text/html": [
       "<div>\n",
       "<style scoped>\n",
       "    .dataframe tbody tr th:only-of-type {\n",
       "        vertical-align: middle;\n",
       "    }\n",
       "\n",
       "    .dataframe tbody tr th {\n",
       "        vertical-align: top;\n",
       "    }\n",
       "\n",
       "    .dataframe thead th {\n",
       "        text-align: right;\n",
       "    }\n",
       "</style>\n",
       "<table border=\"1\" class=\"dataframe\">\n",
       "  <thead>\n",
       "    <tr style=\"text-align: right;\">\n",
       "      <th></th>\n",
       "      <th>datawrapperName</th>\n",
       "      <th>city_m5sts</th>\n",
       "      <th>city_m10sts</th>\n",
       "      <th>lenin_street_cm5st</th>\n",
       "      <th>lenin_street_cm10st</th>\n",
       "      <th>cities_1_lsts_cm5s</th>\n",
       "      <th>cities_1_lsts_cm10s</th>\n",
       "      <th>monument_OKN_cm5sts</th>\n",
       "      <th>monument_OKN_cm10sts</th>\n",
       "      <th>monument_lst_cm5sts</th>\n",
       "      <th>monument_lst_cm10sts</th>\n",
       "      <th>lenin_street_weight_5</th>\n",
       "      <th>lenin_street_weight_10</th>\n",
       "      <th>cities_1_lsts_weight_5</th>\n",
       "      <th>cities_1_lsts_weight_10</th>\n",
       "      <th>monument_OKN_weight_5</th>\n",
       "      <th>monument_OKN_weight_10</th>\n",
       "      <th>monument_lst_weight_5</th>\n",
       "      <th>monument_lst_weight_10</th>\n",
       "    </tr>\n",
       "    <tr>\n",
       "      <th>region</th>\n",
       "      <th></th>\n",
       "      <th></th>\n",
       "      <th></th>\n",
       "      <th></th>\n",
       "      <th></th>\n",
       "      <th></th>\n",
       "      <th></th>\n",
       "      <th></th>\n",
       "      <th></th>\n",
       "      <th></th>\n",
       "      <th></th>\n",
       "      <th></th>\n",
       "      <th></th>\n",
       "      <th></th>\n",
       "      <th></th>\n",
       "      <th></th>\n",
       "      <th></th>\n",
       "      <th></th>\n",
       "      <th></th>\n",
       "    </tr>\n",
       "  </thead>\n",
       "  <tbody>\n",
       "    <tr>\n",
       "      <td>Алтайский край</td>\n",
       "      <td>Алтайский край</td>\n",
       "      <td>897</td>\n",
       "      <td>482</td>\n",
       "      <td>213.0</td>\n",
       "      <td>161.0</td>\n",
       "      <td>204.0</td>\n",
       "      <td>152.0</td>\n",
       "      <td>2.0</td>\n",
       "      <td>2.0</td>\n",
       "      <td>68</td>\n",
       "      <td>65</td>\n",
       "      <td>0.2375</td>\n",
       "      <td>0.3340</td>\n",
       "      <td>0.2274</td>\n",
       "      <td>0.3154</td>\n",
       "      <td>0.0022</td>\n",
       "      <td>0.0041</td>\n",
       "      <td>0.0758</td>\n",
       "      <td>0.1349</td>\n",
       "    </tr>\n",
       "    <tr>\n",
       "      <td>Амурская область</td>\n",
       "      <td>Амурская область</td>\n",
       "      <td>340</td>\n",
       "      <td>159</td>\n",
       "      <td>57.0</td>\n",
       "      <td>46.0</td>\n",
       "      <td>53.0</td>\n",
       "      <td>42.0</td>\n",
       "      <td>20.0</td>\n",
       "      <td>19.0</td>\n",
       "      <td>22</td>\n",
       "      <td>20</td>\n",
       "      <td>0.1676</td>\n",
       "      <td>0.2893</td>\n",
       "      <td>0.1559</td>\n",
       "      <td>0.2642</td>\n",
       "      <td>0.0588</td>\n",
       "      <td>0.1195</td>\n",
       "      <td>0.0647</td>\n",
       "      <td>0.1258</td>\n",
       "    </tr>\n",
       "    <tr>\n",
       "      <td>Архангельская область</td>\n",
       "      <td>Архангельская область</td>\n",
       "      <td>351</td>\n",
       "      <td>167</td>\n",
       "      <td>39.0</td>\n",
       "      <td>37.0</td>\n",
       "      <td>33.0</td>\n",
       "      <td>31.0</td>\n",
       "      <td>0.0</td>\n",
       "      <td>0.0</td>\n",
       "      <td>31</td>\n",
       "      <td>30</td>\n",
       "      <td>0.1111</td>\n",
       "      <td>0.2216</td>\n",
       "      <td>0.0940</td>\n",
       "      <td>0.1856</td>\n",
       "      <td>0.0000</td>\n",
       "      <td>0.0000</td>\n",
       "      <td>0.0883</td>\n",
       "      <td>0.1796</td>\n",
       "    </tr>\n",
       "    <tr>\n",
       "      <td>Астраханская область</td>\n",
       "      <td>Астраханская область</td>\n",
       "      <td>228</td>\n",
       "      <td>170</td>\n",
       "      <td>106.0</td>\n",
       "      <td>88.0</td>\n",
       "      <td>93.0</td>\n",
       "      <td>77.0</td>\n",
       "      <td>1.0</td>\n",
       "      <td>1.0</td>\n",
       "      <td>21</td>\n",
       "      <td>19</td>\n",
       "      <td>0.4649</td>\n",
       "      <td>0.5176</td>\n",
       "      <td>0.4079</td>\n",
       "      <td>0.4529</td>\n",
       "      <td>0.0044</td>\n",
       "      <td>0.0059</td>\n",
       "      <td>0.0921</td>\n",
       "      <td>0.1118</td>\n",
       "    </tr>\n",
       "    <tr>\n",
       "      <td>Белгородская область</td>\n",
       "      <td>Белгородская область</td>\n",
       "      <td>553</td>\n",
       "      <td>247</td>\n",
       "      <td>73.0</td>\n",
       "      <td>55.0</td>\n",
       "      <td>67.0</td>\n",
       "      <td>49.0</td>\n",
       "      <td>11.0</td>\n",
       "      <td>9.0</td>\n",
       "      <td>56</td>\n",
       "      <td>47</td>\n",
       "      <td>0.1320</td>\n",
       "      <td>0.2227</td>\n",
       "      <td>0.1212</td>\n",
       "      <td>0.1984</td>\n",
       "      <td>0.0199</td>\n",
       "      <td>0.0364</td>\n",
       "      <td>0.1013</td>\n",
       "      <td>0.1903</td>\n",
       "    </tr>\n",
       "  </tbody>\n",
       "</table>\n",
       "</div>"
      ],
      "text/plain": [
       "                             datawrapperName  city_m5sts  city_m10sts  \\\n",
       "region                                                                  \n",
       "Алтайский край                Алтайский край         897          482   \n",
       "Амурская область            Амурская область         340          159   \n",
       "Архангельская область  Архангельская область         351          167   \n",
       "Астраханская область    Астраханская область         228          170   \n",
       "Белгородская область    Белгородская область         553          247   \n",
       "\n",
       "                       lenin_street_cm5st  lenin_street_cm10st  \\\n",
       "region                                                           \n",
       "Алтайский край                      213.0                161.0   \n",
       "Амурская область                     57.0                 46.0   \n",
       "Архангельская область                39.0                 37.0   \n",
       "Астраханская область                106.0                 88.0   \n",
       "Белгородская область                 73.0                 55.0   \n",
       "\n",
       "                       cities_1_lsts_cm5s  cities_1_lsts_cm10s  \\\n",
       "region                                                           \n",
       "Алтайский край                      204.0                152.0   \n",
       "Амурская область                     53.0                 42.0   \n",
       "Архангельская область                33.0                 31.0   \n",
       "Астраханская область                 93.0                 77.0   \n",
       "Белгородская область                 67.0                 49.0   \n",
       "\n",
       "                       monument_OKN_cm5sts  monument_OKN_cm10sts  \\\n",
       "region                                                             \n",
       "Алтайский край                         2.0                   2.0   \n",
       "Амурская область                      20.0                  19.0   \n",
       "Архангельская область                  0.0                   0.0   \n",
       "Астраханская область                   1.0                   1.0   \n",
       "Белгородская область                  11.0                   9.0   \n",
       "\n",
       "                       monument_lst_cm5sts  monument_lst_cm10sts  \\\n",
       "region                                                             \n",
       "Алтайский край                          68                    65   \n",
       "Амурская область                        22                    20   \n",
       "Архангельская область                   31                    30   \n",
       "Астраханская область                    21                    19   \n",
       "Белгородская область                    56                    47   \n",
       "\n",
       "                       lenin_street_weight_5  lenin_street_weight_10  \\\n",
       "region                                                                 \n",
       "Алтайский край                        0.2375                  0.3340   \n",
       "Амурская область                      0.1676                  0.2893   \n",
       "Архангельская область                 0.1111                  0.2216   \n",
       "Астраханская область                  0.4649                  0.5176   \n",
       "Белгородская область                  0.1320                  0.2227   \n",
       "\n",
       "                       cities_1_lsts_weight_5  cities_1_lsts_weight_10  \\\n",
       "region                                                                   \n",
       "Алтайский край                         0.2274                   0.3154   \n",
       "Амурская область                       0.1559                   0.2642   \n",
       "Архангельская область                  0.0940                   0.1856   \n",
       "Астраханская область                   0.4079                   0.4529   \n",
       "Белгородская область                   0.1212                   0.1984   \n",
       "\n",
       "                       monument_OKN_weight_5  monument_OKN_weight_10  \\\n",
       "region                                                                 \n",
       "Алтайский край                        0.0022                  0.0041   \n",
       "Амурская область                      0.0588                  0.1195   \n",
       "Архангельская область                 0.0000                  0.0000   \n",
       "Астраханская область                  0.0044                  0.0059   \n",
       "Белгородская область                  0.0199                  0.0364   \n",
       "\n",
       "                       monument_lst_weight_5  monument_lst_weight_10  \n",
       "region                                                                \n",
       "Алтайский край                        0.0758                  0.1349  \n",
       "Амурская область                      0.0647                  0.1258  \n",
       "Архангельская область                 0.0883                  0.1796  \n",
       "Астраханская область                  0.0921                  0.1118  \n",
       "Белгородская область                  0.1013                  0.1903  "
      ]
     },
     "execution_count": 4,
     "metadata": {},
     "output_type": "execute_result"
    }
   ],
   "source": [
    "work_clust.head()"
   ]
  },
  {
   "cell_type": "code",
   "execution_count": 5,
   "metadata": {},
   "outputs": [],
   "source": [
    "first = [\n",
    "    'Краснодарский край', 'Адыгея', 'Калмыкия', 'Ставропольский край', 'Мордовия',\n",
    "    'Чечня', 'Ингушетия'\n",
    "]"
   ]
  },
  {
   "cell_type": "code",
   "execution_count": 6,
   "metadata": {},
   "outputs": [],
   "source": [
    "work_clust = work_clust[~work_clust.index.isin(first)]"
   ]
  },
  {
   "cell_type": "code",
   "execution_count": 7,
   "metadata": {},
   "outputs": [
    {
     "data": {
      "text/plain": [
       "Index(['datawrapperName', 'city_m5sts', 'city_m10sts', 'lenin_street_cm5st',\n",
       "       'lenin_street_cm10st', 'cities_1_lsts_cm5s', 'cities_1_lsts_cm10s',\n",
       "       'monument_OKN_cm5sts', 'monument_OKN_cm10sts', 'monument_lst_cm5sts',\n",
       "       'monument_lst_cm10sts', 'lenin_street_weight_5',\n",
       "       'lenin_street_weight_10', 'cities_1_lsts_weight_5',\n",
       "       'cities_1_lsts_weight_10', 'monument_OKN_weight_5',\n",
       "       'monument_OKN_weight_10', 'monument_lst_weight_5',\n",
       "       'monument_lst_weight_10'],\n",
       "      dtype='object')"
      ]
     },
     "execution_count": 7,
     "metadata": {},
     "output_type": "execute_result"
    }
   ],
   "source": [
    "work_clust.columns"
   ]
  },
  {
   "cell_type": "code",
   "execution_count": 8,
   "metadata": {},
   "outputs": [],
   "source": [
    "# отбираем нужные столбцы для анализа\n",
    "\n",
    "need_columns = [\n",
    "    'cities_1_lsts_weight_10',\n",
    "    'monument_OKN_weight_10',\n",
    "    'monument_lst_weight_10']"
   ]
  },
  {
   "cell_type": "markdown",
   "metadata": {},
   "source": [
    "### Иерархический кластерный анализ ###"
   ]
  },
  {
   "cell_type": "code",
   "execution_count": 9,
   "metadata": {},
   "outputs": [],
   "source": [
    "# Нормализуем данные\n",
    "\n",
    "data_normed = preprocessing.MinMaxScaler().fit_transform(work_clust[need_columns].values)"
   ]
  },
  {
   "cell_type": "code",
   "execution_count": 10,
   "metadata": {},
   "outputs": [
    {
     "data": {
      "text/plain": [
       "array([[0.48590356, 0.03075769, 0.21853596],\n",
       "       [0.40702511, 0.89647412, 0.19905822],\n",
       "       [0.28593437, 0.        , 0.31421233]])"
      ]
     },
     "execution_count": 10,
     "metadata": {},
     "output_type": "execute_result"
    }
   ],
   "source": [
    "data_normed[:3]"
   ]
  },
  {
   "cell_type": "code",
   "execution_count": 11,
   "metadata": {},
   "outputs": [],
   "source": [
    "# Вычисляем расстояния между данными (строками массива data_for_clust)\n",
    "# по умолчанию евклидово расстояние\n",
    "\n",
    "data_dist = pdist(data_normed, 'euclidean')"
   ]
  },
  {
   "cell_type": "code",
   "execution_count": 12,
   "metadata": {},
   "outputs": [],
   "source": [
    "# Главная функция иерархической кластеризии\n",
    "# Объедение элементов в кластера и сохранение в \n",
    "# специальной переменной (используется ниже для визуализации \n",
    "# и выделения количества кластеров\n",
    "\n",
    "\n",
    "link = linkage(data_dist, method='ward')"
   ]
  },
  {
   "cell_type": "code",
   "execution_count": 13,
   "metadata": {},
   "outputs": [
    {
     "data": {
      "image/png": "[encoded data removed]",
      "text/plain": [
       "<Figure size 1152x720 with 1 Axes>"
      ]
     },
     "metadata": {
      "needs_background": "light"
     },
     "output_type": "display_data"
    },
    {
     "name": "stdout",
     "output_type": "stream",
     "text": [
      "Рекомендованное количество кластеров: 2\n"
     ]
    }
   ],
   "source": [
    "plt.rcParams['figure.figsize']=(16, 10)\n",
    "\n",
    "last = link[-10:, 2]\n",
    "last_rev = last[::-1]\n",
    "idxs = np.arange(1, len(last) + 1)\n",
    "plt.plot(idxs, last_rev)\n",
    "\n",
    "acceleration = np.diff(last, 2)  \n",
    "acceleration_rev = acceleration[::-1]\n",
    "plt.plot(idxs[:-2] + 1, acceleration_rev)\n",
    "plt.show()\n",
    "k = acceleration_rev.argmax() + 2 \n",
    "print(\"Рекомендованное количество кластеров:\", k)"
   ]
  },
  {
   "cell_type": "code",
   "execution_count": 14,
   "metadata": {},
   "outputs": [
    {
     "data": {
      "image/png": "[encoded data removed]",
      "text/plain": [
       "<Figure size 1152x720 with 1 Axes>"
      ]
     },
     "metadata": {
      "needs_background": "light"
     },
     "output_type": "display_data"
    }
   ],
   "source": [
    "# строим дендрограмму \n",
    "\n",
    "dn = dendrogram(link,\n",
    "                # массив с названиями объектов для подписи по оси X\n",
    "                labels = work_clust.index.tolist(),\n",
    "                \n",
    "                # опция для более красивого отображения слишком ветввистой дендрограммы\n",
    "                truncate_mode = 'lastp',\n",
    "                \n",
    "                # повернуть подписи вертикально\n",
    "                color_threshold = 5,\n",
    "                orientation = 'right',\n",
    "                leaf_rotation=0.)"
   ]
  },
  {
   "cell_type": "code",
   "execution_count": 15,
   "metadata": {},
   "outputs": [],
   "source": [
    "# Задаем количество кластеров\n",
    "\n",
    "n_clusts = 4"
   ]
  },
  {
   "cell_type": "code",
   "execution_count": 16,
   "metadata": {},
   "outputs": [
    {
     "data": {
      "text/plain": [
       "array([1, 4, 1, 2, 3, 3, 1, 1, 1, 2, 1, 3, 3, 1, 1, 3, 2, 3, 1, 1, 3, 4,\n",
       "       1, 1, 3, 2, 2, 3, 1, 2, 2, 1, 4, 1, 3, 1, 1, 3, 1, 1, 1, 2, 2, 1,\n",
       "       4, 2, 2, 4, 1, 3, 3, 1, 1, 2, 2, 3, 2, 3, 1, 1, 3, 3, 2, 1, 1, 3,\n",
       "       2, 3, 2, 1, 1, 1, 2, 2, 2, 3, 2, 1], dtype=int32)"
      ]
     },
     "execution_count": 16,
     "metadata": {},
     "output_type": "execute_result"
    }
   ],
   "source": [
    "# иерархическая кластеризация\n",
    "\n",
    "clusters = fcluster(link, n_clusts, criterion='maxclust')\n",
    "\n",
    "clusters"
   ]
  },
  {
   "cell_type": "code",
   "execution_count": 17,
   "metadata": {},
   "outputs": [
    {
     "name": "stdout",
     "output_type": "stream",
     "text": [
      "0: cities_1_lsts_weight_10\n",
      "1: monument_OKN_weight_10\n",
      "2: monument_lst_weight_10\n"
     ]
    }
   ],
   "source": [
    "# номера столбцов\n",
    "\n",
    "for i in enumerate(need_columns):\n",
    "    print(i[0], ': ', i[1], sep='')"
   ]
  },
  {
   "cell_type": "code",
   "execution_count": 18,
   "metadata": {},
   "outputs": [
    {
     "data": {
      "image/png": "[encoded data removed]",
      "text/plain": [
       "<Figure size 720x576 with 1 Axes>"
      ]
     },
     "metadata": {
      "needs_background": "light"
     },
     "output_type": "display_data"
    }
   ],
   "source": [
    "# Чтобы построить диаграмму в разных осях, меняйте номера столбцов\n",
    "\n",
    "x = 1\n",
    "y = 0\n",
    "\n",
    "plt.figure(figsize=(10, 8))\n",
    "\n",
    "plt.scatter(data_normed[:,x], data_normed[:,y], c=clusters, cmap='flag')\n",
    "plt.xlabel(need_columns[x])\n",
    "plt.ylabel(need_columns[y]);\n",
    "plt.show()"
   ]
  },
  {
   "cell_type": "code",
   "execution_count": 19,
   "metadata": {},
   "outputs": [],
   "source": [
    "# добавляем номер кластера\n",
    "\n",
    "work_clust['cluster_hierarchy'] = clusters"
   ]
  },
  {
   "cell_type": "code",
   "execution_count": 20,
   "metadata": {},
   "outputs": [],
   "source": [
    "# группируем\n",
    "\n",
    "res_hierarchy = work_clust.groupby('cluster_hierarchy')[need_columns].mean()\n",
    "\n",
    "res_hierarchy['Объектов в кластере'] = work_clust.groupby('cluster_hierarchy').size().values"
   ]
  },
  {
   "cell_type": "code",
   "execution_count": 21,
   "metadata": {},
   "outputs": [
    {
     "data": {
      "text/html": [
       "<div>\n",
       "<style scoped>\n",
       "    .dataframe tbody tr th:only-of-type {\n",
       "        vertical-align: middle;\n",
       "    }\n",
       "\n",
       "    .dataframe tbody tr th {\n",
       "        vertical-align: top;\n",
       "    }\n",
       "\n",
       "    .dataframe thead th {\n",
       "        text-align: right;\n",
       "    }\n",
       "</style>\n",
       "<table border=\"1\" class=\"dataframe\">\n",
       "  <thead>\n",
       "    <tr style=\"text-align: right;\">\n",
       "      <th></th>\n",
       "      <th>cities_1_lsts_weight_10</th>\n",
       "      <th>monument_OKN_weight_10</th>\n",
       "      <th>monument_lst_weight_10</th>\n",
       "      <th>Объектов в кластере</th>\n",
       "    </tr>\n",
       "    <tr>\n",
       "      <th>cluster_hierarchy</th>\n",
       "      <th></th>\n",
       "      <th></th>\n",
       "      <th></th>\n",
       "      <th></th>\n",
       "    </tr>\n",
       "  </thead>\n",
       "  <tbody>\n",
       "    <tr>\n",
       "      <td>1</td>\n",
       "      <td>0.210266</td>\n",
       "      <td>0.012144</td>\n",
       "      <td>0.133662</td>\n",
       "      <td>32</td>\n",
       "    </tr>\n",
       "    <tr>\n",
       "      <td>2</td>\n",
       "      <td>0.396038</td>\n",
       "      <td>0.007205</td>\n",
       "      <td>0.105843</td>\n",
       "      <td>21</td>\n",
       "    </tr>\n",
       "    <tr>\n",
       "      <td>3</td>\n",
       "      <td>0.301550</td>\n",
       "      <td>0.047170</td>\n",
       "      <td>0.232275</td>\n",
       "      <td>20</td>\n",
       "    </tr>\n",
       "    <tr>\n",
       "      <td>4</td>\n",
       "      <td>0.234160</td>\n",
       "      <td>0.124320</td>\n",
       "      <td>0.176220</td>\n",
       "      <td>5</td>\n",
       "    </tr>\n",
       "  </tbody>\n",
       "</table>\n",
       "</div>"
      ],
      "text/plain": [
       "                   cities_1_lsts_weight_10  monument_OKN_weight_10  \\\n",
       "cluster_hierarchy                                                    \n",
       "1                                 0.210266                0.012144   \n",
       "2                                 0.396038                0.007205   \n",
       "3                                 0.301550                0.047170   \n",
       "4                                 0.234160                0.124320   \n",
       "\n",
       "                   monument_lst_weight_10  Объектов в кластере  \n",
       "cluster_hierarchy                                               \n",
       "1                                0.133662                   32  \n",
       "2                                0.105843                   21  \n",
       "3                                0.232275                   20  \n",
       "4                                0.176220                    5  "
      ]
     },
     "execution_count": 21,
     "metadata": {},
     "output_type": "execute_result"
    }
   ],
   "source": [
    "# средние цифры по кластерам и количество объектов\n",
    "\n",
    "res_hierarchy"
   ]
  },
  {
   "cell_type": "code",
   "execution_count": 22,
   "metadata": {},
   "outputs": [
    {
     "data": {
      "text/html": [
       "<div>\n",
       "<style scoped>\n",
       "    .dataframe tbody tr th:only-of-type {\n",
       "        vertical-align: middle;\n",
       "    }\n",
       "\n",
       "    .dataframe tbody tr th {\n",
       "        vertical-align: top;\n",
       "    }\n",
       "\n",
       "    .dataframe thead th {\n",
       "        text-align: right;\n",
       "    }\n",
       "</style>\n",
       "<table border=\"1\" class=\"dataframe\">\n",
       "  <thead>\n",
       "    <tr style=\"text-align: right;\">\n",
       "      <th></th>\n",
       "      <th>cities_1_lsts_weight_10</th>\n",
       "      <th>monument_OKN_weight_10</th>\n",
       "      <th>monument_lst_weight_10</th>\n",
       "    </tr>\n",
       "    <tr>\n",
       "      <th>region</th>\n",
       "      <th></th>\n",
       "      <th></th>\n",
       "      <th></th>\n",
       "    </tr>\n",
       "  </thead>\n",
       "  <tbody>\n",
       "    <tr>\n",
       "      <td>Алтайский край</td>\n",
       "      <td>0.3154</td>\n",
       "      <td>0.0041</td>\n",
       "      <td>0.1349</td>\n",
       "    </tr>\n",
       "    <tr>\n",
       "      <td>Архангельская область</td>\n",
       "      <td>0.1856</td>\n",
       "      <td>0.0000</td>\n",
       "      <td>0.1796</td>\n",
       "    </tr>\n",
       "    <tr>\n",
       "      <td>Владимирская область</td>\n",
       "      <td>0.2356</td>\n",
       "      <td>0.0288</td>\n",
       "      <td>0.1490</td>\n",
       "    </tr>\n",
       "    <tr>\n",
       "      <td>Волгоградская область</td>\n",
       "      <td>0.2965</td>\n",
       "      <td>0.0022</td>\n",
       "      <td>0.1305</td>\n",
       "    </tr>\n",
       "    <tr>\n",
       "      <td>Вологодская область</td>\n",
       "      <td>0.1493</td>\n",
       "      <td>0.0100</td>\n",
       "      <td>0.1294</td>\n",
       "    </tr>\n",
       "    <tr>\n",
       "      <td>Москва</td>\n",
       "      <td>0.1148</td>\n",
       "      <td>0.0164</td>\n",
       "      <td>0.0328</td>\n",
       "    </tr>\n",
       "    <tr>\n",
       "      <td>Еврейская АО</td>\n",
       "      <td>0.2083</td>\n",
       "      <td>0.0208</td>\n",
       "      <td>0.1250</td>\n",
       "    </tr>\n",
       "    <tr>\n",
       "      <td>Забайкальский край</td>\n",
       "      <td>0.1965</td>\n",
       "      <td>0.0000</td>\n",
       "      <td>0.1092</td>\n",
       "    </tr>\n",
       "    <tr>\n",
       "      <td>Калининградская область</td>\n",
       "      <td>0.0756</td>\n",
       "      <td>0.0233</td>\n",
       "      <td>0.1570</td>\n",
       "    </tr>\n",
       "    <tr>\n",
       "      <td>Калужская область</td>\n",
       "      <td>0.2588</td>\n",
       "      <td>0.0059</td>\n",
       "      <td>0.1647</td>\n",
       "    </tr>\n",
       "    <tr>\n",
       "      <td>Кемеровская область</td>\n",
       "      <td>0.2049</td>\n",
       "      <td>0.0082</td>\n",
       "      <td>0.1025</td>\n",
       "    </tr>\n",
       "    <tr>\n",
       "      <td>Кировская область</td>\n",
       "      <td>0.2360</td>\n",
       "      <td>0.0093</td>\n",
       "      <td>0.0901</td>\n",
       "    </tr>\n",
       "    <tr>\n",
       "      <td>Ленинградская область</td>\n",
       "      <td>0.0540</td>\n",
       "      <td>0.0118</td>\n",
       "      <td>0.0624</td>\n",
       "    </tr>\n",
       "    <tr>\n",
       "      <td>Московская область</td>\n",
       "      <td>0.1551</td>\n",
       "      <td>0.0113</td>\n",
       "      <td>0.1513</td>\n",
       "    </tr>\n",
       "    <tr>\n",
       "      <td>Ненецкий АО</td>\n",
       "      <td>0.1429</td>\n",
       "      <td>0.0000</td>\n",
       "      <td>0.1429</td>\n",
       "    </tr>\n",
       "    <tr>\n",
       "      <td>Новгородская область</td>\n",
       "      <td>0.1325</td>\n",
       "      <td>0.0132</td>\n",
       "      <td>0.1391</td>\n",
       "    </tr>\n",
       "    <tr>\n",
       "      <td>Новосибирская область</td>\n",
       "      <td>0.3162</td>\n",
       "      <td>0.0040</td>\n",
       "      <td>0.1146</td>\n",
       "    </tr>\n",
       "    <tr>\n",
       "      <td>Оренбургская область</td>\n",
       "      <td>0.2695</td>\n",
       "      <td>0.0027</td>\n",
       "      <td>0.1078</td>\n",
       "    </tr>\n",
       "    <tr>\n",
       "      <td>Орловская область</td>\n",
       "      <td>0.1918</td>\n",
       "      <td>0.0068</td>\n",
       "      <td>0.1849</td>\n",
       "    </tr>\n",
       "    <tr>\n",
       "      <td>Пензенская область</td>\n",
       "      <td>0.2736</td>\n",
       "      <td>0.0199</td>\n",
       "      <td>0.1393</td>\n",
       "    </tr>\n",
       "    <tr>\n",
       "      <td>Псковская область</td>\n",
       "      <td>0.2182</td>\n",
       "      <td>0.0091</td>\n",
       "      <td>0.2091</td>\n",
       "    </tr>\n",
       "    <tr>\n",
       "      <td>Карелия</td>\n",
       "      <td>0.2640</td>\n",
       "      <td>0.0240</td>\n",
       "      <td>0.1280</td>\n",
       "    </tr>\n",
       "    <tr>\n",
       "      <td>Марий Эл</td>\n",
       "      <td>0.1910</td>\n",
       "      <td>0.0112</td>\n",
       "      <td>0.1798</td>\n",
       "    </tr>\n",
       "    <tr>\n",
       "      <td>Саха (Якутия)</td>\n",
       "      <td>0.2195</td>\n",
       "      <td>0.0244</td>\n",
       "      <td>0.0732</td>\n",
       "    </tr>\n",
       "    <tr>\n",
       "      <td>Рязанская область</td>\n",
       "      <td>0.2147</td>\n",
       "      <td>0.0061</td>\n",
       "      <td>0.1963</td>\n",
       "    </tr>\n",
       "    <tr>\n",
       "      <td>Самарская область</td>\n",
       "      <td>0.2540</td>\n",
       "      <td>0.0032</td>\n",
       "      <td>0.1746</td>\n",
       "    </tr>\n",
       "    <tr>\n",
       "      <td>Смоленская область</td>\n",
       "      <td>0.2554</td>\n",
       "      <td>0.0435</td>\n",
       "      <td>0.0978</td>\n",
       "    </tr>\n",
       "    <tr>\n",
       "      <td>Тамбовская область</td>\n",
       "      <td>0.2500</td>\n",
       "      <td>0.0000</td>\n",
       "      <td>0.1686</td>\n",
       "    </tr>\n",
       "    <tr>\n",
       "      <td>Удмуртия</td>\n",
       "      <td>0.2240</td>\n",
       "      <td>0.0360</td>\n",
       "      <td>0.0680</td>\n",
       "    </tr>\n",
       "    <tr>\n",
       "      <td>Ульяновская область</td>\n",
       "      <td>0.2793</td>\n",
       "      <td>0.0090</td>\n",
       "      <td>0.1532</td>\n",
       "    </tr>\n",
       "    <tr>\n",
       "      <td>Хабаровский край</td>\n",
       "      <td>0.1543</td>\n",
       "      <td>0.0160</td>\n",
       "      <td>0.0904</td>\n",
       "    </tr>\n",
       "    <tr>\n",
       "      <td>Ярославская область</td>\n",
       "      <td>0.1912</td>\n",
       "      <td>0.0074</td>\n",
       "      <td>0.1912</td>\n",
       "    </tr>\n",
       "  </tbody>\n",
       "</table>\n",
       "</div>"
      ],
      "text/plain": [
       "                         cities_1_lsts_weight_10  monument_OKN_weight_10  \\\n",
       "region                                                                     \n",
       "Алтайский край                            0.3154                  0.0041   \n",
       "Архангельская область                     0.1856                  0.0000   \n",
       "Владимирская область                      0.2356                  0.0288   \n",
       "Волгоградская область                     0.2965                  0.0022   \n",
       "Вологодская область                       0.1493                  0.0100   \n",
       "Москва                                    0.1148                  0.0164   \n",
       "Еврейская АО                              0.2083                  0.0208   \n",
       "Забайкальский край                        0.1965                  0.0000   \n",
       "Калининградская область                   0.0756                  0.0233   \n",
       "Калужская область                         0.2588                  0.0059   \n",
       "Кемеровская область                       0.2049                  0.0082   \n",
       "Кировская область                         0.2360                  0.0093   \n",
       "Ленинградская область                     0.0540                  0.0118   \n",
       "Московская область                        0.1551                  0.0113   \n",
       "Ненецкий АО                               0.1429                  0.0000   \n",
       "Новгородская область                      0.1325                  0.0132   \n",
       "Новосибирская область                     0.3162                  0.0040   \n",
       "Оренбургская область                      0.2695                  0.0027   \n",
       "Орловская область                         0.1918                  0.0068   \n",
       "Пензенская область                        0.2736                  0.0199   \n",
       "Псковская область                         0.2182                  0.0091   \n",
       "Карелия                                   0.2640                  0.0240   \n",
       "Марий Эл                                  0.1910                  0.0112   \n",
       "Саха (Якутия)                             0.2195                  0.0244   \n",
       "Рязанская область                         0.2147                  0.0061   \n",
       "Самарская область                         0.2540                  0.0032   \n",
       "Смоленская область                        0.2554                  0.0435   \n",
       "Тамбовская область                        0.2500                  0.0000   \n",
       "Удмуртия                                  0.2240                  0.0360   \n",
       "Ульяновская область                       0.2793                  0.0090   \n",
       "Хабаровский край                          0.1543                  0.0160   \n",
       "Ярославская область                       0.1912                  0.0074   \n",
       "\n",
       "                         monument_lst_weight_10  \n",
       "region                                           \n",
       "Алтайский край                           0.1349  \n",
       "Архангельская область                    0.1796  \n",
       "Владимирская область                     0.1490  \n",
       "Волгоградская область                    0.1305  \n",
       "Вологодская область                      0.1294  \n",
       "Москва                                   0.0328  \n",
       "Еврейская АО                             0.1250  \n",
       "Забайкальский край                       0.1092  \n",
       "Калининградская область                  0.1570  \n",
       "Калужская область                        0.1647  \n",
       "Кемеровская область                      0.1025  \n",
       "Кировская область                        0.0901  \n",
       "Ленинградская область                    0.0624  \n",
       "Московская область                       0.1513  \n",
       "Ненецкий АО                              0.1429  \n",
       "Новгородская область                     0.1391  \n",
       "Новосибирская область                    0.1146  \n",
       "Оренбургская область                     0.1078  \n",
       "Орловская область                        0.1849  \n",
       "Пензенская область                       0.1393  \n",
       "Псковская область                        0.2091  \n",
       "Карелия                                  0.1280  \n",
       "Марий Эл                                 0.1798  \n",
       "Саха (Якутия)                            0.0732  \n",
       "Рязанская область                        0.1963  \n",
       "Самарская область                        0.1746  \n",
       "Смоленская область                       0.0978  \n",
       "Тамбовская область                       0.1686  \n",
       "Удмуртия                                 0.0680  \n",
       "Ульяновская область                      0.1532  \n",
       "Хабаровский край                         0.0904  \n",
       "Ярославская область                      0.1912  "
      ]
     },
     "execution_count": 22,
     "metadata": {},
     "output_type": "execute_result"
    }
   ],
   "source": [
    "# состав кластеров\n",
    "\n",
    "work_clust[work_clust['cluster_hierarchy'] == 1][need_columns]"
   ]
  },
  {
   "cell_type": "code",
   "execution_count": null,
   "metadata": {},
   "outputs": [],
   "source": []
  },
  {
   "cell_type": "code",
   "execution_count": null,
   "metadata": {},
   "outputs": [],
   "source": []
  },
  {
   "cell_type": "markdown",
   "metadata": {},
   "source": [
    "### K-means ###"
   ]
  },
  {
   "cell_type": "code",
   "execution_count": 23,
   "metadata": {},
   "outputs": [],
   "source": [
    "# строим кластеризаци методом KMeans\n",
    "\n",
    "km = KMeans(n_clusters=n_clusts).fit(data_normed)"
   ]
  },
  {
   "cell_type": "code",
   "execution_count": 24,
   "metadata": {},
   "outputs": [
    {
     "data": {
      "text/plain": [
       "array([2, 4, 3, 2, 3, 1, 3, 2, 3, 2, 3, 1, 1, 3, 3, 1, 2, 1, 3, 3, 1, 4,\n",
       "       3, 3, 3, 2, 2, 3, 3, 2, 2, 3, 1, 3, 2, 3, 2, 1, 3, 3, 3, 2, 2, 3,\n",
       "       4, 2, 2, 4, 3, 1, 1, 3, 3, 2, 2, 1, 2, 1, 3, 3, 2, 1, 2, 3, 3, 3,\n",
       "       2, 1, 3, 3, 3, 3, 2, 2, 2, 1, 2, 3])"
      ]
     },
     "execution_count": 24,
     "metadata": {},
     "output_type": "execute_result"
    }
   ],
   "source": [
    "# выведем полученное распределение по кластерам\n",
    "# так же номер кластера, к котрому относится строка, так как нумерация начинается с нуля, выводим добавляя 1\n",
    "\n",
    "km.labels_ +1"
   ]
  },
  {
   "cell_type": "code",
   "execution_count": 25,
   "metadata": {},
   "outputs": [
    {
     "name": "stdout",
     "output_type": "stream",
     "text": [
      "0: cities_1_lsts_weight_10\n",
      "1: monument_OKN_weight_10\n",
      "2: monument_lst_weight_10\n"
     ]
    }
   ],
   "source": [
    "# номера столбцов\n",
    "\n",
    "for i in enumerate(need_columns):\n",
    "    print(i[0], ': ', i[1], sep='')"
   ]
  },
  {
   "cell_type": "code",
   "execution_count": 26,
   "metadata": {},
   "outputs": [
    {
     "data": {
      "image/png": "[encoded data removed]",
      "text/plain": [
       "<Figure size 720x576 with 1 Axes>"
      ]
     },
     "metadata": {
      "needs_background": "light"
     },
     "output_type": "display_data"
    }
   ],
   "source": [
    "# Чтобы построить диаграмму в разных осях, меняйте номера столбцов\n",
    "# звездочки центры кластеров\n",
    "\n",
    "x = 0\n",
    "y = 2\n",
    "\n",
    "centroids = km.cluster_centers_\n",
    "plt.figure(figsize=(10, 8))\n",
    "plt.scatter(data_normed[:,x], data_normed[:,y], c=km.labels_, cmap='flag')\n",
    "plt.scatter(centroids[:, x], centroids[:, y], marker='*', s=300,\n",
    "            c='r', label='centroid')\n",
    "plt.xlabel(need_columns[x])\n",
    "plt.ylabel(need_columns[y]);\n",
    "plt.show()"
   ]
  },
  {
   "cell_type": "code",
   "execution_count": 27,
   "metadata": {},
   "outputs": [],
   "source": [
    "# к оригинальным данным добавляем номера кластеров\n",
    "\n",
    "work_clust['cluster_KMeans'] = km.labels_+1"
   ]
  },
  {
   "cell_type": "code",
   "execution_count": 28,
   "metadata": {},
   "outputs": [],
   "source": [
    "# группируем\n",
    "\n",
    "res_KMeans = work_clust.groupby('cluster_KMeans')[need_columns].mean()\n",
    "res_KMeans['объектов в KM'] = work_clust.groupby('cluster_KMeans').size().values"
   ]
  },
  {
   "cell_type": "code",
   "execution_count": 29,
   "metadata": {},
   "outputs": [
    {
     "data": {
      "text/html": [
       "<div>\n",
       "<style scoped>\n",
       "    .dataframe tbody tr th:only-of-type {\n",
       "        vertical-align: middle;\n",
       "    }\n",
       "\n",
       "    .dataframe tbody tr th {\n",
       "        vertical-align: top;\n",
       "    }\n",
       "\n",
       "    .dataframe thead th {\n",
       "        text-align: right;\n",
       "    }\n",
       "</style>\n",
       "<table border=\"1\" class=\"dataframe\">\n",
       "  <thead>\n",
       "    <tr style=\"text-align: right;\">\n",
       "      <th></th>\n",
       "      <th>cities_1_lsts_weight_10</th>\n",
       "      <th>monument_OKN_weight_10</th>\n",
       "      <th>monument_lst_weight_10</th>\n",
       "      <th>объектов в KM</th>\n",
       "    </tr>\n",
       "    <tr>\n",
       "      <th>cluster_KMeans</th>\n",
       "      <th></th>\n",
       "      <th></th>\n",
       "      <th></th>\n",
       "      <th></th>\n",
       "    </tr>\n",
       "  </thead>\n",
       "  <tbody>\n",
       "    <tr>\n",
       "      <td>1</td>\n",
       "      <td>0.305933</td>\n",
       "      <td>0.064140</td>\n",
       "      <td>0.249440</td>\n",
       "      <td>15</td>\n",
       "    </tr>\n",
       "    <tr>\n",
       "      <td>2</td>\n",
       "      <td>0.387248</td>\n",
       "      <td>0.007336</td>\n",
       "      <td>0.119276</td>\n",
       "      <td>25</td>\n",
       "    </tr>\n",
       "    <tr>\n",
       "      <td>3</td>\n",
       "      <td>0.208024</td>\n",
       "      <td>0.013856</td>\n",
       "      <td>0.144762</td>\n",
       "      <td>34</td>\n",
       "    </tr>\n",
       "    <tr>\n",
       "      <td>4</td>\n",
       "      <td>0.226025</td>\n",
       "      <td>0.122075</td>\n",
       "      <td>0.095275</td>\n",
       "      <td>4</td>\n",
       "    </tr>\n",
       "  </tbody>\n",
       "</table>\n",
       "</div>"
      ],
      "text/plain": [
       "                cities_1_lsts_weight_10  monument_OKN_weight_10  \\\n",
       "cluster_KMeans                                                    \n",
       "1                              0.305933                0.064140   \n",
       "2                              0.387248                0.007336   \n",
       "3                              0.208024                0.013856   \n",
       "4                              0.226025                0.122075   \n",
       "\n",
       "                monument_lst_weight_10  объектов в KM  \n",
       "cluster_KMeans                                         \n",
       "1                             0.249440             15  \n",
       "2                             0.119276             25  \n",
       "3                             0.144762             34  \n",
       "4                             0.095275              4  "
      ]
     },
     "execution_count": 29,
     "metadata": {},
     "output_type": "execute_result"
    }
   ],
   "source": [
    "# средние цифры по кластерам и количество объектов\n",
    "\n",
    "res_KMeans"
   ]
  },
  {
   "cell_type": "code",
   "execution_count": 30,
   "metadata": {},
   "outputs": [
    {
     "data": {
      "text/html": [
       "<div>\n",
       "<style scoped>\n",
       "    .dataframe tbody tr th:only-of-type {\n",
       "        vertical-align: middle;\n",
       "    }\n",
       "\n",
       "    .dataframe tbody tr th {\n",
       "        vertical-align: top;\n",
       "    }\n",
       "\n",
       "    .dataframe thead th {\n",
       "        text-align: right;\n",
       "    }\n",
       "</style>\n",
       "<table border=\"1\" class=\"dataframe\">\n",
       "  <thead>\n",
       "    <tr style=\"text-align: right;\">\n",
       "      <th></th>\n",
       "      <th>cities_1_lsts_weight_10</th>\n",
       "      <th>monument_OKN_weight_10</th>\n",
       "      <th>monument_lst_weight_10</th>\n",
       "    </tr>\n",
       "    <tr>\n",
       "      <th>region</th>\n",
       "      <th></th>\n",
       "      <th></th>\n",
       "      <th></th>\n",
       "    </tr>\n",
       "  </thead>\n",
       "  <tbody>\n",
       "  </tbody>\n",
       "</table>\n",
       "</div>"
      ],
      "text/plain": [
       "Empty DataFrame\n",
       "Columns: [cities_1_lsts_weight_10, monument_OKN_weight_10, monument_lst_weight_10]\n",
       "Index: []"
      ]
     },
     "execution_count": 30,
     "metadata": {},
     "output_type": "execute_result"
    }
   ],
   "source": [
    "# состав кластеров\n",
    "\n",
    "work_clust[work_clust['cluster_KMeans'] == 5][need_columns]"
   ]
  },
  {
   "cell_type": "code",
   "execution_count": null,
   "metadata": {},
   "outputs": [],
   "source": []
  },
  {
   "cell_type": "code",
   "execution_count": 31,
   "metadata": {},
   "outputs": [],
   "source": [
    "work_clust.to_excel('C:/00_Projects/Lenin/Datasets/04_work_data/hierarchy.xlsx', encoding='utf-8', index=False)"
   ]
  },
  {
   "cell_type": "code",
   "execution_count": 32,
   "metadata": {},
   "outputs": [],
   "source": [
    "res_hierarchy.to_excel('C:/00_Projects/Lenin/Datasets/04_work_data/res_hierarchy.xlsx', encoding='utf-8', index=False)"
   ]
  },
  {
   "cell_type": "code",
   "execution_count": null,
   "metadata": {},
   "outputs": [],
   "source": []
  }
 ],
 "metadata": {
  "kernelspec": {
   "display_name": "Python 3",
   "language": "python",
   "name": "python3"
  },
  "language_info": {
   "codemirror_mode": {
    "name": "ipython",
    "version": 3
   },
   "file_extension": ".py",
   "mimetype": "text/x-python",
   "name": "python",
   "nbconvert_exporter": "python",
   "pygments_lexer": "ipython3",
   "version": "3.7.4"
  }
 },
 "nbformat": 4,
 "nbformat_minor": 2
}
