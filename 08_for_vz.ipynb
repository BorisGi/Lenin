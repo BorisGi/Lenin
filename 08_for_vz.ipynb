{
 "cells": [
  {
   "cell_type": "code",
   "execution_count": 1,
   "metadata": {},
   "outputs": [],
   "source": [
    "import pandas as pd\n",
    "import numpy as np\n",
    "\n",
    "import re\n",
    "\n",
    "\n",
    "import matplotlib.pyplot as plt\n",
    "import seaborn as sns\n",
    "\n",
    "%matplotlib inline"
   ]
  },
  {
   "cell_type": "markdown",
   "metadata": {},
   "source": [
    "### Города и поселки ###"
   ]
  },
  {
   "cell_type": "code",
   "execution_count": 2,
   "metadata": {},
   "outputs": [],
   "source": [
    "# загружаем все города и поселки\n",
    "\n",
    "all_cities = pd.read_excel('C:/00_Projects/Lenin/Datasets/01_FIAS/03_all_cities.xlsx', sheet_name='cities')"
   ]
  },
  {
   "cell_type": "markdown",
   "metadata": {},
   "source": [
    "### Улицы ###"
   ]
  },
  {
   "cell_type": "code",
   "execution_count": 3,
   "metadata": {},
   "outputs": [],
   "source": [
    "# загружаем все улицы\n",
    "\n",
    "work_streets = pd.read_csv('C:/00_Projects/Lenin/Datasets/01_FIAS/05_all_streets.csv')"
   ]
  },
  {
   "cell_type": "code",
   "execution_count": 4,
   "metadata": {},
   "outputs": [],
   "source": [
    "# загружаем ленинские улицы (включая косвенные)\n",
    "\n",
    "lenin_streets_full = pd.read_excel('C:/00_Projects/Lenin/Datasets/01_FIAS/06_lenin_streets.xlsx', sheet_name='full')"
   ]
  },
  {
   "cell_type": "code",
   "execution_count": 5,
   "metadata": {},
   "outputs": [],
   "source": [
    "# загружаем ленинские улицы (только точные)\n",
    "\n",
    "lenin_streets_strict = pd.read_excel('C:/00_Projects/Lenin/Datasets/01_FIAS/06_lenin_streets.xlsx', sheet_name='lenin')"
   ]
  },
  {
   "cell_type": "code",
   "execution_count": 6,
   "metadata": {},
   "outputs": [],
   "source": [
    "# загружаем ленинские улицы (без переулков)\n",
    "\n",
    "lenin_only_streets = pd.read_excel('C:/00_Projects/Lenin/Datasets/01_FIAS/06_lenin_streets.xlsx', sheet_name='lenin_os')"
   ]
  },
  {
   "cell_type": "markdown",
   "metadata": {},
   "source": [
    "### Памятники ###"
   ]
  },
  {
   "cell_type": "code",
   "execution_count": 7,
   "metadata": {},
   "outputs": [],
   "source": [
    "# Загружаем памятники из ОКН\n",
    "\n",
    "lenin_monuments_OKN = pd.read_excel('C:/00_Projects/Lenin/Datasets/02_Monuments/08_lenin_reestrOKN.xlsx',\n",
    "                                     sheet_name='need')"
   ]
  },
  {
   "cell_type": "code",
   "execution_count": 8,
   "metadata": {},
   "outputs": [],
   "source": [
    "# Загружаем памятники из базы leninstatues\n",
    "\n",
    "lenin_monuments_lst = pd.read_excel('C:/00_Projects/Lenin/Datasets/02_Monuments/09_lenin_monuments.xlsx',\n",
    "                                     sheet_name='need')"
   ]
  },
  {
   "cell_type": "code",
   "execution_count": null,
   "metadata": {},
   "outputs": [],
   "source": []
  },
  {
   "cell_type": "markdown",
   "metadata": {},
   "source": [
    "### Столицы регионов ###"
   ]
  },
  {
   "cell_type": "code",
   "execution_count": 9,
   "metadata": {},
   "outputs": [],
   "source": [
    "# загружаем столицы регионов\n",
    "\n",
    "reg_capitals = pd.read_excel('C:/00_Projects/Lenin/Datasets/03_Other/region_name.xlsx', sheet_name='reg_capitals')"
   ]
  },
  {
   "cell_type": "code",
   "execution_count": null,
   "metadata": {},
   "outputs": [],
   "source": []
  },
  {
   "cell_type": "markdown",
   "metadata": {},
   "source": [
    "### Города с населением больше 100 тыс. ###"
   ]
  },
  {
   "cell_type": "code",
   "execution_count": 10,
   "metadata": {},
   "outputs": [],
   "source": [
    "cities_100 = pd.read_excel('C:/00_Projects/Lenin/Datasets/03_Other/cities_rf_100_ph.xlsx', sheet_name='cities_100')"
   ]
  },
  {
   "cell_type": "code",
   "execution_count": null,
   "metadata": {},
   "outputs": [],
   "source": []
  },
  {
   "cell_type": "markdown",
   "metadata": {},
   "source": [
    "### Названия регионов для Datawrapper ###"
   ]
  },
  {
   "cell_type": "code",
   "execution_count": 11,
   "metadata": {},
   "outputs": [],
   "source": [
    "region_name = pd.read_excel('C:/00_Projects/Lenin/Datasets/03_Other/region_name.xlsx', sheet_name='reg_name')"
   ]
  },
  {
   "cell_type": "code",
   "execution_count": 12,
   "metadata": {},
   "outputs": [],
   "source": [
    "region_work_only_city = region_name[['datawrapperName', 'region']]"
   ]
  },
  {
   "cell_type": "code",
   "execution_count": null,
   "metadata": {},
   "outputs": [],
   "source": []
  },
  {
   "cell_type": "code",
   "execution_count": null,
   "metadata": {},
   "outputs": [],
   "source": []
  },
  {
   "cell_type": "markdown",
   "metadata": {},
   "source": [
    "### Viz №1, улицы Ленина в топ-100 ###"
   ]
  },
  {
   "cell_type": "code",
   "execution_count": 13,
   "metadata": {},
   "outputs": [],
   "source": [
    "top_100_streets = (work_streets\n",
    " .groupby('street', as_index=False)\n",
    " .agg({'aolevel': 'count'})\n",
    " .rename(columns={'aolevel': 'street_number'})\n",
    " .sort_values('street_number', ascending=False)\n",
    "                  ).head(100) "
   ]
  },
  {
   "cell_type": "code",
   "execution_count": 14,
   "metadata": {},
   "outputs": [
    {
     "data": {
      "text/html": [
       "<div>\n",
       "<style scoped>\n",
       "    .dataframe tbody tr th:only-of-type {\n",
       "        vertical-align: middle;\n",
       "    }\n",
       "\n",
       "    .dataframe tbody tr th {\n",
       "        vertical-align: top;\n",
       "    }\n",
       "\n",
       "    .dataframe thead th {\n",
       "        text-align: right;\n",
       "    }\n",
       "</style>\n",
       "<table border=\"1\" class=\"dataframe\">\n",
       "  <thead>\n",
       "    <tr style=\"text-align: right;\">\n",
       "      <th></th>\n",
       "      <th>street</th>\n",
       "      <th>street_number</th>\n",
       "    </tr>\n",
       "  </thead>\n",
       "  <tbody>\n",
       "    <tr>\n",
       "      <td>117161</td>\n",
       "      <td>Центральная</td>\n",
       "      <td>25979</td>\n",
       "    </tr>\n",
       "    <tr>\n",
       "      <td>78562</td>\n",
       "      <td>Молодежная</td>\n",
       "      <td>17740</td>\n",
       "    </tr>\n",
       "    <tr>\n",
       "      <td>69629</td>\n",
       "      <td>Лесная</td>\n",
       "      <td>16501</td>\n",
       "    </tr>\n",
       "    <tr>\n",
       "      <td>121167</td>\n",
       "      <td>Школьная</td>\n",
       "      <td>15940</td>\n",
       "    </tr>\n",
       "    <tr>\n",
       "      <td>99230</td>\n",
       "      <td>Садовая</td>\n",
       "      <td>14461</td>\n",
       "    </tr>\n",
       "    <tr>\n",
       "      <td>83176</td>\n",
       "      <td>Новая</td>\n",
       "      <td>13812</td>\n",
       "    </tr>\n",
       "    <tr>\n",
       "      <td>103839</td>\n",
       "      <td>Советская</td>\n",
       "      <td>12886</td>\n",
       "    </tr>\n",
       "    <tr>\n",
       "      <td>80508</td>\n",
       "      <td>Набережная</td>\n",
       "      <td>11074</td>\n",
       "    </tr>\n",
       "    <tr>\n",
       "      <td>52898</td>\n",
       "      <td>Заречная</td>\n",
       "      <td>10701</td>\n",
       "    </tr>\n",
       "    <tr>\n",
       "      <td>91720</td>\n",
       "      <td>Полевая</td>\n",
       "      <td>10546</td>\n",
       "    </tr>\n",
       "    <tr>\n",
       "      <td>71180</td>\n",
       "      <td>Луговая</td>\n",
       "      <td>9976</td>\n",
       "    </tr>\n",
       "    <tr>\n",
       "      <td>53461</td>\n",
       "      <td>Зеленая</td>\n",
       "      <td>9759</td>\n",
       "    </tr>\n",
       "    <tr>\n",
       "      <td>77611</td>\n",
       "      <td>Мира</td>\n",
       "      <td>9645</td>\n",
       "    </tr>\n",
       "    <tr>\n",
       "      <td>69358</td>\n",
       "      <td>Ленина</td>\n",
       "      <td>8246</td>\n",
       "    </tr>\n",
       "    <tr>\n",
       "      <td>86064</td>\n",
       "      <td>Октябрьская</td>\n",
       "      <td>6958</td>\n",
       "    </tr>\n",
       "  </tbody>\n",
       "</table>\n",
       "</div>"
      ],
      "text/plain": [
       "             street  street_number\n",
       "117161  Центральная          25979\n",
       "78562    Молодежная          17740\n",
       "69629        Лесная          16501\n",
       "121167     Школьная          15940\n",
       "99230       Садовая          14461\n",
       "83176         Новая          13812\n",
       "103839    Советская          12886\n",
       "80508    Набережная          11074\n",
       "52898      Заречная          10701\n",
       "91720       Полевая          10546\n",
       "71180       Луговая           9976\n",
       "53461       Зеленая           9759\n",
       "77611          Мира           9645\n",
       "69358        Ленина           8246\n",
       "86064   Октябрьская           6958"
      ]
     },
     "execution_count": 14,
     "metadata": {},
     "output_type": "execute_result"
    }
   ],
   "source": [
    "top_100_streets.head(15)"
   ]
  },
  {
   "cell_type": "code",
   "execution_count": null,
   "metadata": {},
   "outputs": [],
   "source": []
  },
  {
   "cell_type": "markdown",
   "metadata": {},
   "source": [
    "### Viz №2-3, проспекты и площади ###"
   ]
  },
  {
   "cell_type": "code",
   "execution_count": 15,
   "metadata": {},
   "outputs": [],
   "source": [
    "# проспекты\n",
    "\n",
    "top_15_avenues = (work_streets[work_streets.shortname == 'пр-кт']\n",
    "                  .groupby('street', as_index=False)\n",
    "                  .agg({'aolevel': 'count'})\n",
    "                  .rename(columns={'street': 'avenue', 'aolevel': 'avenue_number'})\n",
    "                  .sort_values('avenue_number', ascending=False)\n",
    "                 )"
   ]
  },
  {
   "cell_type": "code",
   "execution_count": 16,
   "metadata": {},
   "outputs": [
    {
     "data": {
      "text/html": [
       "<div>\n",
       "<style scoped>\n",
       "    .dataframe tbody tr th:only-of-type {\n",
       "        vertical-align: middle;\n",
       "    }\n",
       "\n",
       "    .dataframe tbody tr th {\n",
       "        vertical-align: top;\n",
       "    }\n",
       "\n",
       "    .dataframe thead th {\n",
       "        text-align: right;\n",
       "    }\n",
       "</style>\n",
       "<table border=\"1\" class=\"dataframe\">\n",
       "  <thead>\n",
       "    <tr style=\"text-align: right;\">\n",
       "      <th></th>\n",
       "      <th>avenue</th>\n",
       "      <th>avenue_number</th>\n",
       "    </tr>\n",
       "  </thead>\n",
       "  <tbody>\n",
       "    <tr>\n",
       "      <td>408</td>\n",
       "      <td>Ленина</td>\n",
       "      <td>120</td>\n",
       "    </tr>\n",
       "    <tr>\n",
       "      <td>475</td>\n",
       "      <td>Мира</td>\n",
       "      <td>76</td>\n",
       "    </tr>\n",
       "    <tr>\n",
       "      <td>588</td>\n",
       "      <td>Победы</td>\n",
       "      <td>64</td>\n",
       "    </tr>\n",
       "    <tr>\n",
       "      <td>349</td>\n",
       "      <td>Комсомольский</td>\n",
       "      <td>37</td>\n",
       "    </tr>\n",
       "    <tr>\n",
       "      <td>706</td>\n",
       "      <td>Строителей</td>\n",
       "      <td>35</td>\n",
       "    </tr>\n",
       "  </tbody>\n",
       "</table>\n",
       "</div>"
      ],
      "text/plain": [
       "            avenue  avenue_number\n",
       "408         Ленина            120\n",
       "475           Мира             76\n",
       "588         Победы             64\n",
       "349  Комсомольский             37\n",
       "706     Строителей             35"
      ]
     },
     "execution_count": 16,
     "metadata": {},
     "output_type": "execute_result"
    }
   ],
   "source": [
    "top_15_avenues.head()"
   ]
  },
  {
   "cell_type": "code",
   "execution_count": null,
   "metadata": {},
   "outputs": [],
   "source": []
  },
  {
   "cell_type": "code",
   "execution_count": 17,
   "metadata": {},
   "outputs": [],
   "source": [
    "# площади\n",
    "\n",
    "top_15_squeres = (work_streets[work_streets.shortname == 'пл']\n",
    "                  .groupby('street', as_index=False)\n",
    "                  .agg({'aolevel': 'count'})\n",
    "                  .rename(columns={'street': 'squere', 'aolevel': 'squere_number'})\n",
    "                  .sort_values('squere_number', ascending=False)\n",
    "                 )"
   ]
  },
  {
   "cell_type": "code",
   "execution_count": 18,
   "metadata": {},
   "outputs": [
    {
     "data": {
      "text/html": [
       "<div>\n",
       "<style scoped>\n",
       "    .dataframe tbody tr th:only-of-type {\n",
       "        vertical-align: middle;\n",
       "    }\n",
       "\n",
       "    .dataframe tbody tr th {\n",
       "        vertical-align: top;\n",
       "    }\n",
       "\n",
       "    .dataframe thead th {\n",
       "        text-align: right;\n",
       "    }\n",
       "</style>\n",
       "<table border=\"1\" class=\"dataframe\">\n",
       "  <thead>\n",
       "    <tr style=\"text-align: right;\">\n",
       "      <th></th>\n",
       "      <th>squere</th>\n",
       "      <th>squere_number</th>\n",
       "    </tr>\n",
       "  </thead>\n",
       "  <tbody>\n",
       "    <tr>\n",
       "      <td>521</td>\n",
       "      <td>Ленина</td>\n",
       "      <td>216</td>\n",
       "    </tr>\n",
       "    <tr>\n",
       "      <td>764</td>\n",
       "      <td>Привокзальная</td>\n",
       "      <td>140</td>\n",
       "    </tr>\n",
       "    <tr>\n",
       "      <td>737</td>\n",
       "      <td>Победы</td>\n",
       "      <td>116</td>\n",
       "    </tr>\n",
       "    <tr>\n",
       "      <td>872</td>\n",
       "      <td>Советская</td>\n",
       "      <td>113</td>\n",
       "    </tr>\n",
       "    <tr>\n",
       "      <td>1033</td>\n",
       "      <td>Центральная</td>\n",
       "      <td>84</td>\n",
       "    </tr>\n",
       "    <tr>\n",
       "      <td>797</td>\n",
       "      <td>Революции</td>\n",
       "      <td>73</td>\n",
       "    </tr>\n",
       "    <tr>\n",
       "      <td>464</td>\n",
       "      <td>Комсомольская</td>\n",
       "      <td>57</td>\n",
       "    </tr>\n",
       "    <tr>\n",
       "      <td>834</td>\n",
       "      <td>Свободы</td>\n",
       "      <td>55</td>\n",
       "    </tr>\n",
       "    <tr>\n",
       "      <td>599</td>\n",
       "      <td>Мира</td>\n",
       "      <td>48</td>\n",
       "    </tr>\n",
       "    <tr>\n",
       "      <td>868</td>\n",
       "      <td>Соборная</td>\n",
       "      <td>47</td>\n",
       "    </tr>\n",
       "    <tr>\n",
       "      <td>126</td>\n",
       "      <td>Базарная</td>\n",
       "      <td>44</td>\n",
       "    </tr>\n",
       "    <tr>\n",
       "      <td>964</td>\n",
       "      <td>Торговая</td>\n",
       "      <td>39</td>\n",
       "    </tr>\n",
       "    <tr>\n",
       "      <td>673</td>\n",
       "      <td>Октябрьская</td>\n",
       "      <td>34</td>\n",
       "    </tr>\n",
       "    <tr>\n",
       "      <td>214</td>\n",
       "      <td>Вокзальная</td>\n",
       "      <td>32</td>\n",
       "    </tr>\n",
       "    <tr>\n",
       "      <td>946</td>\n",
       "      <td>Театральная</td>\n",
       "      <td>32</td>\n",
       "    </tr>\n",
       "  </tbody>\n",
       "</table>\n",
       "</div>"
      ],
      "text/plain": [
       "             squere  squere_number\n",
       "521          Ленина            216\n",
       "764   Привокзальная            140\n",
       "737          Победы            116\n",
       "872       Советская            113\n",
       "1033    Центральная             84\n",
       "797       Революции             73\n",
       "464   Комсомольская             57\n",
       "834         Свободы             55\n",
       "599            Мира             48\n",
       "868        Соборная             47\n",
       "126        Базарная             44\n",
       "964        Торговая             39\n",
       "673     Октябрьская             34\n",
       "214      Вокзальная             32\n",
       "946     Театральная             32"
      ]
     },
     "execution_count": 18,
     "metadata": {},
     "output_type": "execute_result"
    }
   ],
   "source": [
    "top_15_squeres.head(15)"
   ]
  },
  {
   "cell_type": "code",
   "execution_count": null,
   "metadata": {},
   "outputs": [],
   "source": []
  },
  {
   "cell_type": "markdown",
   "metadata": {},
   "source": [
    "### 05 Таблица: типы ленинских улиц  ###"
   ]
  },
  {
   "cell_type": "code",
   "execution_count": 88,
   "metadata": {},
   "outputs": [
    {
     "data": {
      "text/html": [
       "<div>\n",
       "<style scoped>\n",
       "    .dataframe tbody tr th:only-of-type {\n",
       "        vertical-align: middle;\n",
       "    }\n",
       "\n",
       "    .dataframe tbody tr th {\n",
       "        vertical-align: top;\n",
       "    }\n",
       "\n",
       "    .dataframe thead th {\n",
       "        text-align: right;\n",
       "    }\n",
       "</style>\n",
       "<table border=\"1\" class=\"dataframe\">\n",
       "  <thead>\n",
       "    <tr style=\"text-align: right;\">\n",
       "      <th></th>\n",
       "      <th>street_type</th>\n",
       "      <th>number</th>\n",
       "    </tr>\n",
       "  </thead>\n",
       "  <tbody>\n",
       "    <tr>\n",
       "      <td>0</td>\n",
       "      <td>ул</td>\n",
       "      <td>8486</td>\n",
       "    </tr>\n",
       "    <tr>\n",
       "      <td>1</td>\n",
       "      <td>пер</td>\n",
       "      <td>518</td>\n",
       "    </tr>\n",
       "    <tr>\n",
       "      <td>2</td>\n",
       "      <td>пл</td>\n",
       "      <td>250</td>\n",
       "    </tr>\n",
       "    <tr>\n",
       "      <td>3</td>\n",
       "      <td>пр-кт</td>\n",
       "      <td>148</td>\n",
       "    </tr>\n",
       "    <tr>\n",
       "      <td>4</td>\n",
       "      <td>проезд</td>\n",
       "      <td>20</td>\n",
       "    </tr>\n",
       "    <tr>\n",
       "      <td>5</td>\n",
       "      <td>туп</td>\n",
       "      <td>14</td>\n",
       "    </tr>\n",
       "    <tr>\n",
       "      <td>6</td>\n",
       "      <td>пр-д</td>\n",
       "      <td>8</td>\n",
       "    </tr>\n",
       "    <tr>\n",
       "      <td>7</td>\n",
       "      <td>б-р</td>\n",
       "      <td>2</td>\n",
       "    </tr>\n",
       "    <tr>\n",
       "      <td>8</td>\n",
       "      <td>ш</td>\n",
       "      <td>2</td>\n",
       "    </tr>\n",
       "    <tr>\n",
       "      <td>9</td>\n",
       "      <td>въезд</td>\n",
       "      <td>1</td>\n",
       "    </tr>\n",
       "    <tr>\n",
       "      <td>10</td>\n",
       "      <td>наб.</td>\n",
       "      <td>1</td>\n",
       "    </tr>\n",
       "    <tr>\n",
       "      <td>11</td>\n",
       "      <td>сквер</td>\n",
       "      <td>1</td>\n",
       "    </tr>\n",
       "    <tr>\n",
       "      <td>12</td>\n",
       "      <td>проулок</td>\n",
       "      <td>1</td>\n",
       "    </tr>\n",
       "  </tbody>\n",
       "</table>\n",
       "</div>"
      ],
      "text/plain": [
       "   street_type  number\n",
       "0           ул    8486\n",
       "1          пер     518\n",
       "2           пл     250\n",
       "3        пр-кт     148\n",
       "4       проезд      20\n",
       "5          туп      14\n",
       "6         пр-д       8\n",
       "7          б-р       2\n",
       "8            ш       2\n",
       "9        въезд       1\n",
       "10        наб.       1\n",
       "11       сквер       1\n",
       "12     проулок       1"
      ]
     },
     "execution_count": 88,
     "metadata": {},
     "output_type": "execute_result"
    }
   ],
   "source": [
    "(lenin_streets_strict\n",
    " .shortname.value_counts()\n",
    " .reset_index()\n",
    " .rename(columns={'index': 'street_type', 'shortname': 'number'})\n",
    ")"
   ]
  },
  {
   "cell_type": "code",
   "execution_count": null,
   "metadata": {},
   "outputs": [],
   "source": []
  },
  {
   "cell_type": "markdown",
   "metadata": {},
   "source": [
    "### 06 Таблица: всех ленинских улиц  ###"
   ]
  },
  {
   "cell_type": "code",
   "execution_count": 20,
   "metadata": {},
   "outputs": [
    {
     "data": {
      "text/plain": [
       "(10794, 11)"
      ]
     },
     "execution_count": 20,
     "metadata": {},
     "output_type": "execute_result"
    }
   ],
   "source": [
    "lenin_streets_full.shape"
   ]
  },
  {
   "cell_type": "code",
   "execution_count": 21,
   "metadata": {},
   "outputs": [
    {
     "data": {
      "text/plain": [
       "(9452, 11)"
      ]
     },
     "execution_count": 21,
     "metadata": {},
     "output_type": "execute_result"
    }
   ],
   "source": [
    "lenin_streets_strict.shape"
   ]
  },
  {
   "cell_type": "code",
   "execution_count": 22,
   "metadata": {},
   "outputs": [
    {
     "data": {
      "text/plain": [
       "(8889, 11)"
      ]
     },
     "execution_count": 22,
     "metadata": {},
     "output_type": "execute_result"
    }
   ],
   "source": [
    "lenin_only_streets.shape"
   ]
  },
  {
   "cell_type": "code",
   "execution_count": null,
   "metadata": {},
   "outputs": [],
   "source": []
  },
  {
   "cell_type": "markdown",
   "metadata": {},
   "source": [
    "### 07 Количество ленинских улиц по регионам ###"
   ]
  },
  {
   "cell_type": "code",
   "execution_count": 104,
   "metadata": {},
   "outputs": [],
   "source": [
    "len_streets_for_map = (lenin_streets_strict\n",
    "                       .groupby('region', as_index=False)\n",
    "                       .agg({'street': 'count'})\n",
    "                       .rename(columns={'street': 'len_street_strict'})\n",
    "                      )"
   ]
  },
  {
   "cell_type": "code",
   "execution_count": 105,
   "metadata": {},
   "outputs": [],
   "source": [
    "len_streets_full_for_map = (lenin_streets_full\n",
    "                       .groupby('region', as_index=False)\n",
    "                       .agg({'street': 'count'})\n",
    "                       .rename(columns={'street': 'len_street_full'})\n",
    "                      )"
   ]
  },
  {
   "cell_type": "code",
   "execution_count": 106,
   "metadata": {},
   "outputs": [],
   "source": [
    "len_streets_for_map = len_streets_for_map.merge(len_streets_full_for_map, on='region', how='left')"
   ]
  },
  {
   "cell_type": "code",
   "execution_count": 108,
   "metadata": {},
   "outputs": [
    {
     "data": {
      "text/html": [
       "<div>\n",
       "<style scoped>\n",
       "    .dataframe tbody tr th:only-of-type {\n",
       "        vertical-align: middle;\n",
       "    }\n",
       "\n",
       "    .dataframe tbody tr th {\n",
       "        vertical-align: top;\n",
       "    }\n",
       "\n",
       "    .dataframe thead th {\n",
       "        text-align: right;\n",
       "    }\n",
       "</style>\n",
       "<table border=\"1\" class=\"dataframe\">\n",
       "  <thead>\n",
       "    <tr style=\"text-align: right;\">\n",
       "      <th></th>\n",
       "      <th>region</th>\n",
       "      <th>len_street_strict</th>\n",
       "      <th>len_street_full</th>\n",
       "    </tr>\n",
       "  </thead>\n",
       "  <tbody>\n",
       "    <tr>\n",
       "      <td>0</td>\n",
       "      <td>Адыгея</td>\n",
       "      <td>90</td>\n",
       "      <td>95</td>\n",
       "    </tr>\n",
       "    <tr>\n",
       "      <td>1</td>\n",
       "      <td>Алтай</td>\n",
       "      <td>17</td>\n",
       "      <td>19</td>\n",
       "    </tr>\n",
       "    <tr>\n",
       "      <td>2</td>\n",
       "      <td>Алтайский край</td>\n",
       "      <td>237</td>\n",
       "      <td>260</td>\n",
       "    </tr>\n",
       "    <tr>\n",
       "      <td>3</td>\n",
       "      <td>Амурская область</td>\n",
       "      <td>62</td>\n",
       "      <td>66</td>\n",
       "    </tr>\n",
       "    <tr>\n",
       "      <td>4</td>\n",
       "      <td>Архангельская область</td>\n",
       "      <td>39</td>\n",
       "      <td>52</td>\n",
       "    </tr>\n",
       "  </tbody>\n",
       "</table>\n",
       "</div>"
      ],
      "text/plain": [
       "                  region  len_street_strict  len_street_full\n",
       "0                 Адыгея                 90               95\n",
       "1                  Алтай                 17               19\n",
       "2         Алтайский край                237              260\n",
       "3       Амурская область                 62               66\n",
       "4  Архангельская область                 39               52"
      ]
     },
     "execution_count": 108,
     "metadata": {},
     "output_type": "execute_result"
    }
   ],
   "source": [
    "len_streets_for_map.head()"
   ]
  },
  {
   "cell_type": "code",
   "execution_count": null,
   "metadata": {},
   "outputs": [],
   "source": []
  },
  {
   "cell_type": "markdown",
   "metadata": {},
   "source": [
    "## Памятники ##"
   ]
  },
  {
   "cell_type": "code",
   "execution_count": 26,
   "metadata": {},
   "outputs": [],
   "source": [
    "# группируем по годам и регионам\n",
    "\n",
    "add_year = (lenin_monuments_OKN\n",
    " .groupby(['add_year', 'region'], as_index=False)\n",
    " .agg({'monument': 'count'})\n",
    " .rename(columns={'add_year': 'year', 'monument': 'number'})\n",
    " .sort_values(['year', 'number'], ascending=[True, False])\n",
    ")"
   ]
  },
  {
   "cell_type": "code",
   "execution_count": 27,
   "metadata": {},
   "outputs": [
    {
     "data": {
      "text/html": [
       "<div>\n",
       "<style scoped>\n",
       "    .dataframe tbody tr th:only-of-type {\n",
       "        vertical-align: middle;\n",
       "    }\n",
       "\n",
       "    .dataframe tbody tr th {\n",
       "        vertical-align: top;\n",
       "    }\n",
       "\n",
       "    .dataframe thead th {\n",
       "        text-align: right;\n",
       "    }\n",
       "</style>\n",
       "<table border=\"1\" class=\"dataframe\">\n",
       "  <thead>\n",
       "    <tr style=\"text-align: right;\">\n",
       "      <th></th>\n",
       "      <th>year</th>\n",
       "      <th>region</th>\n",
       "      <th>number</th>\n",
       "    </tr>\n",
       "  </thead>\n",
       "  <tbody>\n",
       "    <tr>\n",
       "      <td>0</td>\n",
       "      <td>1957</td>\n",
       "      <td>Хабаровский край</td>\n",
       "      <td>2</td>\n",
       "    </tr>\n",
       "    <tr>\n",
       "      <td>3</td>\n",
       "      <td>1959</td>\n",
       "      <td>Ленинградская область</td>\n",
       "      <td>2</td>\n",
       "    </tr>\n",
       "    <tr>\n",
       "      <td>1</td>\n",
       "      <td>1959</td>\n",
       "      <td>Астраханская область</td>\n",
       "      <td>1</td>\n",
       "    </tr>\n",
       "    <tr>\n",
       "      <td>2</td>\n",
       "      <td>1959</td>\n",
       "      <td>Костромская область</td>\n",
       "      <td>1</td>\n",
       "    </tr>\n",
       "    <tr>\n",
       "      <td>8</td>\n",
       "      <td>1960</td>\n",
       "      <td>Москва</td>\n",
       "      <td>3</td>\n",
       "    </tr>\n",
       "    <tr>\n",
       "      <td>...</td>\n",
       "      <td>...</td>\n",
       "      <td>...</td>\n",
       "      <td>...</td>\n",
       "    </tr>\n",
       "    <tr>\n",
       "      <td>161</td>\n",
       "      <td>2015</td>\n",
       "      <td>Санкт-Петербург</td>\n",
       "      <td>1</td>\n",
       "    </tr>\n",
       "    <tr>\n",
       "      <td>162</td>\n",
       "      <td>2016</td>\n",
       "      <td>Крым</td>\n",
       "      <td>34</td>\n",
       "    </tr>\n",
       "    <tr>\n",
       "      <td>163</td>\n",
       "      <td>2016</td>\n",
       "      <td>Саха (Якутия)</td>\n",
       "      <td>2</td>\n",
       "    </tr>\n",
       "    <tr>\n",
       "      <td>164</td>\n",
       "      <td>2017</td>\n",
       "      <td>Саха (Якутия)</td>\n",
       "      <td>3</td>\n",
       "    </tr>\n",
       "    <tr>\n",
       "      <td>165</td>\n",
       "      <td>2017</td>\n",
       "      <td>Ульяновская область</td>\n",
       "      <td>1</td>\n",
       "    </tr>\n",
       "  </tbody>\n",
       "</table>\n",
       "<p>166 rows × 3 columns</p>\n",
       "</div>"
      ],
      "text/plain": [
       "     year                 region  number\n",
       "0    1957       Хабаровский край       2\n",
       "3    1959  Ленинградская область       2\n",
       "1    1959   Астраханская область       1\n",
       "2    1959    Костромская область       1\n",
       "8    1960                 Москва       3\n",
       "..    ...                    ...     ...\n",
       "161  2015        Санкт-Петербург       1\n",
       "162  2016                   Крым      34\n",
       "163  2016          Саха (Якутия)       2\n",
       "164  2017          Саха (Якутия)       3\n",
       "165  2017    Ульяновская область       1\n",
       "\n",
       "[166 rows x 3 columns]"
      ]
     },
     "execution_count": 27,
     "metadata": {},
     "output_type": "execute_result"
    }
   ],
   "source": [
    "add_year"
   ]
  },
  {
   "cell_type": "code",
   "execution_count": null,
   "metadata": {},
   "outputs": [],
   "source": []
  },
  {
   "cell_type": "markdown",
   "metadata": {},
   "source": [
    "### 11 Количество памятников по регионам ###"
   ]
  },
  {
   "cell_type": "code",
   "execution_count": 125,
   "metadata": {},
   "outputs": [],
   "source": [
    "# считаем памятники по регионам\n",
    "\n",
    "all_monuments_for_map = (lenin_monuments_lst\n",
    "                        .groupby('region', as_index=False)\n",
    "                        .agg({'original_name': 'count'})\n",
    "                        .rename(columns={'original_name': 'monument_number'})\n",
    "                       )"
   ]
  },
  {
   "cell_type": "code",
   "execution_count": 126,
   "metadata": {},
   "outputs": [],
   "source": [
    "# считаем памятники ОКН по регионам\n",
    "\n",
    "OKN_monuments_for_map = (lenin_monuments_OKN\n",
    "                        .groupby('region', as_index=False)\n",
    "                        .agg({'monument': 'count'})\n",
    "                        .rename(columns={'monument': 'OKN_number'})\n",
    "                       )"
   ]
  },
  {
   "cell_type": "code",
   "execution_count": null,
   "metadata": {},
   "outputs": [],
   "source": []
  },
  {
   "cell_type": "code",
   "execution_count": 127,
   "metadata": {},
   "outputs": [],
   "source": [
    "all_monuments_for_map = all_monuments_for_map.merge(OKN_monuments_for_map, on='region', how='left')"
   ]
  },
  {
   "cell_type": "code",
   "execution_count": 129,
   "metadata": {},
   "outputs": [],
   "source": [
    "all_monuments_for_map.fillna(0, inplace=True)"
   ]
  },
  {
   "cell_type": "code",
   "execution_count": 131,
   "metadata": {},
   "outputs": [
    {
     "data": {
      "text/html": [
       "<div>\n",
       "<style scoped>\n",
       "    .dataframe tbody tr th:only-of-type {\n",
       "        vertical-align: middle;\n",
       "    }\n",
       "\n",
       "    .dataframe tbody tr th {\n",
       "        vertical-align: top;\n",
       "    }\n",
       "\n",
       "    .dataframe thead th {\n",
       "        text-align: right;\n",
       "    }\n",
       "</style>\n",
       "<table border=\"1\" class=\"dataframe\">\n",
       "  <thead>\n",
       "    <tr style=\"text-align: right;\">\n",
       "      <th></th>\n",
       "      <th>region</th>\n",
       "      <th>monument_number</th>\n",
       "      <th>OKN_number</th>\n",
       "    </tr>\n",
       "  </thead>\n",
       "  <tbody>\n",
       "    <tr>\n",
       "      <td>0</td>\n",
       "      <td>Адыгея</td>\n",
       "      <td>21</td>\n",
       "      <td>35.0</td>\n",
       "    </tr>\n",
       "    <tr>\n",
       "      <td>1</td>\n",
       "      <td>Алтай</td>\n",
       "      <td>12</td>\n",
       "      <td>14.0</td>\n",
       "    </tr>\n",
       "    <tr>\n",
       "      <td>2</td>\n",
       "      <td>Алтайский край</td>\n",
       "      <td>87</td>\n",
       "      <td>2.0</td>\n",
       "    </tr>\n",
       "    <tr>\n",
       "      <td>3</td>\n",
       "      <td>Амурская область</td>\n",
       "      <td>37</td>\n",
       "      <td>32.0</td>\n",
       "    </tr>\n",
       "    <tr>\n",
       "      <td>4</td>\n",
       "      <td>Архангельская область</td>\n",
       "      <td>49</td>\n",
       "      <td>0.0</td>\n",
       "    </tr>\n",
       "    <tr>\n",
       "      <td>...</td>\n",
       "      <td>...</td>\n",
       "      <td>...</td>\n",
       "      <td>...</td>\n",
       "    </tr>\n",
       "    <tr>\n",
       "      <td>80</td>\n",
       "      <td>Чечня</td>\n",
       "      <td>1</td>\n",
       "      <td>1.0</td>\n",
       "    </tr>\n",
       "    <tr>\n",
       "      <td>81</td>\n",
       "      <td>Чувашия</td>\n",
       "      <td>38</td>\n",
       "      <td>1.0</td>\n",
       "    </tr>\n",
       "    <tr>\n",
       "      <td>82</td>\n",
       "      <td>Чукотский АО</td>\n",
       "      <td>10</td>\n",
       "      <td>2.0</td>\n",
       "    </tr>\n",
       "    <tr>\n",
       "      <td>83</td>\n",
       "      <td>Ямало-Ненецкий АО</td>\n",
       "      <td>4</td>\n",
       "      <td>0.0</td>\n",
       "    </tr>\n",
       "    <tr>\n",
       "      <td>84</td>\n",
       "      <td>Ярославская область</td>\n",
       "      <td>59</td>\n",
       "      <td>1.0</td>\n",
       "    </tr>\n",
       "  </tbody>\n",
       "</table>\n",
       "<p>85 rows × 3 columns</p>\n",
       "</div>"
      ],
      "text/plain": [
       "                   region  monument_number  OKN_number\n",
       "0                  Адыгея               21        35.0\n",
       "1                   Алтай               12        14.0\n",
       "2          Алтайский край               87         2.0\n",
       "3        Амурская область               37        32.0\n",
       "4   Архангельская область               49         0.0\n",
       "..                    ...              ...         ...\n",
       "80                  Чечня                1         1.0\n",
       "81                Чувашия               38         1.0\n",
       "82           Чукотский АО               10         2.0\n",
       "83      Ямало-Ненецкий АО                4         0.0\n",
       "84    Ярославская область               59         1.0\n",
       "\n",
       "[85 rows x 3 columns]"
      ]
     },
     "execution_count": 131,
     "metadata": {},
     "output_type": "execute_result"
    }
   ],
   "source": [
    "all_monuments_for_map"
   ]
  },
  {
   "cell_type": "code",
   "execution_count": null,
   "metadata": {},
   "outputs": [],
   "source": [
    "#.to_excel('C:/00_Projects/Lenin/Datasets/05_for_viz/temp.xlsx', encoding='utf-8', index=False)"
   ]
  },
  {
   "cell_type": "code",
   "execution_count": null,
   "metadata": {},
   "outputs": [],
   "source": []
  },
  {
   "cell_type": "markdown",
   "metadata": {},
   "source": [
    "### Есть ли улица Ленина в каждом городе? ###"
   ]
  },
  {
   "cell_type": "markdown",
   "metadata": {},
   "source": [
    "### Процент населеных пунктов, где есть ленинские улицы ###"
   ]
  },
  {
   "cell_type": "code",
   "execution_count": 50,
   "metadata": {},
   "outputs": [],
   "source": [
    "cities_with_len_st = (lenin_streets_strict\n",
    "                     .groupby(['region', 'mun_district', 'city_type', 'city'], as_index=False)\n",
    "                     .agg({'street': 'count'})\n",
    "                     .rename(columns={'street': 'len_street_number'})\n",
    "                    )"
   ]
  },
  {
   "cell_type": "code",
   "execution_count": 51,
   "metadata": {},
   "outputs": [],
   "source": [
    "cities_with_mon = (lenin_monuments_lst\n",
    "                     .groupby(['region', 'mun_district', 'city_type', 'city'], as_index=False)\n",
    "                     .agg({'original_name': 'count'})\n",
    "                     .rename(columns={'original_name': 'mon_number'})\n",
    "                    )"
   ]
  },
  {
   "cell_type": "code",
   "execution_count": 52,
   "metadata": {},
   "outputs": [],
   "source": [
    "all_cities_with_streets = (work_streets\n",
    "                           .groupby(['region', 'mun_district', 'city_type', 'city'], as_index=False)\n",
    "                           .agg({'street': 'count'})\n",
    "                           .rename(columns={'street': 'total_street'})\n",
    "                          )"
   ]
  },
  {
   "cell_type": "code",
   "execution_count": 53,
   "metadata": {},
   "outputs": [
    {
     "data": {
      "text/plain": [
       "0.09355484211452195"
      ]
     },
     "execution_count": 53,
     "metadata": {},
     "output_type": "execute_result"
    }
   ],
   "source": [
    "cities_with_len_st.shape[0] / all_cities_with_streets.shape[0]"
   ]
  },
  {
   "cell_type": "code",
   "execution_count": 54,
   "metadata": {},
   "outputs": [
    {
     "data": {
      "text/plain": [
       "0.0361839211891987"
      ]
     },
     "execution_count": 54,
     "metadata": {},
     "output_type": "execute_result"
    }
   ],
   "source": [
    "cities_with_mon.shape[0] / all_cities_with_streets.shape[0]"
   ]
  },
  {
   "cell_type": "code",
   "execution_count": 44,
   "metadata": {},
   "outputs": [
    {
     "data": {
      "text/html": [
       "<div>\n",
       "<style scoped>\n",
       "    .dataframe tbody tr th:only-of-type {\n",
       "        vertical-align: middle;\n",
       "    }\n",
       "\n",
       "    .dataframe tbody tr th {\n",
       "        vertical-align: top;\n",
       "    }\n",
       "\n",
       "    .dataframe thead th {\n",
       "        text-align: right;\n",
       "    }\n",
       "</style>\n",
       "<table border=\"1\" class=\"dataframe\">\n",
       "  <thead>\n",
       "    <tr style=\"text-align: right;\">\n",
       "      <th></th>\n",
       "      <th>region</th>\n",
       "      <th>mun_district</th>\n",
       "      <th>city_type</th>\n",
       "      <th>city</th>\n",
       "      <th>street</th>\n",
       "    </tr>\n",
       "  </thead>\n",
       "  <tbody>\n",
       "    <tr>\n",
       "      <td>0</td>\n",
       "      <td>Адыгея</td>\n",
       "      <td>Адыгейск</td>\n",
       "      <td>г</td>\n",
       "      <td>Адыгейск</td>\n",
       "      <td>1</td>\n",
       "    </tr>\n",
       "    <tr>\n",
       "      <td>1</td>\n",
       "      <td>Адыгея</td>\n",
       "      <td>Адыгейск</td>\n",
       "      <td>х</td>\n",
       "      <td>Псекупс</td>\n",
       "      <td>1</td>\n",
       "    </tr>\n",
       "    <tr>\n",
       "      <td>2</td>\n",
       "      <td>Адыгея</td>\n",
       "      <td>Гиагинский</td>\n",
       "      <td>ст-ца</td>\n",
       "      <td>Гиагинская</td>\n",
       "      <td>1</td>\n",
       "    </tr>\n",
       "    <tr>\n",
       "      <td>3</td>\n",
       "      <td>Адыгея</td>\n",
       "      <td>Гиагинский</td>\n",
       "      <td>ст-ца</td>\n",
       "      <td>Дондуковская</td>\n",
       "      <td>1</td>\n",
       "    </tr>\n",
       "    <tr>\n",
       "      <td>4</td>\n",
       "      <td>Адыгея</td>\n",
       "      <td>Кошехабльский</td>\n",
       "      <td>аул</td>\n",
       "      <td>Блечепсин</td>\n",
       "      <td>1</td>\n",
       "    </tr>\n",
       "    <tr>\n",
       "      <td>...</td>\n",
       "      <td>...</td>\n",
       "      <td>...</td>\n",
       "      <td>...</td>\n",
       "      <td>...</td>\n",
       "      <td>...</td>\n",
       "    </tr>\n",
       "    <tr>\n",
       "      <td>8504</td>\n",
       "      <td>Ярославская область</td>\n",
       "      <td>Угличский</td>\n",
       "      <td>г</td>\n",
       "      <td>Углич</td>\n",
       "      <td>2</td>\n",
       "    </tr>\n",
       "    <tr>\n",
       "      <td>8505</td>\n",
       "      <td>Ярославская область</td>\n",
       "      <td>Ярославль</td>\n",
       "      <td>г</td>\n",
       "      <td>Ярославль</td>\n",
       "      <td>1</td>\n",
       "    </tr>\n",
       "    <tr>\n",
       "      <td>8506</td>\n",
       "      <td>Ярославская область</td>\n",
       "      <td>Ярославский</td>\n",
       "      <td>п</td>\n",
       "      <td>Дубки</td>\n",
       "      <td>1</td>\n",
       "    </tr>\n",
       "    <tr>\n",
       "      <td>8507</td>\n",
       "      <td>Ярославская область</td>\n",
       "      <td>Ярославский</td>\n",
       "      <td>п</td>\n",
       "      <td>Красные Ткачи</td>\n",
       "      <td>1</td>\n",
       "    </tr>\n",
       "    <tr>\n",
       "      <td>8508</td>\n",
       "      <td>Ярославская область</td>\n",
       "      <td>Ярославский</td>\n",
       "      <td>п</td>\n",
       "      <td>Михайловский</td>\n",
       "      <td>1</td>\n",
       "    </tr>\n",
       "  </tbody>\n",
       "</table>\n",
       "<p>8509 rows × 5 columns</p>\n",
       "</div>"
      ],
      "text/plain": [
       "                   region   mun_district city_type           city  street\n",
       "0                  Адыгея       Адыгейск         г       Адыгейск       1\n",
       "1                  Адыгея       Адыгейск         х        Псекупс       1\n",
       "2                  Адыгея     Гиагинский     ст-ца     Гиагинская       1\n",
       "3                  Адыгея     Гиагинский     ст-ца   Дондуковская       1\n",
       "4                  Адыгея  Кошехабльский       аул      Блечепсин       1\n",
       "...                   ...            ...       ...            ...     ...\n",
       "8504  Ярославская область      Угличский         г          Углич       2\n",
       "8505  Ярославская область      Ярославль         г      Ярославль       1\n",
       "8506  Ярославская область    Ярославский         п          Дубки       1\n",
       "8507  Ярославская область    Ярославский         п  Красные Ткачи       1\n",
       "8508  Ярославская область    Ярославский         п   Михайловский       1\n",
       "\n",
       "[8509 rows x 5 columns]"
      ]
     },
     "execution_count": 44,
     "metadata": {},
     "output_type": "execute_result"
    }
   ],
   "source": [
    "cities_with_lenin"
   ]
  },
  {
   "cell_type": "code",
   "execution_count": null,
   "metadata": {},
   "outputs": [],
   "source": []
  },
  {
   "cell_type": "markdown",
   "metadata": {},
   "source": [
    "### Города с переулками Ленина, но без улиц ###"
   ]
  },
  {
   "cell_type": "code",
   "execution_count": 74,
   "metadata": {},
   "outputs": [],
   "source": [
    "# агрегируем все улицы\n",
    "\n",
    "cities_with_len_st_all = (lenin_streets_strict\n",
    "                     .groupby(['region', 'mun_district', 'city_type', 'city', 'shortname_2'], as_index=False)\n",
    "                     .agg({'street': 'count'})\n",
    "                     .rename(columns={'street': 'len_street_number'})\n",
    "                    )"
   ]
  },
  {
   "cell_type": "code",
   "execution_count": 75,
   "metadata": {},
   "outputs": [],
   "source": [
    "# выбираем переулки\n",
    "\n",
    "cities_with_len_per = cities_with_len_st_all[(\n",
    "    (cities_with_len_st_all.shortname_2 == 'переулок') |\n",
    "    (cities_with_len_st_all.shortname_2 == 'проезд')    \n",
    ")]"
   ]
  },
  {
   "cell_type": "code",
   "execution_count": 76,
   "metadata": {},
   "outputs": [],
   "source": [
    "# убираем переулки из уличного фрейма\n",
    "\n",
    "cities_with_len_st_all = cities_with_len_st_all[~(\n",
    "    (cities_with_len_st_all.shortname_2 == 'переулок') |\n",
    "    (cities_with_len_st_all.shortname_2 == 'проезд')    \n",
    ")]"
   ]
  },
  {
   "cell_type": "code",
   "execution_count": 77,
   "metadata": {},
   "outputs": [],
   "source": [
    "cities_with_len_per = cities_with_len_per.rename(columns={'shortname_2': 'per', 'len_street_number': 'per_number'})"
   ]
  },
  {
   "cell_type": "code",
   "execution_count": 78,
   "metadata": {},
   "outputs": [
    {
     "data": {
      "text/plain": [
       "(430, 6)"
      ]
     },
     "execution_count": 78,
     "metadata": {},
     "output_type": "execute_result"
    }
   ],
   "source": [
    "cities_with_len_per.shape"
   ]
  },
  {
   "cell_type": "code",
   "execution_count": 80,
   "metadata": {},
   "outputs": [],
   "source": [
    "need_cities = cities_with_len_per.merge(cities_with_len_st_all,\n",
    "                             on=['region', 'mun_district', 'city_type', 'city',],\n",
    "                             how='left'                            )"
   ]
  },
  {
   "cell_type": "code",
   "execution_count": 83,
   "metadata": {},
   "outputs": [],
   "source": [
    "need_cities = need_cities[need_cities.len_street_number.isnull()]"
   ]
  },
  {
   "cell_type": "code",
   "execution_count": 86,
   "metadata": {},
   "outputs": [
    {
     "data": {
      "text/plain": [
       "(34, 8)"
      ]
     },
     "execution_count": 86,
     "metadata": {},
     "output_type": "execute_result"
    }
   ],
   "source": [
    "need_cities.shape"
   ]
  },
  {
   "cell_type": "code",
   "execution_count": 150,
   "metadata": {},
   "outputs": [
    {
     "data": {
      "text/html": [
       "<div>\n",
       "<style scoped>\n",
       "    .dataframe tbody tr th:only-of-type {\n",
       "        vertical-align: middle;\n",
       "    }\n",
       "\n",
       "    .dataframe tbody tr th {\n",
       "        vertical-align: top;\n",
       "    }\n",
       "\n",
       "    .dataframe thead th {\n",
       "        text-align: right;\n",
       "    }\n",
       "</style>\n",
       "<table border=\"1\" class=\"dataframe\">\n",
       "  <thead>\n",
       "    <tr style=\"text-align: right;\">\n",
       "      <th></th>\n",
       "      <th>region</th>\n",
       "      <th>mun_district</th>\n",
       "      <th>city_type</th>\n",
       "      <th>city</th>\n",
       "      <th>per</th>\n",
       "      <th>per_number</th>\n",
       "      <th>shortname_2</th>\n",
       "      <th>len_street_number</th>\n",
       "    </tr>\n",
       "  </thead>\n",
       "  <tbody>\n",
       "    <tr>\n",
       "      <td>18</td>\n",
       "      <td>Алтайский край</td>\n",
       "      <td>Шипуновский</td>\n",
       "      <td>с</td>\n",
       "      <td>Шипуново</td>\n",
       "      <td>переулок</td>\n",
       "      <td>1</td>\n",
       "      <td>NaN</td>\n",
       "      <td>NaN</td>\n",
       "    </tr>\n",
       "    <tr>\n",
       "      <td>31</td>\n",
       "      <td>Башкортостан</td>\n",
       "      <td>Калтасинский</td>\n",
       "      <td>д</td>\n",
       "      <td>Сазово</td>\n",
       "      <td>переулок</td>\n",
       "      <td>1</td>\n",
       "      <td>NaN</td>\n",
       "      <td>NaN</td>\n",
       "    </tr>\n",
       "    <tr>\n",
       "      <td>34</td>\n",
       "      <td>Башкортостан</td>\n",
       "      <td>Калтасинский</td>\n",
       "      <td>с</td>\n",
       "      <td>Кучаш</td>\n",
       "      <td>переулок</td>\n",
       "      <td>1</td>\n",
       "      <td>NaN</td>\n",
       "      <td>NaN</td>\n",
       "    </tr>\n",
       "    <tr>\n",
       "      <td>78</td>\n",
       "      <td>Волгоградская область</td>\n",
       "      <td>Кумылженский</td>\n",
       "      <td>х</td>\n",
       "      <td>Ярской 1-й</td>\n",
       "      <td>переулок</td>\n",
       "      <td>1</td>\n",
       "      <td>NaN</td>\n",
       "      <td>NaN</td>\n",
       "    </tr>\n",
       "    <tr>\n",
       "      <td>82</td>\n",
       "      <td>Вологодская область</td>\n",
       "      <td>Вытегорский</td>\n",
       "      <td>п</td>\n",
       "      <td>Депо</td>\n",
       "      <td>переулок</td>\n",
       "      <td>1</td>\n",
       "      <td>NaN</td>\n",
       "      <td>NaN</td>\n",
       "    </tr>\n",
       "    <tr>\n",
       "      <td>99</td>\n",
       "      <td>Воронежская область</td>\n",
       "      <td>Лискинский</td>\n",
       "      <td>с</td>\n",
       "      <td>Залужное</td>\n",
       "      <td>переулок</td>\n",
       "      <td>1</td>\n",
       "      <td>NaN</td>\n",
       "      <td>NaN</td>\n",
       "    </tr>\n",
       "    <tr>\n",
       "      <td>113</td>\n",
       "      <td>Дагестан</td>\n",
       "      <td>Дербентский</td>\n",
       "      <td>с</td>\n",
       "      <td>Куллар</td>\n",
       "      <td>переулок</td>\n",
       "      <td>1</td>\n",
       "      <td>NaN</td>\n",
       "      <td>NaN</td>\n",
       "    </tr>\n",
       "    <tr>\n",
       "      <td>160</td>\n",
       "      <td>Краснодарский край</td>\n",
       "      <td>Кавказский</td>\n",
       "      <td>ст-ца</td>\n",
       "      <td>Казанская</td>\n",
       "      <td>переулок</td>\n",
       "      <td>1</td>\n",
       "      <td>NaN</td>\n",
       "      <td>NaN</td>\n",
       "    </tr>\n",
       "    <tr>\n",
       "      <td>213</td>\n",
       "      <td>Ленинградская область</td>\n",
       "      <td>Гатчинский</td>\n",
       "      <td>гп</td>\n",
       "      <td>Тайцы</td>\n",
       "      <td>переулок</td>\n",
       "      <td>1</td>\n",
       "      <td>NaN</td>\n",
       "      <td>NaN</td>\n",
       "    </tr>\n",
       "    <tr>\n",
       "      <td>219</td>\n",
       "      <td>Липецкая область</td>\n",
       "      <td>Хлевенский</td>\n",
       "      <td>д</td>\n",
       "      <td>Подгорное</td>\n",
       "      <td>переулок</td>\n",
       "      <td>1</td>\n",
       "      <td>NaN</td>\n",
       "      <td>NaN</td>\n",
       "    </tr>\n",
       "    <tr>\n",
       "      <td>223</td>\n",
       "      <td>Мордовия</td>\n",
       "      <td>Саранск</td>\n",
       "      <td>с</td>\n",
       "      <td>Напольная Тавла</td>\n",
       "      <td>переулок</td>\n",
       "      <td>1</td>\n",
       "      <td>NaN</td>\n",
       "      <td>NaN</td>\n",
       "    </tr>\n",
       "    <tr>\n",
       "      <td>247</td>\n",
       "      <td>Новгородская область</td>\n",
       "      <td>Крестецкий</td>\n",
       "      <td>рп</td>\n",
       "      <td>Крестцы</td>\n",
       "      <td>переулок</td>\n",
       "      <td>1</td>\n",
       "      <td>NaN</td>\n",
       "      <td>NaN</td>\n",
       "    </tr>\n",
       "    <tr>\n",
       "      <td>250</td>\n",
       "      <td>Новгородская область</td>\n",
       "      <td>Маловишерский</td>\n",
       "      <td>д</td>\n",
       "      <td>Бурга</td>\n",
       "      <td>переулок</td>\n",
       "      <td>1</td>\n",
       "      <td>NaN</td>\n",
       "      <td>NaN</td>\n",
       "    </tr>\n",
       "    <tr>\n",
       "      <td>252</td>\n",
       "      <td>Новгородская область</td>\n",
       "      <td>Хвойнинский</td>\n",
       "      <td>с</td>\n",
       "      <td>Минцы</td>\n",
       "      <td>переулок</td>\n",
       "      <td>1</td>\n",
       "      <td>NaN</td>\n",
       "      <td>NaN</td>\n",
       "    </tr>\n",
       "    <tr>\n",
       "      <td>253</td>\n",
       "      <td>Новгородская область</td>\n",
       "      <td>Чудовский</td>\n",
       "      <td>д</td>\n",
       "      <td>Щетино</td>\n",
       "      <td>переулок</td>\n",
       "      <td>1</td>\n",
       "      <td>NaN</td>\n",
       "      <td>NaN</td>\n",
       "    </tr>\n",
       "    <tr>\n",
       "      <td>266</td>\n",
       "      <td>Орловская область</td>\n",
       "      <td>Верховский</td>\n",
       "      <td>с</td>\n",
       "      <td>Красное</td>\n",
       "      <td>переулок</td>\n",
       "      <td>1</td>\n",
       "      <td>NaN</td>\n",
       "      <td>NaN</td>\n",
       "    </tr>\n",
       "    <tr>\n",
       "      <td>271</td>\n",
       "      <td>Орловская область</td>\n",
       "      <td>Шаблыкинский</td>\n",
       "      <td>с</td>\n",
       "      <td>Сомово</td>\n",
       "      <td>переулок</td>\n",
       "      <td>1</td>\n",
       "      <td>NaN</td>\n",
       "      <td>NaN</td>\n",
       "    </tr>\n",
       "    <tr>\n",
       "      <td>292</td>\n",
       "      <td>Ростовская область</td>\n",
       "      <td>Азовский</td>\n",
       "      <td>с</td>\n",
       "      <td>Круглое</td>\n",
       "      <td>переулок</td>\n",
       "      <td>1</td>\n",
       "      <td>NaN</td>\n",
       "      <td>NaN</td>\n",
       "    </tr>\n",
       "    <tr>\n",
       "      <td>293</td>\n",
       "      <td>Ростовская область</td>\n",
       "      <td>Азовский</td>\n",
       "      <td>с</td>\n",
       "      <td>Новотроицкое</td>\n",
       "      <td>переулок</td>\n",
       "      <td>1</td>\n",
       "      <td>NaN</td>\n",
       "      <td>NaN</td>\n",
       "    </tr>\n",
       "    <tr>\n",
       "      <td>294</td>\n",
       "      <td>Ростовская область</td>\n",
       "      <td>Азовский</td>\n",
       "      <td>с</td>\n",
       "      <td>Самарское</td>\n",
       "      <td>переулок</td>\n",
       "      <td>1</td>\n",
       "      <td>NaN</td>\n",
       "      <td>NaN</td>\n",
       "    </tr>\n",
       "    <tr>\n",
       "      <td>295</td>\n",
       "      <td>Ростовская область</td>\n",
       "      <td>Азовский</td>\n",
       "      <td>с</td>\n",
       "      <td>Стефанидинодар</td>\n",
       "      <td>переулок</td>\n",
       "      <td>1</td>\n",
       "      <td>NaN</td>\n",
       "      <td>NaN</td>\n",
       "    </tr>\n",
       "    <tr>\n",
       "      <td>296</td>\n",
       "      <td>Ростовская область</td>\n",
       "      <td>Азовский</td>\n",
       "      <td>х</td>\n",
       "      <td>Победа</td>\n",
       "      <td>переулок</td>\n",
       "      <td>1</td>\n",
       "      <td>NaN</td>\n",
       "      <td>NaN</td>\n",
       "    </tr>\n",
       "    <tr>\n",
       "      <td>298</td>\n",
       "      <td>Ростовская область</td>\n",
       "      <td>Белокалитвинский</td>\n",
       "      <td>х</td>\n",
       "      <td>Марьевка</td>\n",
       "      <td>переулок</td>\n",
       "      <td>1</td>\n",
       "      <td>NaN</td>\n",
       "      <td>NaN</td>\n",
       "    </tr>\n",
       "    <tr>\n",
       "      <td>313</td>\n",
       "      <td>Санкт-Петербург</td>\n",
       "      <td>Комарово</td>\n",
       "      <td>п</td>\n",
       "      <td>Комарово</td>\n",
       "      <td>переулок</td>\n",
       "      <td>1</td>\n",
       "      <td>NaN</td>\n",
       "      <td>NaN</td>\n",
       "    </tr>\n",
       "    <tr>\n",
       "      <td>329</td>\n",
       "      <td>Свердловская область</td>\n",
       "      <td>Алапаевский</td>\n",
       "      <td>пгт</td>\n",
       "      <td>Махнёво</td>\n",
       "      <td>переулок</td>\n",
       "      <td>1</td>\n",
       "      <td>NaN</td>\n",
       "      <td>NaN</td>\n",
       "    </tr>\n",
       "    <tr>\n",
       "      <td>335</td>\n",
       "      <td>Свердловская область</td>\n",
       "      <td>Каменск-Уральский</td>\n",
       "      <td>д</td>\n",
       "      <td>Новый Завод</td>\n",
       "      <td>переулок</td>\n",
       "      <td>1</td>\n",
       "      <td>NaN</td>\n",
       "      <td>NaN</td>\n",
       "    </tr>\n",
       "    <tr>\n",
       "      <td>393</td>\n",
       "      <td>Тверская область</td>\n",
       "      <td>Вышний Волочек</td>\n",
       "      <td>пгт</td>\n",
       "      <td>Красномайский</td>\n",
       "      <td>переулок</td>\n",
       "      <td>1</td>\n",
       "      <td>NaN</td>\n",
       "      <td>NaN</td>\n",
       "    </tr>\n",
       "    <tr>\n",
       "      <td>413</td>\n",
       "      <td>Тюменская область</td>\n",
       "      <td>Тюменский</td>\n",
       "      <td>рп</td>\n",
       "      <td>Винзили</td>\n",
       "      <td>переулок</td>\n",
       "      <td>1</td>\n",
       "      <td>NaN</td>\n",
       "      <td>NaN</td>\n",
       "    </tr>\n",
       "    <tr>\n",
       "      <td>442</td>\n",
       "      <td>Чечня</td>\n",
       "      <td>Аргун</td>\n",
       "      <td>с</td>\n",
       "      <td>Чечен-Аул</td>\n",
       "      <td>переулок</td>\n",
       "      <td>3</td>\n",
       "      <td>NaN</td>\n",
       "      <td>NaN</td>\n",
       "    </tr>\n",
       "    <tr>\n",
       "      <td>443</td>\n",
       "      <td>Чечня</td>\n",
       "      <td>Грозный</td>\n",
       "      <td>г</td>\n",
       "      <td>Грозный</td>\n",
       "      <td>переулок</td>\n",
       "      <td>4</td>\n",
       "      <td>NaN</td>\n",
       "      <td>NaN</td>\n",
       "    </tr>\n",
       "    <tr>\n",
       "      <td>444</td>\n",
       "      <td>Чечня</td>\n",
       "      <td>Гудермесский</td>\n",
       "      <td>с</td>\n",
       "      <td>Джалка</td>\n",
       "      <td>переулок</td>\n",
       "      <td>1</td>\n",
       "      <td>NaN</td>\n",
       "      <td>NaN</td>\n",
       "    </tr>\n",
       "    <tr>\n",
       "      <td>445</td>\n",
       "      <td>Чечня</td>\n",
       "      <td>Наурский</td>\n",
       "      <td>с</td>\n",
       "      <td>Алпатово</td>\n",
       "      <td>переулок</td>\n",
       "      <td>1</td>\n",
       "      <td>NaN</td>\n",
       "      <td>NaN</td>\n",
       "    </tr>\n",
       "    <tr>\n",
       "      <td>446</td>\n",
       "      <td>Чечня</td>\n",
       "      <td>Серноводский</td>\n",
       "      <td>с</td>\n",
       "      <td>Серноводское</td>\n",
       "      <td>переулок</td>\n",
       "      <td>2</td>\n",
       "      <td>NaN</td>\n",
       "      <td>NaN</td>\n",
       "    </tr>\n",
       "    <tr>\n",
       "      <td>447</td>\n",
       "      <td>Чечня</td>\n",
       "      <td>Урус-Мартановский</td>\n",
       "      <td>г</td>\n",
       "      <td>Урус-Мартан</td>\n",
       "      <td>переулок</td>\n",
       "      <td>1</td>\n",
       "      <td>NaN</td>\n",
       "      <td>NaN</td>\n",
       "    </tr>\n",
       "  </tbody>\n",
       "</table>\n",
       "</div>"
      ],
      "text/plain": [
       "                    region       mun_district city_type             city  \\\n",
       "18          Алтайский край        Шипуновский         с         Шипуново   \n",
       "31            Башкортостан       Калтасинский         д           Сазово   \n",
       "34            Башкортостан       Калтасинский         с            Кучаш   \n",
       "78   Волгоградская область       Кумылженский         х       Ярской 1-й   \n",
       "82     Вологодская область        Вытегорский         п             Депо   \n",
       "99     Воронежская область         Лискинский         с         Залужное   \n",
       "113               Дагестан        Дербентский         с           Куллар   \n",
       "160     Краснодарский край         Кавказский     ст-ца        Казанская   \n",
       "213  Ленинградская область         Гатчинский        гп            Тайцы   \n",
       "219       Липецкая область         Хлевенский         д        Подгорное   \n",
       "223               Мордовия            Саранск         с  Напольная Тавла   \n",
       "247   Новгородская область         Крестецкий        рп          Крестцы   \n",
       "250   Новгородская область      Маловишерский         д            Бурга   \n",
       "252   Новгородская область        Хвойнинский         с            Минцы   \n",
       "253   Новгородская область          Чудовский         д           Щетино   \n",
       "266      Орловская область         Верховский         с          Красное   \n",
       "271      Орловская область       Шаблыкинский         с           Сомово   \n",
       "292     Ростовская область           Азовский         с          Круглое   \n",
       "293     Ростовская область           Азовский         с     Новотроицкое   \n",
       "294     Ростовская область           Азовский         с        Самарское   \n",
       "295     Ростовская область           Азовский         с   Стефанидинодар   \n",
       "296     Ростовская область           Азовский         х           Победа   \n",
       "298     Ростовская область   Белокалитвинский         х         Марьевка   \n",
       "313        Санкт-Петербург           Комарово         п         Комарово   \n",
       "329   Свердловская область        Алапаевский       пгт          Махнёво   \n",
       "335   Свердловская область  Каменск-Уральский         д      Новый Завод   \n",
       "393       Тверская область     Вышний Волочек       пгт    Красномайский   \n",
       "413      Тюменская область          Тюменский        рп          Винзили   \n",
       "442                  Чечня              Аргун         с        Чечен-Аул   \n",
       "443                  Чечня            Грозный         г          Грозный   \n",
       "444                  Чечня       Гудермесский         с           Джалка   \n",
       "445                  Чечня           Наурский         с         Алпатово   \n",
       "446                  Чечня       Серноводский         с     Серноводское   \n",
       "447                  Чечня  Урус-Мартановский         г      Урус-Мартан   \n",
       "\n",
       "          per  per_number shortname_2  len_street_number  \n",
       "18   переулок           1         NaN                NaN  \n",
       "31   переулок           1         NaN                NaN  \n",
       "34   переулок           1         NaN                NaN  \n",
       "78   переулок           1         NaN                NaN  \n",
       "82   переулок           1         NaN                NaN  \n",
       "99   переулок           1         NaN                NaN  \n",
       "113  переулок           1         NaN                NaN  \n",
       "160  переулок           1         NaN                NaN  \n",
       "213  переулок           1         NaN                NaN  \n",
       "219  переулок           1         NaN                NaN  \n",
       "223  переулок           1         NaN                NaN  \n",
       "247  переулок           1         NaN                NaN  \n",
       "250  переулок           1         NaN                NaN  \n",
       "252  переулок           1         NaN                NaN  \n",
       "253  переулок           1         NaN                NaN  \n",
       "266  переулок           1         NaN                NaN  \n",
       "271  переулок           1         NaN                NaN  \n",
       "292  переулок           1         NaN                NaN  \n",
       "293  переулок           1         NaN                NaN  \n",
       "294  переулок           1         NaN                NaN  \n",
       "295  переулок           1         NaN                NaN  \n",
       "296  переулок           1         NaN                NaN  \n",
       "298  переулок           1         NaN                NaN  \n",
       "313  переулок           1         NaN                NaN  \n",
       "329  переулок           1         NaN                NaN  \n",
       "335  переулок           1         NaN                NaN  \n",
       "393  переулок           1         NaN                NaN  \n",
       "413  переулок           1         NaN                NaN  \n",
       "442  переулок           3         NaN                NaN  \n",
       "443  переулок           4         NaN                NaN  \n",
       "444  переулок           1         NaN                NaN  \n",
       "445  переулок           1         NaN                NaN  \n",
       "446  переулок           2         NaN                NaN  \n",
       "447  переулок           1         NaN                NaN  "
      ]
     },
     "execution_count": 150,
     "metadata": {},
     "output_type": "execute_result"
    }
   ],
   "source": [
    "need_cities"
   ]
  },
  {
   "cell_type": "code",
   "execution_count": null,
   "metadata": {},
   "outputs": [],
   "source": []
  },
  {
   "cell_type": "markdown",
   "metadata": {},
   "source": [
    "### Где любят Ленина сильнее ###"
   ]
  },
  {
   "cell_type": "code",
   "execution_count": 143,
   "metadata": {},
   "outputs": [],
   "source": [
    "work = pd.read_csv('C:/00_Projects/Lenin/Datasets/04_work_data/work_region.csv')"
   ]
  },
  {
   "cell_type": "code",
   "execution_count": 147,
   "metadata": {},
   "outputs": [],
   "source": [
    "weight = pd.read_csv('C:/00_Projects/Lenin/Datasets/04_work_data/work_weight.csv')"
   ]
  },
  {
   "cell_type": "code",
   "execution_count": null,
   "metadata": {},
   "outputs": [],
   "source": []
  },
  {
   "cell_type": "code",
   "execution_count": 149,
   "metadata": {},
   "outputs": [],
   "source": [
    "#.to_excel('C:/00_Projects/Lenin/Datasets/04_work_data/temp.xlsx', encoding='utf-8', index=False)"
   ]
  },
  {
   "cell_type": "code",
   "execution_count": null,
   "metadata": {},
   "outputs": [],
   "source": []
  },
  {
   "cell_type": "code",
   "execution_count": null,
   "metadata": {},
   "outputs": [],
   "source": []
  }
 ],
 "metadata": {
  "kernelspec": {
   "display_name": "Python 3",
   "language": "python",
   "name": "python3"
  },
  "language_info": {
   "codemirror_mode": {
    "name": "ipython",
    "version": 3
   },
   "file_extension": ".py",
   "mimetype": "text/x-python",
   "name": "python",
   "nbconvert_exporter": "python",
   "pygments_lexer": "ipython3",
   "version": "3.7.4"
  }
 },
 "nbformat": 4,
 "nbformat_minor": 2
}
