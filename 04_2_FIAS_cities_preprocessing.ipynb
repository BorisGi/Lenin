{
 "cells": [
  {
   "cell_type": "markdown",
   "metadata": {},
   "source": [
    "Создаем \"городской\" датасет"
   ]
  },
  {
   "cell_type": "code",
   "execution_count": 1,
   "metadata": {},
   "outputs": [],
   "source": [
    "import pandas as pd\n",
    "import numpy as np\n",
    "\n",
    "import re\n",
    "\n",
    "\n",
    "import matplotlib.pyplot as plt\n",
    "import seaborn as sns\n",
    "\n",
    "%matplotlib inline"
   ]
  },
  {
   "cell_type": "markdown",
   "metadata": {},
   "source": [
    "## Загружаем датасеты ##\n",
    "\n",
    "Ленинские города и поселки уже не нужны, их всего 5, они только исказят картину."
   ]
  },
  {
   "cell_type": "markdown",
   "metadata": {},
   "source": [
    "### Города и поселки ###"
   ]
  },
  {
   "cell_type": "code",
   "execution_count": 2,
   "metadata": {},
   "outputs": [],
   "source": [
    "# загружаем все города и поселки\n",
    "\n",
    "all_cities = pd.read_excel('C:/00_Projects/Lenin/Datasets/01_FIAS/03_all_cities.xlsx', sheet_name='cities')"
   ]
  },
  {
   "cell_type": "markdown",
   "metadata": {},
   "source": [
    "### Улицы ###"
   ]
  },
  {
   "cell_type": "code",
   "execution_count": 3,
   "metadata": {},
   "outputs": [],
   "source": [
    "# загружаем все улицы\n",
    "\n",
    "work_streets = pd.read_csv('C:/00_Projects/Lenin/Datasets/01_FIAS/05_all_streets.csv')"
   ]
  },
  {
   "cell_type": "code",
   "execution_count": 4,
   "metadata": {},
   "outputs": [],
   "source": [
    "# загружаем ленинские улицы (только точные)\n",
    "\n",
    "lenin_streets_strict = pd.read_excel('C:/00_Projects/Lenin/Datasets/01_FIAS/06_lenin_streets.xlsx', sheet_name='lenin')"
   ]
  },
  {
   "cell_type": "code",
   "execution_count": 5,
   "metadata": {},
   "outputs": [],
   "source": [
    "# загружаем ленинские улицы (без переулков)\n",
    "\n",
    "lenin_only_streets = pd.read_excel('C:/00_Projects/Lenin/Datasets/01_FIAS/06_lenin_streets.xlsx', sheet_name='lenin_os')"
   ]
  },
  {
   "cell_type": "markdown",
   "metadata": {},
   "source": [
    "### Памятники ###"
   ]
  },
  {
   "cell_type": "code",
   "execution_count": 6,
   "metadata": {},
   "outputs": [],
   "source": [
    "# Загружаем памятники из ОКН\n",
    "\n",
    "lenin_monuments_OKN = pd.read_excel('C:/00_Projects/Lenin/Datasets/02_Monuments/08_lenin_reestrOKN.xlsx',\n",
    "                                     sheet_name='need')"
   ]
  },
  {
   "cell_type": "code",
   "execution_count": 7,
   "metadata": {},
   "outputs": [],
   "source": [
    "# Загружаем памятники из базы leninstatues\n",
    "\n",
    "lenin_monuments_lst = pd.read_excel('C:/00_Projects/Lenin/Datasets/02_Monuments/09_lenin_monuments.xlsx',\n",
    "                                     sheet_name='need')"
   ]
  },
  {
   "cell_type": "code",
   "execution_count": null,
   "metadata": {},
   "outputs": [],
   "source": []
  },
  {
   "cell_type": "markdown",
   "metadata": {},
   "source": [
    "### Столицы регионов ###"
   ]
  },
  {
   "cell_type": "code",
   "execution_count": 8,
   "metadata": {},
   "outputs": [],
   "source": [
    "# загружаем столицы регионов\n",
    "\n",
    "reg_capitals = pd.read_excel('C:/00_Projects/Lenin/Datasets/03_Other/region_name.xlsx', sheet_name='reg_capitals')"
   ]
  },
  {
   "cell_type": "code",
   "execution_count": null,
   "metadata": {},
   "outputs": [],
   "source": []
  },
  {
   "cell_type": "markdown",
   "metadata": {},
   "source": [
    "### Города с населением больше 100 тыс. ###"
   ]
  },
  {
   "cell_type": "code",
   "execution_count": 9,
   "metadata": {},
   "outputs": [],
   "source": [
    "cities_100 = pd.read_excel('C:/00_Projects/Lenin/Datasets/03_Other/cities_rf_100_ph.xlsx', sheet_name='cities_100')"
   ]
  },
  {
   "cell_type": "code",
   "execution_count": null,
   "metadata": {},
   "outputs": [],
   "source": []
  },
  {
   "cell_type": "markdown",
   "metadata": {},
   "source": [
    "### Названия регионов для Datawrapper ###"
   ]
  },
  {
   "cell_type": "code",
   "execution_count": 10,
   "metadata": {},
   "outputs": [],
   "source": [
    "region_name = pd.read_excel('C:/00_Projects/Lenin/Datasets/03_Other/region_name.xlsx', sheet_name='reg_name')"
   ]
  },
  {
   "cell_type": "code",
   "execution_count": 11,
   "metadata": {},
   "outputs": [],
   "source": [
    "region_work_only_city = region_name[['datawrapperName', 'region']]"
   ]
  },
  {
   "cell_type": "code",
   "execution_count": null,
   "metadata": {},
   "outputs": [],
   "source": []
  },
  {
   "cell_type": "markdown",
   "metadata": {},
   "source": [
    "## Считаем столицы регионов ##"
   ]
  },
  {
   "cell_type": "code",
   "execution_count": null,
   "metadata": {},
   "outputs": [],
   "source": []
  },
  {
   "cell_type": "code",
   "execution_count": 12,
   "metadata": {},
   "outputs": [],
   "source": [
    "# считаем количество улиц по населенным пунктам\n",
    "\n",
    "city_lsts_strict_all = (lenin_streets_strict\n",
    "                        .groupby(['region', 'mun_district', 'city', 'city_type'], as_index=False)\n",
    "                        .agg({'street': 'count'})\n",
    "                        .rename(columns={'street': 'lenin_street_number'})\n",
    "                       )"
   ]
  },
  {
   "cell_type": "code",
   "execution_count": 13,
   "metadata": {},
   "outputs": [],
   "source": [
    "# считаем количество памятников из реестра ОКН по населенным пунктам\n",
    "\n",
    "city_monuments_OKN_all = (lenin_monuments_OKN\n",
    "                          .groupby(['region', 'mun_district', 'city', 'city_type'], as_index=False)\n",
    "                          .agg({'monument': 'count'})\n",
    "                          .rename(columns={'monument': 'OKN_number'})\n",
    "                         )"
   ]
  },
  {
   "cell_type": "code",
   "execution_count": 14,
   "metadata": {},
   "outputs": [],
   "source": [
    "# считаем количество памятников из базы lst по населенным пунктам\n",
    "\n",
    "city_monuments_lst_all = (lenin_monuments_lst\n",
    "                          .groupby(['region', 'mun_district', 'city', 'city_type'], as_index=False)\n",
    "                          .agg({'original_name': 'count'})\n",
    "                          .rename(columns={'original_name': 'lst_number'})\n",
    "                         )"
   ]
  },
  {
   "cell_type": "code",
   "execution_count": 15,
   "metadata": {},
   "outputs": [],
   "source": [
    "# присоединяем\n",
    "\n",
    "reg_capitals = reg_capitals.merge(city_lsts_strict_all,\n",
    "                  on=['region', 'mun_district', 'city', 'city_type'],\n",
    "                   how='left')\n",
    "\n",
    "reg_capitals = reg_capitals.merge(city_monuments_OKN_all,\n",
    "                  on=['region', 'mun_district', 'city', 'city_type'],\n",
    "                   how='left')\n",
    "\n",
    "reg_capitals = reg_capitals.merge(city_monuments_lst_all,\n",
    "                  on=['region', 'mun_district', 'city', 'city_type'],\n",
    "                   how='left')"
   ]
  },
  {
   "cell_type": "code",
   "execution_count": 16,
   "metadata": {},
   "outputs": [],
   "source": [
    "# заполняем NaN\n",
    "\n",
    "reg_capitals.fillna(0, inplace=True)"
   ]
  },
  {
   "cell_type": "code",
   "execution_count": 17,
   "metadata": {},
   "outputs": [
    {
     "data": {
      "text/html": [
       "<div>\n",
       "<style scoped>\n",
       "    .dataframe tbody tr th:only-of-type {\n",
       "        vertical-align: middle;\n",
       "    }\n",
       "\n",
       "    .dataframe tbody tr th {\n",
       "        vertical-align: top;\n",
       "    }\n",
       "\n",
       "    .dataframe thead th {\n",
       "        text-align: right;\n",
       "    }\n",
       "</style>\n",
       "<table border=\"1\" class=\"dataframe\">\n",
       "  <thead>\n",
       "    <tr style=\"text-align: right;\">\n",
       "      <th></th>\n",
       "      <th>region</th>\n",
       "      <th>mun_district</th>\n",
       "      <th>city_type</th>\n",
       "      <th>city</th>\n",
       "      <th>lenin_street_number</th>\n",
       "      <th>OKN_number</th>\n",
       "      <th>lst_number</th>\n",
       "    </tr>\n",
       "  </thead>\n",
       "  <tbody>\n",
       "    <tr>\n",
       "      <td>27</td>\n",
       "      <td>Кировская область</td>\n",
       "      <td>Киров</td>\n",
       "      <td>г</td>\n",
       "      <td>Киров</td>\n",
       "      <td>7.0</td>\n",
       "      <td>1.0</td>\n",
       "      <td>7.0</td>\n",
       "    </tr>\n",
       "    <tr>\n",
       "      <td>35</td>\n",
       "      <td>Липецкая область</td>\n",
       "      <td>Липецк</td>\n",
       "      <td>г</td>\n",
       "      <td>Липецк</td>\n",
       "      <td>6.0</td>\n",
       "      <td>0.0</td>\n",
       "      <td>12.0</td>\n",
       "    </tr>\n",
       "    <tr>\n",
       "      <td>58</td>\n",
       "      <td>Санкт-Петербург</td>\n",
       "      <td>Санкт-Петербург</td>\n",
       "      <td>г</td>\n",
       "      <td>Санкт-Петербург</td>\n",
       "      <td>5.0</td>\n",
       "      <td>6.0</td>\n",
       "      <td>61.0</td>\n",
       "    </tr>\n",
       "    <tr>\n",
       "      <td>15</td>\n",
       "      <td>Воронежская область</td>\n",
       "      <td>Воронеж</td>\n",
       "      <td>г</td>\n",
       "      <td>Воронеж</td>\n",
       "      <td>5.0</td>\n",
       "      <td>1.0</td>\n",
       "      <td>13.0</td>\n",
       "    </tr>\n",
       "    <tr>\n",
       "      <td>46</td>\n",
       "      <td>Омская область</td>\n",
       "      <td>Омск</td>\n",
       "      <td>г</td>\n",
       "      <td>Омск</td>\n",
       "      <td>4.0</td>\n",
       "      <td>7.0</td>\n",
       "      <td>17.0</td>\n",
       "    </tr>\n",
       "    <tr>\n",
       "      <td>13</td>\n",
       "      <td>Волгоградская область</td>\n",
       "      <td>Волгоград</td>\n",
       "      <td>г</td>\n",
       "      <td>Волгоград</td>\n",
       "      <td>4.0</td>\n",
       "      <td>2.0</td>\n",
       "      <td>16.0</td>\n",
       "    </tr>\n",
       "    <tr>\n",
       "      <td>12</td>\n",
       "      <td>Владимирская область</td>\n",
       "      <td>Владимир</td>\n",
       "      <td>г</td>\n",
       "      <td>Владимир</td>\n",
       "      <td>4.0</td>\n",
       "      <td>2.0</td>\n",
       "      <td>8.0</td>\n",
       "    </tr>\n",
       "    <tr>\n",
       "      <td>18</td>\n",
       "      <td>Свердловская область</td>\n",
       "      <td>Екатеринбург</td>\n",
       "      <td>г</td>\n",
       "      <td>Екатеринбург</td>\n",
       "      <td>4.0</td>\n",
       "      <td>1.0</td>\n",
       "      <td>11.0</td>\n",
       "    </tr>\n",
       "    <tr>\n",
       "      <td>51</td>\n",
       "      <td>Карелия</td>\n",
       "      <td>Петрозаводск</td>\n",
       "      <td>г</td>\n",
       "      <td>Петрозаводск</td>\n",
       "      <td>4.0</td>\n",
       "      <td>1.0</td>\n",
       "      <td>3.0</td>\n",
       "    </tr>\n",
       "    <tr>\n",
       "      <td>32</td>\n",
       "      <td>Курганская область</td>\n",
       "      <td>Курган</td>\n",
       "      <td>г</td>\n",
       "      <td>Курган</td>\n",
       "      <td>4.0</td>\n",
       "      <td>1.0</td>\n",
       "      <td>6.0</td>\n",
       "    </tr>\n",
       "  </tbody>\n",
       "</table>\n",
       "</div>"
      ],
      "text/plain": [
       "                   region     mun_district city_type             city  \\\n",
       "27      Кировская область            Киров         г            Киров   \n",
       "35       Липецкая область           Липецк         г           Липецк   \n",
       "58        Санкт-Петербург  Санкт-Петербург         г  Санкт-Петербург   \n",
       "15    Воронежская область          Воронеж         г          Воронеж   \n",
       "46         Омская область             Омск         г             Омск   \n",
       "13  Волгоградская область        Волгоград         г        Волгоград   \n",
       "12   Владимирская область         Владимир         г         Владимир   \n",
       "18   Свердловская область     Екатеринбург         г     Екатеринбург   \n",
       "51                Карелия     Петрозаводск         г     Петрозаводск   \n",
       "32     Курганская область           Курган         г           Курган   \n",
       "\n",
       "    lenin_street_number  OKN_number  lst_number  \n",
       "27                  7.0         1.0         7.0  \n",
       "35                  6.0         0.0        12.0  \n",
       "58                  5.0         6.0        61.0  \n",
       "15                  5.0         1.0        13.0  \n",
       "46                  4.0         7.0        17.0  \n",
       "13                  4.0         2.0        16.0  \n",
       "12                  4.0         2.0         8.0  \n",
       "18                  4.0         1.0        11.0  \n",
       "51                  4.0         1.0         3.0  \n",
       "32                  4.0         1.0         6.0  "
      ]
     },
     "execution_count": 17,
     "metadata": {},
     "output_type": "execute_result"
    }
   ],
   "source": [
    "reg_capitals.sort_values('lenin_street_number', ascending=False).head(10)"
   ]
  },
  {
   "cell_type": "code",
   "execution_count": 18,
   "metadata": {},
   "outputs": [
    {
     "data": {
      "text/html": [
       "<div>\n",
       "<style scoped>\n",
       "    .dataframe tbody tr th:only-of-type {\n",
       "        vertical-align: middle;\n",
       "    }\n",
       "\n",
       "    .dataframe tbody tr th {\n",
       "        vertical-align: top;\n",
       "    }\n",
       "\n",
       "    .dataframe thead th {\n",
       "        text-align: right;\n",
       "    }\n",
       "</style>\n",
       "<table border=\"1\" class=\"dataframe\">\n",
       "  <thead>\n",
       "    <tr style=\"text-align: right;\">\n",
       "      <th></th>\n",
       "      <th>lenin_street_number</th>\n",
       "      <th>OKN_number</th>\n",
       "      <th>lst_number</th>\n",
       "    </tr>\n",
       "  </thead>\n",
       "  <tbody>\n",
       "    <tr>\n",
       "      <td>count</td>\n",
       "      <td>85.000000</td>\n",
       "      <td>85.000000</td>\n",
       "      <td>85.000000</td>\n",
       "    </tr>\n",
       "    <tr>\n",
       "      <td>mean</td>\n",
       "      <td>2.188235</td>\n",
       "      <td>1.917647</td>\n",
       "      <td>9.329412</td>\n",
       "    </tr>\n",
       "    <tr>\n",
       "      <td>std</td>\n",
       "      <td>1.409949</td>\n",
       "      <td>2.578352</td>\n",
       "      <td>13.916749</td>\n",
       "    </tr>\n",
       "    <tr>\n",
       "      <td>min</td>\n",
       "      <td>0.000000</td>\n",
       "      <td>0.000000</td>\n",
       "      <td>0.000000</td>\n",
       "    </tr>\n",
       "    <tr>\n",
       "      <td>25%</td>\n",
       "      <td>1.000000</td>\n",
       "      <td>1.000000</td>\n",
       "      <td>3.000000</td>\n",
       "    </tr>\n",
       "    <tr>\n",
       "      <td>50%</td>\n",
       "      <td>2.000000</td>\n",
       "      <td>1.000000</td>\n",
       "      <td>7.000000</td>\n",
       "    </tr>\n",
       "    <tr>\n",
       "      <td>75%</td>\n",
       "      <td>3.000000</td>\n",
       "      <td>2.000000</td>\n",
       "      <td>11.000000</td>\n",
       "    </tr>\n",
       "    <tr>\n",
       "      <td>max</td>\n",
       "      <td>7.000000</td>\n",
       "      <td>19.000000</td>\n",
       "      <td>112.000000</td>\n",
       "    </tr>\n",
       "  </tbody>\n",
       "</table>\n",
       "</div>"
      ],
      "text/plain": [
       "       lenin_street_number  OKN_number  lst_number\n",
       "count            85.000000   85.000000   85.000000\n",
       "mean              2.188235    1.917647    9.329412\n",
       "std               1.409949    2.578352   13.916749\n",
       "min               0.000000    0.000000    0.000000\n",
       "25%               1.000000    1.000000    3.000000\n",
       "50%               2.000000    1.000000    7.000000\n",
       "75%               3.000000    2.000000   11.000000\n",
       "max               7.000000   19.000000  112.000000"
      ]
     },
     "execution_count": 18,
     "metadata": {},
     "output_type": "execute_result"
    }
   ],
   "source": [
    "reg_capitals.describe()"
   ]
  },
  {
   "cell_type": "code",
   "execution_count": 19,
   "metadata": {},
   "outputs": [
    {
     "data": {
      "text/plain": [
       "Text(0.5, 0.98, '')"
      ]
     },
     "execution_count": 19,
     "metadata": {},
     "output_type": "execute_result"
    },
    {
     "data": {
      "image/png": "[encoded data removed]",
      "text/plain": [
       "<Figure size 432x288 with 1 Axes>"
      ]
     },
     "metadata": {
      "needs_background": "light"
     },
     "output_type": "display_data"
    }
   ],
   "source": [
    "ax = reg_capitals.boxplot(column='lst_number')\n",
    "\n",
    "ax.get_figure().suptitle('')"
   ]
  },
  {
   "cell_type": "code",
   "execution_count": null,
   "metadata": {},
   "outputs": [],
   "source": []
  },
  {
   "cell_type": "markdown",
   "metadata": {},
   "source": [
    "### Города 100-тысячники ###"
   ]
  },
  {
   "cell_type": "code",
   "execution_count": 20,
   "metadata": {},
   "outputs": [
    {
     "data": {
      "text/html": [
       "<div>\n",
       "<style scoped>\n",
       "    .dataframe tbody tr th:only-of-type {\n",
       "        vertical-align: middle;\n",
       "    }\n",
       "\n",
       "    .dataframe tbody tr th {\n",
       "        vertical-align: top;\n",
       "    }\n",
       "\n",
       "    .dataframe thead th {\n",
       "        text-align: right;\n",
       "    }\n",
       "</style>\n",
       "<table border=\"1\" class=\"dataframe\">\n",
       "  <thead>\n",
       "    <tr style=\"text-align: right;\">\n",
       "      <th></th>\n",
       "      <th>region</th>\n",
       "      <th>mun_district</th>\n",
       "      <th>city_type</th>\n",
       "      <th>city</th>\n",
       "      <th>population</th>\n",
       "    </tr>\n",
       "  </thead>\n",
       "  <tbody>\n",
       "    <tr>\n",
       "      <td>0</td>\n",
       "      <td>Москва</td>\n",
       "      <td>Москва</td>\n",
       "      <td>г</td>\n",
       "      <td>Москва</td>\n",
       "      <td>12678079</td>\n",
       "    </tr>\n",
       "    <tr>\n",
       "      <td>1</td>\n",
       "      <td>Санкт-Петербург</td>\n",
       "      <td>Санкт-Петербург</td>\n",
       "      <td>г</td>\n",
       "      <td>Санкт-Петербург</td>\n",
       "      <td>5398064</td>\n",
       "    </tr>\n",
       "    <tr>\n",
       "      <td>2</td>\n",
       "      <td>Новосибирская область</td>\n",
       "      <td>Новосибирск</td>\n",
       "      <td>г</td>\n",
       "      <td>Новосибирск</td>\n",
       "      <td>1625631</td>\n",
       "    </tr>\n",
       "    <tr>\n",
       "      <td>3</td>\n",
       "      <td>Свердловская область</td>\n",
       "      <td>Екатеринбург</td>\n",
       "      <td>г</td>\n",
       "      <td>Екатеринбург</td>\n",
       "      <td>1493749</td>\n",
       "    </tr>\n",
       "    <tr>\n",
       "      <td>4</td>\n",
       "      <td>Татарстан</td>\n",
       "      <td>Казань</td>\n",
       "      <td>г</td>\n",
       "      <td>Казань</td>\n",
       "      <td>1257391</td>\n",
       "    </tr>\n",
       "    <tr>\n",
       "      <td>...</td>\n",
       "      <td>...</td>\n",
       "      <td>...</td>\n",
       "      <td>...</td>\n",
       "      <td>...</td>\n",
       "      <td>...</td>\n",
       "    </tr>\n",
       "    <tr>\n",
       "      <td>168</td>\n",
       "      <td>Ханты-Мансийский АО</td>\n",
       "      <td>Ханты-Мансийск</td>\n",
       "      <td>г</td>\n",
       "      <td>Ханты-Мансийск</td>\n",
       "      <td>101466</td>\n",
       "    </tr>\n",
       "    <tr>\n",
       "      <td>169</td>\n",
       "      <td>Самарская область</td>\n",
       "      <td>Новокуйбышевск</td>\n",
       "      <td>г</td>\n",
       "      <td>Новокуйбышевск</td>\n",
       "      <td>100455</td>\n",
       "    </tr>\n",
       "    <tr>\n",
       "      <td>170</td>\n",
       "      <td>Курская область</td>\n",
       "      <td>Железногорск</td>\n",
       "      <td>г</td>\n",
       "      <td>Железногорск</td>\n",
       "      <td>100446</td>\n",
       "    </tr>\n",
       "    <tr>\n",
       "      <td>171</td>\n",
       "      <td>Московская область</td>\n",
       "      <td>Сергиев Посад</td>\n",
       "      <td>г</td>\n",
       "      <td>Сергиев Посад</td>\n",
       "      <td>100335</td>\n",
       "    </tr>\n",
       "    <tr>\n",
       "      <td>172</td>\n",
       "      <td>Татарстан</td>\n",
       "      <td>Зеленодольский</td>\n",
       "      <td>г</td>\n",
       "      <td>Зеленодольск</td>\n",
       "      <td>100039</td>\n",
       "    </tr>\n",
       "  </tbody>\n",
       "</table>\n",
       "<p>173 rows × 5 columns</p>\n",
       "</div>"
      ],
      "text/plain": [
       "                    region     mun_district city_type             city  \\\n",
       "0                   Москва           Москва         г           Москва   \n",
       "1          Санкт-Петербург  Санкт-Петербург         г  Санкт-Петербург   \n",
       "2    Новосибирская область      Новосибирск         г      Новосибирск   \n",
       "3     Свердловская область     Екатеринбург         г     Екатеринбург   \n",
       "4                Татарстан           Казань         г           Казань   \n",
       "..                     ...              ...       ...              ...   \n",
       "168    Ханты-Мансийский АО   Ханты-Мансийск         г   Ханты-Мансийск   \n",
       "169      Самарская область   Новокуйбышевск         г   Новокуйбышевск   \n",
       "170        Курская область     Железногорск         г     Железногорск   \n",
       "171     Московская область    Сергиев Посад         г    Сергиев Посад   \n",
       "172              Татарстан   Зеленодольский         г     Зеленодольск   \n",
       "\n",
       "     population  \n",
       "0      12678079  \n",
       "1       5398064  \n",
       "2       1625631  \n",
       "3       1493749  \n",
       "4       1257391  \n",
       "..          ...  \n",
       "168      101466  \n",
       "169      100455  \n",
       "170      100446  \n",
       "171      100335  \n",
       "172      100039  \n",
       "\n",
       "[173 rows x 5 columns]"
      ]
     },
     "execution_count": 20,
     "metadata": {},
     "output_type": "execute_result"
    }
   ],
   "source": [
    "cities_100"
   ]
  },
  {
   "cell_type": "code",
   "execution_count": 21,
   "metadata": {},
   "outputs": [],
   "source": [
    "# группируем ленинские улицы (вариант без переулков) \n",
    "\n",
    "lenin_only_streets_temp = (lenin_only_streets\n",
    "                           .groupby(['region', 'mun_district', 'city_type', 'city'], as_index=False)\n",
    "                           .agg({'street': 'count'})\n",
    "                           .rename(columns={'street': 'lenin_street_number'})\n",
    "                          )"
   ]
  },
  {
   "cell_type": "code",
   "execution_count": 22,
   "metadata": {},
   "outputs": [],
   "source": [
    "# группируем памятники ОКН \n",
    "\n",
    "lenin_monuments_OKN_temp = (lenin_monuments_OKN\n",
    "                            .groupby(['region', 'mun_district', 'city_type', 'city'], as_index=False)\n",
    "                            .agg({'monument': 'count'})\n",
    "                            .rename(columns={'monument': 'monument_OKN_number'})\n",
    "                           )"
   ]
  },
  {
   "cell_type": "code",
   "execution_count": 23,
   "metadata": {},
   "outputs": [],
   "source": [
    "# группируем памятники lst\n",
    "\n",
    "lenin_monuments_lst_temp = (lenin_monuments_lst\n",
    "                       .groupby(['region', 'mun_district', 'city_type', 'city'], as_index=False)\n",
    "                       .agg({'original_name': 'count'})\n",
    "                       .rename(columns={'original_name': 'monument_lst_number'})\n",
    "                      )"
   ]
  },
  {
   "cell_type": "code",
   "execution_count": 24,
   "metadata": {},
   "outputs": [],
   "source": [
    "# считаем общее количество улиц\n",
    "\n",
    "total_streets_temp = (work_streets\n",
    "                      .groupby(['region', 'mun_district', 'city_type', 'city'], as_index=False)\n",
    "                      .agg({'street': 'count'})\n",
    "                      .rename(columns={'street': 'street_number'})\n",
    "                     )"
   ]
  },
  {
   "cell_type": "code",
   "execution_count": null,
   "metadata": {},
   "outputs": [],
   "source": []
  },
  {
   "cell_type": "code",
   "execution_count": 25,
   "metadata": {},
   "outputs": [],
   "source": [
    "cities_100 = cities_100.merge(total_streets_temp,\n",
    "                              on=['region', 'mun_district', 'city_type', 'city'],\n",
    "                              how='left'\n",
    "                             )\n",
    "\n",
    "cities_100 = cities_100.merge(lenin_only_streets_temp,\n",
    "                              on=['region', 'mun_district', 'city_type', 'city'],\n",
    "                              how='left'\n",
    "                             )\n",
    "\n",
    "cities_100 = cities_100.merge(lenin_monuments_OKN_temp,\n",
    "                              on=['region', 'mun_district', 'city_type', 'city'],\n",
    "                              how='left'\n",
    "                             )\n",
    "\n",
    "cities_100 = cities_100.merge(lenin_monuments_lst_temp,\n",
    "                              on=['region', 'mun_district', 'city_type', 'city'],\n",
    "                              how='left'\n",
    "                             )"
   ]
  },
  {
   "cell_type": "code",
   "execution_count": 26,
   "metadata": {},
   "outputs": [],
   "source": [
    "# заполняем NaN-значения\n",
    "\n",
    "cities_100.fillna(0, inplace=True)"
   ]
  },
  {
   "cell_type": "code",
   "execution_count": 27,
   "metadata": {},
   "outputs": [
    {
     "data": {
      "text/html": [
       "<div>\n",
       "<style scoped>\n",
       "    .dataframe tbody tr th:only-of-type {\n",
       "        vertical-align: middle;\n",
       "    }\n",
       "\n",
       "    .dataframe tbody tr th {\n",
       "        vertical-align: top;\n",
       "    }\n",
       "\n",
       "    .dataframe thead th {\n",
       "        text-align: right;\n",
       "    }\n",
       "</style>\n",
       "<table border=\"1\" class=\"dataframe\">\n",
       "  <thead>\n",
       "    <tr style=\"text-align: right;\">\n",
       "      <th></th>\n",
       "      <th>region</th>\n",
       "      <th>mun_district</th>\n",
       "      <th>city_type</th>\n",
       "      <th>city</th>\n",
       "      <th>population</th>\n",
       "      <th>street_number</th>\n",
       "      <th>lenin_street_number</th>\n",
       "      <th>monument_OKN_number</th>\n",
       "      <th>monument_lst_number</th>\n",
       "    </tr>\n",
       "  </thead>\n",
       "  <tbody>\n",
       "    <tr>\n",
       "      <td>0</td>\n",
       "      <td>Москва</td>\n",
       "      <td>Москва</td>\n",
       "      <td>г</td>\n",
       "      <td>Москва</td>\n",
       "      <td>12678079</td>\n",
       "      <td>3521</td>\n",
       "      <td>3.0</td>\n",
       "      <td>9.0</td>\n",
       "      <td>112.0</td>\n",
       "    </tr>\n",
       "    <tr>\n",
       "      <td>1</td>\n",
       "      <td>Санкт-Петербург</td>\n",
       "      <td>Санкт-Петербург</td>\n",
       "      <td>г</td>\n",
       "      <td>Санкт-Петербург</td>\n",
       "      <td>5398064</td>\n",
       "      <td>2170</td>\n",
       "      <td>5.0</td>\n",
       "      <td>6.0</td>\n",
       "      <td>61.0</td>\n",
       "    </tr>\n",
       "    <tr>\n",
       "      <td>5</td>\n",
       "      <td>Нижегородская область</td>\n",
       "      <td>Нижний Новгород</td>\n",
       "      <td>г</td>\n",
       "      <td>Нижний Новгород</td>\n",
       "      <td>1252236</td>\n",
       "      <td>1406</td>\n",
       "      <td>3.0</td>\n",
       "      <td>3.0</td>\n",
       "      <td>27.0</td>\n",
       "    </tr>\n",
       "    <tr>\n",
       "      <td>15</td>\n",
       "      <td>Краснодарский край</td>\n",
       "      <td>Краснодар</td>\n",
       "      <td>г</td>\n",
       "      <td>Краснодар</td>\n",
       "      <td>932629</td>\n",
       "      <td>2050</td>\n",
       "      <td>2.0</td>\n",
       "      <td>19.0</td>\n",
       "      <td>24.0</td>\n",
       "    </tr>\n",
       "    <tr>\n",
       "      <td>16</td>\n",
       "      <td>Саратовская область</td>\n",
       "      <td>Саратов</td>\n",
       "      <td>г</td>\n",
       "      <td>Саратов</td>\n",
       "      <td>838042</td>\n",
       "      <td>3152</td>\n",
       "      <td>1.0</td>\n",
       "      <td>0.0</td>\n",
       "      <td>22.0</td>\n",
       "    </tr>\n",
       "    <tr>\n",
       "      <td>...</td>\n",
       "      <td>...</td>\n",
       "      <td>...</td>\n",
       "      <td>...</td>\n",
       "      <td>...</td>\n",
       "      <td>...</td>\n",
       "      <td>...</td>\n",
       "      <td>...</td>\n",
       "      <td>...</td>\n",
       "      <td>...</td>\n",
       "    </tr>\n",
       "    <tr>\n",
       "      <td>140</td>\n",
       "      <td>Ингушетия</td>\n",
       "      <td>Назрань</td>\n",
       "      <td>г</td>\n",
       "      <td>Назрань</td>\n",
       "      <td>122261</td>\n",
       "      <td>249</td>\n",
       "      <td>0.0</td>\n",
       "      <td>0.0</td>\n",
       "      <td>0.0</td>\n",
       "    </tr>\n",
       "    <tr>\n",
       "      <td>67</td>\n",
       "      <td>Чечня</td>\n",
       "      <td>Грозный</td>\n",
       "      <td>г</td>\n",
       "      <td>Грозный</td>\n",
       "      <td>305911</td>\n",
       "      <td>1523</td>\n",
       "      <td>0.0</td>\n",
       "      <td>1.0</td>\n",
       "      <td>0.0</td>\n",
       "    </tr>\n",
       "    <tr>\n",
       "      <td>132</td>\n",
       "      <td>Ханты-Мансийский АО</td>\n",
       "      <td>Нефтеюганск</td>\n",
       "      <td>г</td>\n",
       "      <td>Нефтеюганск</td>\n",
       "      <td>127255</td>\n",
       "      <td>31</td>\n",
       "      <td>1.0</td>\n",
       "      <td>0.0</td>\n",
       "      <td>0.0</td>\n",
       "    </tr>\n",
       "    <tr>\n",
       "      <td>72</td>\n",
       "      <td>Ханты-Мансийский АО</td>\n",
       "      <td>Нижневартовск</td>\n",
       "      <td>г</td>\n",
       "      <td>Нижневартовск</td>\n",
       "      <td>277668</td>\n",
       "      <td>161</td>\n",
       "      <td>1.0</td>\n",
       "      <td>0.0</td>\n",
       "      <td>0.0</td>\n",
       "    </tr>\n",
       "    <tr>\n",
       "      <td>145</td>\n",
       "      <td>Ямало-Ненецкий АО</td>\n",
       "      <td>Новый Уренгой</td>\n",
       "      <td>г</td>\n",
       "      <td>Новый Уренгой</td>\n",
       "      <td>118033</td>\n",
       "      <td>307</td>\n",
       "      <td>1.0</td>\n",
       "      <td>0.0</td>\n",
       "      <td>0.0</td>\n",
       "    </tr>\n",
       "  </tbody>\n",
       "</table>\n",
       "<p>173 rows × 9 columns</p>\n",
       "</div>"
      ],
      "text/plain": [
       "                    region     mun_district city_type             city  \\\n",
       "0                   Москва           Москва         г           Москва   \n",
       "1          Санкт-Петербург  Санкт-Петербург         г  Санкт-Петербург   \n",
       "5    Нижегородская область  Нижний Новгород         г  Нижний Новгород   \n",
       "15      Краснодарский край        Краснодар         г        Краснодар   \n",
       "16     Саратовская область          Саратов         г          Саратов   \n",
       "..                     ...              ...       ...              ...   \n",
       "140              Ингушетия          Назрань         г          Назрань   \n",
       "67                   Чечня          Грозный         г          Грозный   \n",
       "132    Ханты-Мансийский АО      Нефтеюганск         г      Нефтеюганск   \n",
       "72     Ханты-Мансийский АО    Нижневартовск         г    Нижневартовск   \n",
       "145      Ямало-Ненецкий АО    Новый Уренгой         г    Новый Уренгой   \n",
       "\n",
       "     population  street_number  lenin_street_number  monument_OKN_number  \\\n",
       "0      12678079           3521                  3.0                  9.0   \n",
       "1       5398064           2170                  5.0                  6.0   \n",
       "5       1252236           1406                  3.0                  3.0   \n",
       "15       932629           2050                  2.0                 19.0   \n",
       "16       838042           3152                  1.0                  0.0   \n",
       "..          ...            ...                  ...                  ...   \n",
       "140      122261            249                  0.0                  0.0   \n",
       "67       305911           1523                  0.0                  1.0   \n",
       "132      127255             31                  1.0                  0.0   \n",
       "72       277668            161                  1.0                  0.0   \n",
       "145      118033            307                  1.0                  0.0   \n",
       "\n",
       "     monument_lst_number  \n",
       "0                  112.0  \n",
       "1                   61.0  \n",
       "5                   27.0  \n",
       "15                  24.0  \n",
       "16                  22.0  \n",
       "..                   ...  \n",
       "140                  0.0  \n",
       "67                   0.0  \n",
       "132                  0.0  \n",
       "72                   0.0  \n",
       "145                  0.0  \n",
       "\n",
       "[173 rows x 9 columns]"
      ]
     },
     "execution_count": 27,
     "metadata": {},
     "output_type": "execute_result"
    }
   ],
   "source": [
    "cities_100.sort_values('monument_lst_number', ascending=False)"
   ]
  },
  {
   "cell_type": "code",
   "execution_count": 28,
   "metadata": {},
   "outputs": [],
   "source": [
    "cities_100['monument_weight'] = round(cities_100.monument_lst_number  / cities_100.street_number, 4)"
   ]
  },
  {
   "cell_type": "code",
   "execution_count": 29,
   "metadata": {},
   "outputs": [],
   "source": [
    "cities_100['monument_OKN_weight'] = round(cities_100.monument_OKN_number / cities_100.street_number, 4)"
   ]
  },
  {
   "cell_type": "code",
   "execution_count": 30,
   "metadata": {},
   "outputs": [
    {
     "data": {
      "text/plain": [
       "(173, 11)"
      ]
     },
     "execution_count": 30,
     "metadata": {},
     "output_type": "execute_result"
    }
   ],
   "source": [
    "cities_100.shape"
   ]
  },
  {
   "cell_type": "markdown",
   "metadata": {},
   "source": [
    "## Записываем результат ##"
   ]
  },
  {
   "cell_type": "code",
   "execution_count": 31,
   "metadata": {},
   "outputs": [],
   "source": [
    "# записываем csv\n",
    "\n",
    "cities_100.to_csv('C:/00_Projects/Lenin/Datasets/04_work_data/cities_100.csv', sep=',', encoding='utf-8', index=False)"
   ]
  },
  {
   "cell_type": "code",
   "execution_count": null,
   "metadata": {},
   "outputs": [],
   "source": []
  }
 ],
 "metadata": {
  "kernelspec": {
   "display_name": "Python 3",
   "language": "python",
   "name": "python3"
  },
  "language_info": {
   "codemirror_mode": {
    "name": "ipython",
    "version": 3
   },
   "file_extension": ".py",
   "mimetype": "text/x-python",
   "name": "python",
   "nbconvert_exporter": "python",
   "pygments_lexer": "ipython3",
   "version": "3.7.4"
  }
 },
 "nbformat": 4,
 "nbformat_minor": 2
}
