{
 "cells": [
  {
   "cell_type": "code",
   "execution_count": 1,
   "metadata": {},
   "outputs": [],
   "source": [
    "import pandas as pd\n",
    "import numpy as np\n",
    "\n",
    "\n",
    "import matplotlib.pyplot as plt\n",
    "import seaborn as sns\n",
    "\n",
    "%matplotlib inline"
   ]
  },
  {
   "cell_type": "markdown",
   "metadata": {},
   "source": [
    "## Загружаем датасеты ##\n",
    "\n",
    "Из исправленных и очищенных файлов"
   ]
  },
  {
   "cell_type": "markdown",
   "metadata": {},
   "source": [
    "### Города и поселки ###"
   ]
  },
  {
   "cell_type": "code",
   "execution_count": 2,
   "metadata": {},
   "outputs": [],
   "source": [
    "# загружаем все города и поселки\n",
    "\n",
    "all_cities = pd.read_excel('C:/00_Projects/Lenin/Datasets/01_FIAS/03_all_cities.xlsx', sheet_name='cities')"
   ]
  },
  {
   "cell_type": "code",
   "execution_count": 3,
   "metadata": {},
   "outputs": [],
   "source": [
    "# загружаем ленинские города и поселки, только строго \"ленинские\"\n",
    "\n",
    "lenin_cities = pd.read_excel('C:/00_Projects/Lenin/Datasets/01_FIAS/04_lenin_cities.xlsx', sheet_name='lenin_strict')"
   ]
  },
  {
   "cell_type": "markdown",
   "metadata": {},
   "source": [
    "### Улицы ###"
   ]
  },
  {
   "cell_type": "code",
   "execution_count": 4,
   "metadata": {},
   "outputs": [],
   "source": [
    "# загружаем все улицы\n",
    "\n",
    "work_streets = pd.read_csv('C:/00_Projects/Lenin/Datasets/01_FIAS/05_all_streets.csv')"
   ]
  },
  {
   "cell_type": "code",
   "execution_count": 5,
   "metadata": {},
   "outputs": [],
   "source": [
    "# загружаем ленинские улицы (полный вариант)\n",
    "\n",
    "lenin_streets_full = pd.read_excel('C:/00_Projects/Lenin/Datasets/01_FIAS/06_lenin_streets.xlsx', sheet_name='full')"
   ]
  },
  {
   "cell_type": "code",
   "execution_count": 6,
   "metadata": {},
   "outputs": [],
   "source": [
    "# загружаем ленинские улицы (только точные)\n",
    "\n",
    "lenin_streets_strict = pd.read_excel('C:/00_Projects/Lenin/Datasets/01_FIAS/06_lenin_streets.xlsx', sheet_name='lenin')"
   ]
  },
  {
   "cell_type": "code",
   "execution_count": 7,
   "metadata": {},
   "outputs": [],
   "source": [
    "# загружаем ленинские улицы (без переулков)\n",
    "\n",
    "lenin_only_streets = pd.read_excel('C:/00_Projects/Lenin/Datasets/01_FIAS/06_lenin_streets.xlsx', sheet_name='lenin_os')"
   ]
  },
  {
   "cell_type": "markdown",
   "metadata": {},
   "source": [
    "### Памятники ###"
   ]
  },
  {
   "cell_type": "code",
   "execution_count": 8,
   "metadata": {},
   "outputs": [],
   "source": [
    "# Загружаем памятники из ОКН\n",
    "\n",
    "monuments_OKN = pd.read_excel('C:/00_Projects/Lenin/Datasets/02_Monuments/08_lenin_reestrOKN.xlsx',\n",
    "                                     sheet_name='need')"
   ]
  },
  {
   "cell_type": "code",
   "execution_count": 9,
   "metadata": {},
   "outputs": [],
   "source": [
    "# Загружаем памятники из базы leninstatues\n",
    "\n",
    "monuments_lst = pd.read_excel('C:/00_Projects/Lenin/Datasets/02_Monuments/09_lenin_monuments.xlsx',\n",
    "                                     sheet_name='need')"
   ]
  },
  {
   "cell_type": "code",
   "execution_count": null,
   "metadata": {},
   "outputs": [],
   "source": []
  },
  {
   "cell_type": "markdown",
   "metadata": {},
   "source": [
    "### Названия регионов для Datawrapper ###"
   ]
  },
  {
   "cell_type": "code",
   "execution_count": 10,
   "metadata": {},
   "outputs": [],
   "source": [
    "#Загружаем названия регионов для datawrapper\n",
    "\n",
    "region_name = pd.read_excel('C:/00_Projects/Lenin/Datasets/03_Other/region_name.xlsx')"
   ]
  },
  {
   "cell_type": "code",
   "execution_count": 11,
   "metadata": {},
   "outputs": [],
   "source": [
    "# создаем рабочий датафрейм\n",
    "\n",
    "region_work = region_name[['datawrapperName', 'region']]"
   ]
  },
  {
   "cell_type": "code",
   "execution_count": null,
   "metadata": {},
   "outputs": [],
   "source": []
  },
  {
   "cell_type": "markdown",
   "metadata": {},
   "source": [
    "## Считаем и группируем ##"
   ]
  },
  {
   "cell_type": "markdown",
   "metadata": {},
   "source": [
    "### Города и поселки ###"
   ]
  },
  {
   "cell_type": "code",
   "execution_count": 12,
   "metadata": {},
   "outputs": [],
   "source": [
    "# считаем количество населенных пунктов в регионах\n",
    "\n",
    "all_cities_temp = (all_cities\n",
    "                   .groupby('region', as_index=False)\n",
    "                   .agg({'city': 'count'})\n",
    "                   .rename(columns={'city': 'total_cities'})\n",
    "                  )"
   ]
  },
  {
   "cell_type": "code",
   "execution_count": 13,
   "metadata": {},
   "outputs": [],
   "source": [
    "# считаем \"ленинские\" населенные пункты в регионах\n",
    "\n",
    "lenin_cities_temp = (lenin_cities\n",
    "                     .groupby('region', as_index=False)\n",
    "                     .agg({'city': 'count'})\n",
    "                     .rename(columns={'city': 'lenin_cities'})\n",
    "                    )"
   ]
  },
  {
   "cell_type": "code",
   "execution_count": 14,
   "metadata": {},
   "outputs": [
    {
     "data": {
      "text/html": [
       "<div>\n",
       "<style scoped>\n",
       "    .dataframe tbody tr th:only-of-type {\n",
       "        vertical-align: middle;\n",
       "    }\n",
       "\n",
       "    .dataframe tbody tr th {\n",
       "        vertical-align: top;\n",
       "    }\n",
       "\n",
       "    .dataframe thead th {\n",
       "        text-align: right;\n",
       "    }\n",
       "</style>\n",
       "<table border=\"1\" class=\"dataframe\">\n",
       "  <thead>\n",
       "    <tr style=\"text-align: right;\">\n",
       "      <th></th>\n",
       "      <th>city_type</th>\n",
       "      <th>number</th>\n",
       "    </tr>\n",
       "  </thead>\n",
       "  <tbody>\n",
       "    <tr>\n",
       "      <td>7</td>\n",
       "      <td>п</td>\n",
       "      <td>99</td>\n",
       "    </tr>\n",
       "    <tr>\n",
       "      <td>10</td>\n",
       "      <td>с</td>\n",
       "      <td>55</td>\n",
       "    </tr>\n",
       "    <tr>\n",
       "      <td>13</td>\n",
       "      <td>х</td>\n",
       "      <td>44</td>\n",
       "    </tr>\n",
       "    <tr>\n",
       "      <td>5</td>\n",
       "      <td>д</td>\n",
       "      <td>37</td>\n",
       "    </tr>\n",
       "    <tr>\n",
       "      <td>3</td>\n",
       "      <td>г</td>\n",
       "      <td>5</td>\n",
       "    </tr>\n",
       "    <tr>\n",
       "      <td>8</td>\n",
       "      <td>пгт</td>\n",
       "      <td>4</td>\n",
       "    </tr>\n",
       "    <tr>\n",
       "      <td>9</td>\n",
       "      <td>рп</td>\n",
       "      <td>4</td>\n",
       "    </tr>\n",
       "    <tr>\n",
       "      <td>11</td>\n",
       "      <td>с/п</td>\n",
       "      <td>3</td>\n",
       "    </tr>\n",
       "    <tr>\n",
       "      <td>0</td>\n",
       "      <td>арбан</td>\n",
       "      <td>1</td>\n",
       "    </tr>\n",
       "    <tr>\n",
       "      <td>1</td>\n",
       "      <td>аул</td>\n",
       "      <td>1</td>\n",
       "    </tr>\n",
       "    <tr>\n",
       "      <td>2</td>\n",
       "      <td>высел</td>\n",
       "      <td>1</td>\n",
       "    </tr>\n",
       "    <tr>\n",
       "      <td>4</td>\n",
       "      <td>гп</td>\n",
       "      <td>1</td>\n",
       "    </tr>\n",
       "    <tr>\n",
       "      <td>6</td>\n",
       "      <td>нп</td>\n",
       "      <td>1</td>\n",
       "    </tr>\n",
       "    <tr>\n",
       "      <td>12</td>\n",
       "      <td>ст</td>\n",
       "      <td>1</td>\n",
       "    </tr>\n",
       "  </tbody>\n",
       "</table>\n",
       "</div>"
      ],
      "text/plain": [
       "   city_type  number\n",
       "7          п      99\n",
       "10         с      55\n",
       "13         х      44\n",
       "5          д      37\n",
       "3          г       5\n",
       "8        пгт       4\n",
       "9         рп       4\n",
       "11       с/п       3\n",
       "0      арбан       1\n",
       "1        аул       1\n",
       "2      высел       1\n",
       "4         гп       1\n",
       "6         нп       1\n",
       "12        ст       1"
      ]
     },
     "execution_count": 14,
     "metadata": {},
     "output_type": "execute_result"
    }
   ],
   "source": [
    "# считаем типы ленинских населенных пунктов\n",
    "\n",
    "(lenin_cities\n",
    " .groupby('city_type', as_index=False)\n",
    " .agg({'city': 'count'})\n",
    " .rename(columns={'city': 'number'})\n",
    " .sort_values('number', ascending=False)\n",
    ")\n",
    "\n",
    "#.to_excel('C:/00_Projects/Lenin/Datasets/00_for_viz/temp.xlsx', index=False)"
   ]
  },
  {
   "cell_type": "code",
   "execution_count": null,
   "metadata": {},
   "outputs": [],
   "source": []
  },
  {
   "cell_type": "markdown",
   "metadata": {},
   "source": [
    "### Считаем населенные пункты с количеством улиц больше 5 и 10 ###"
   ]
  },
  {
   "cell_type": "code",
   "execution_count": 15,
   "metadata": {},
   "outputs": [
    {
     "data": {
      "text/plain": [
       "(158832, 8)"
      ]
     },
     "execution_count": 15,
     "metadata": {},
     "output_type": "execute_result"
    }
   ],
   "source": [
    "# Количество объектов (населенных пунктов) в ФИАС\n",
    "\n",
    "all_cities.shape"
   ]
  },
  {
   "cell_type": "code",
   "execution_count": 16,
   "metadata": {},
   "outputs": [],
   "source": [
    "# считаем количество улиц по населенным пунктам\n",
    "\n",
    "city_street_number = (work_streets\n",
    "                      .groupby(['region', 'mun_district', 'city', 'city_type'], as_index=False)\n",
    "                      .agg({'street': 'count'})\n",
    "                      .rename(columns={'street': 'street_number'})\n",
    "       )"
   ]
  },
  {
   "cell_type": "code",
   "execution_count": 17,
   "metadata": {},
   "outputs": [
    {
     "data": {
      "text/plain": [
       "(90952, 5)"
      ]
     },
     "execution_count": 17,
     "metadata": {},
     "output_type": "execute_result"
    }
   ],
   "source": [
    "# количество насленных пунктов с улицами\n",
    "\n",
    "city_street_number.shape"
   ]
  },
  {
   "cell_type": "code",
   "execution_count": 18,
   "metadata": {},
   "outputs": [
    {
     "data": {
      "text/plain": [
       "67880"
      ]
     },
     "execution_count": 18,
     "metadata": {},
     "output_type": "execute_result"
    }
   ],
   "source": [
    "# количество объектов без улиц\n",
    "\n",
    "all_cities.shape[0] - city_street_number.shape[0]"
   ]
  },
  {
   "cell_type": "code",
   "execution_count": 19,
   "metadata": {},
   "outputs": [
    {
     "data": {
      "text/plain": [
       "74086"
      ]
     },
     "execution_count": 19,
     "metadata": {},
     "output_type": "execute_result"
    }
   ],
   "source": [
    "# количество объектов без улиц (вычитаем из 165 тыс. - числа объектов в ФИАС до чистки)\n",
    "\n",
    "165038 - city_street_number.shape[0]"
   ]
  },
  {
   "cell_type": "code",
   "execution_count": 20,
   "metadata": {},
   "outputs": [
    {
     "data": {
      "text/plain": [
       "10.725844401442519"
      ]
     },
     "execution_count": 20,
     "metadata": {},
     "output_type": "execute_result"
    }
   ],
   "source": [
    "# считаем среднее количество улиц в населенных пунктах с улицами\n",
    "\n",
    "city_street_number.street_number.mean()"
   ]
  },
  {
   "cell_type": "code",
   "execution_count": 21,
   "metadata": {},
   "outputs": [
    {
     "data": {
      "text/plain": [
       "4.0"
      ]
     },
     "execution_count": 21,
     "metadata": {},
     "output_type": "execute_result"
    }
   ],
   "source": [
    "# считаем медиану количества улиц в населенных пунктах с улицами\n",
    "\n",
    "city_street_number.street_number.median()"
   ]
  },
  {
   "cell_type": "code",
   "execution_count": 22,
   "metadata": {},
   "outputs": [
    {
     "data": {
      "text/html": [
       "<div>\n",
       "<style scoped>\n",
       "    .dataframe tbody tr th:only-of-type {\n",
       "        vertical-align: middle;\n",
       "    }\n",
       "\n",
       "    .dataframe tbody tr th {\n",
       "        vertical-align: top;\n",
       "    }\n",
       "\n",
       "    .dataframe thead th {\n",
       "        text-align: right;\n",
       "    }\n",
       "</style>\n",
       "<table border=\"1\" class=\"dataframe\">\n",
       "  <thead>\n",
       "    <tr style=\"text-align: right;\">\n",
       "      <th></th>\n",
       "      <th>street_number</th>\n",
       "    </tr>\n",
       "  </thead>\n",
       "  <tbody>\n",
       "    <tr>\n",
       "      <td>count</td>\n",
       "      <td>90952.000000</td>\n",
       "    </tr>\n",
       "    <tr>\n",
       "      <td>mean</td>\n",
       "      <td>10.725844</td>\n",
       "    </tr>\n",
       "    <tr>\n",
       "      <td>std</td>\n",
       "      <td>48.265112</td>\n",
       "    </tr>\n",
       "    <tr>\n",
       "      <td>min</td>\n",
       "      <td>1.000000</td>\n",
       "    </tr>\n",
       "    <tr>\n",
       "      <td>25%</td>\n",
       "      <td>1.000000</td>\n",
       "    </tr>\n",
       "    <tr>\n",
       "      <td>50%</td>\n",
       "      <td>4.000000</td>\n",
       "    </tr>\n",
       "    <tr>\n",
       "      <td>75%</td>\n",
       "      <td>8.000000</td>\n",
       "    </tr>\n",
       "    <tr>\n",
       "      <td>max</td>\n",
       "      <td>3521.000000</td>\n",
       "    </tr>\n",
       "  </tbody>\n",
       "</table>\n",
       "</div>"
      ],
      "text/plain": [
       "       street_number\n",
       "count   90952.000000\n",
       "mean       10.725844\n",
       "std        48.265112\n",
       "min         1.000000\n",
       "25%         1.000000\n",
       "50%         4.000000\n",
       "75%         8.000000\n",
       "max      3521.000000"
      ]
     },
     "execution_count": 22,
     "metadata": {},
     "output_type": "execute_result"
    }
   ],
   "source": [
    "city_street_number.describe()"
   ]
  },
  {
   "cell_type": "code",
   "execution_count": 23,
   "metadata": {},
   "outputs": [
    {
     "data": {
      "text/html": [
       "<div>\n",
       "<style scoped>\n",
       "    .dataframe tbody tr th:only-of-type {\n",
       "        vertical-align: middle;\n",
       "    }\n",
       "\n",
       "    .dataframe tbody tr th {\n",
       "        vertical-align: top;\n",
       "    }\n",
       "\n",
       "    .dataframe thead th {\n",
       "        text-align: right;\n",
       "    }\n",
       "</style>\n",
       "<table border=\"1\" class=\"dataframe\">\n",
       "  <thead>\n",
       "    <tr style=\"text-align: right;\">\n",
       "      <th></th>\n",
       "      <th>region</th>\n",
       "      <th>mun_district</th>\n",
       "      <th>city</th>\n",
       "      <th>city_type</th>\n",
       "      <th>street_number</th>\n",
       "    </tr>\n",
       "  </thead>\n",
       "  <tbody>\n",
       "    <tr>\n",
       "      <td>0</td>\n",
       "      <td>Адыгея</td>\n",
       "      <td>Адыгейск</td>\n",
       "      <td>Адыгейск</td>\n",
       "      <td>г</td>\n",
       "      <td>63</td>\n",
       "    </tr>\n",
       "    <tr>\n",
       "      <td>1</td>\n",
       "      <td>Адыгея</td>\n",
       "      <td>Адыгейск</td>\n",
       "      <td>Гатлукай</td>\n",
       "      <td>аул</td>\n",
       "      <td>15</td>\n",
       "    </tr>\n",
       "    <tr>\n",
       "      <td>2</td>\n",
       "      <td>Адыгея</td>\n",
       "      <td>Адыгейск</td>\n",
       "      <td>Псекупс</td>\n",
       "      <td>х</td>\n",
       "      <td>20</td>\n",
       "    </tr>\n",
       "    <tr>\n",
       "      <td>3</td>\n",
       "      <td>Адыгея</td>\n",
       "      <td>Гиагинский</td>\n",
       "      <td>Владимировское</td>\n",
       "      <td>с</td>\n",
       "      <td>3</td>\n",
       "    </tr>\n",
       "    <tr>\n",
       "      <td>4</td>\n",
       "      <td>Адыгея</td>\n",
       "      <td>Гиагинский</td>\n",
       "      <td>Вольно-Веселый</td>\n",
       "      <td>х</td>\n",
       "      <td>3</td>\n",
       "    </tr>\n",
       "  </tbody>\n",
       "</table>\n",
       "</div>"
      ],
      "text/plain": [
       "   region mun_district            city city_type  street_number\n",
       "0  Адыгея     Адыгейск        Адыгейск         г             63\n",
       "1  Адыгея     Адыгейск        Гатлукай       аул             15\n",
       "2  Адыгея     Адыгейск         Псекупс         х             20\n",
       "3  Адыгея   Гиагинский  Владимировское         с              3\n",
       "4  Адыгея   Гиагинский  Вольно-Веселый         х              3"
      ]
     },
     "execution_count": 23,
     "metadata": {},
     "output_type": "execute_result"
    }
   ],
   "source": [
    "city_street_number.head(5)"
   ]
  },
  {
   "cell_type": "code",
   "execution_count": 24,
   "metadata": {},
   "outputs": [],
   "source": [
    "# города и поселки с 5 и более улицами\n",
    "\n",
    "city_more_5_streets = city_street_number.loc[city_street_number.street_number >= 5]"
   ]
  },
  {
   "cell_type": "code",
   "execution_count": 25,
   "metadata": {},
   "outputs": [
    {
     "data": {
      "text/plain": [
       "(38711, 5)"
      ]
     },
     "execution_count": 25,
     "metadata": {},
     "output_type": "execute_result"
    }
   ],
   "source": [
    "# их количество\n",
    "\n",
    "city_more_5_streets.shape"
   ]
  },
  {
   "cell_type": "code",
   "execution_count": 26,
   "metadata": {},
   "outputs": [],
   "source": [
    "# считаем количество населенных пунктов с 5 и более улицами\n",
    "\n",
    "city_more_5_streets_temp = (city_more_5_streets\n",
    "                            .groupby('region', as_index=False)\n",
    "                            .agg({'city': 'count'})\n",
    "                            .rename(columns={'city': 'city_m5sts'})\n",
    "                            .sort_values('city_m5sts', ascending=False)\n",
    "                           )\n",
    " "
   ]
  },
  {
   "cell_type": "code",
   "execution_count": 27,
   "metadata": {},
   "outputs": [
    {
     "data": {
      "text/html": [
       "<div>\n",
       "<style scoped>\n",
       "    .dataframe tbody tr th:only-of-type {\n",
       "        vertical-align: middle;\n",
       "    }\n",
       "\n",
       "    .dataframe tbody tr th {\n",
       "        vertical-align: top;\n",
       "    }\n",
       "\n",
       "    .dataframe thead th {\n",
       "        text-align: right;\n",
       "    }\n",
       "</style>\n",
       "<table border=\"1\" class=\"dataframe\">\n",
       "  <thead>\n",
       "    <tr style=\"text-align: right;\">\n",
       "      <th></th>\n",
       "      <th>region</th>\n",
       "      <th>city_m5sts</th>\n",
       "    </tr>\n",
       "  </thead>\n",
       "  <tbody>\n",
       "    <tr>\n",
       "      <td>6</td>\n",
       "      <td>Башкортостан</td>\n",
       "      <td>1653</td>\n",
       "    </tr>\n",
       "    <tr>\n",
       "      <td>42</td>\n",
       "      <td>Московская область</td>\n",
       "      <td>1471</td>\n",
       "    </tr>\n",
       "    <tr>\n",
       "      <td>68</td>\n",
       "      <td>Татарстан</td>\n",
       "      <td>1252</td>\n",
       "    </tr>\n",
       "    <tr>\n",
       "      <td>55</td>\n",
       "      <td>Ростовская область</td>\n",
       "      <td>1114</td>\n",
       "    </tr>\n",
       "    <tr>\n",
       "      <td>52</td>\n",
       "      <td>Пермский край</td>\n",
       "      <td>1074</td>\n",
       "    </tr>\n",
       "    <tr>\n",
       "      <td>31</td>\n",
       "      <td>Краснодарский край</td>\n",
       "      <td>1016</td>\n",
       "    </tr>\n",
       "    <tr>\n",
       "      <td>36</td>\n",
       "      <td>Ленинградская область</td>\n",
       "      <td>973</td>\n",
       "    </tr>\n",
       "    <tr>\n",
       "      <td>62</td>\n",
       "      <td>Свердловская область</td>\n",
       "      <td>938</td>\n",
       "    </tr>\n",
       "    <tr>\n",
       "      <td>2</td>\n",
       "      <td>Алтайский край</td>\n",
       "      <td>897</td>\n",
       "    </tr>\n",
       "    <tr>\n",
       "      <td>45</td>\n",
       "      <td>Нижегородская область</td>\n",
       "      <td>830</td>\n",
       "    </tr>\n",
       "  </tbody>\n",
       "</table>\n",
       "</div>"
      ],
      "text/plain": [
       "                   region  city_m5sts\n",
       "6            Башкортостан        1653\n",
       "42     Московская область        1471\n",
       "68              Татарстан        1252\n",
       "55     Ростовская область        1114\n",
       "52          Пермский край        1074\n",
       "31     Краснодарский край        1016\n",
       "36  Ленинградская область         973\n",
       "62   Свердловская область         938\n",
       "2          Алтайский край         897\n",
       "45  Нижегородская область         830"
      ]
     },
     "execution_count": 27,
     "metadata": {},
     "output_type": "execute_result"
    }
   ],
   "source": [
    "city_more_5_streets_temp.head(10)"
   ]
  },
  {
   "cell_type": "code",
   "execution_count": 28,
   "metadata": {},
   "outputs": [],
   "source": [
    "# города и поселки с 10 и более улицами\n",
    "\n",
    "city_more_10_streets = city_street_number.loc[city_street_number.street_number >= 10]"
   ]
  },
  {
   "cell_type": "code",
   "execution_count": 29,
   "metadata": {},
   "outputs": [
    {
     "data": {
      "text/plain": [
       "(19288, 5)"
      ]
     },
     "execution_count": 29,
     "metadata": {},
     "output_type": "execute_result"
    }
   ],
   "source": [
    "# их количество\n",
    "\n",
    "city_more_10_streets.shape"
   ]
  },
  {
   "cell_type": "code",
   "execution_count": 30,
   "metadata": {},
   "outputs": [],
   "source": [
    "# считаем количество населенных пунктов с 10 и более улицами\n",
    "\n",
    "city_more_10_streets_temp = (city_more_10_streets\n",
    "                            .groupby('region', as_index=False)\n",
    "                            .agg({'city': 'count'})\n",
    "                            .rename(columns={'city': 'city_m10sts'})\n",
    "                            .sort_values('city_m10sts', ascending=False)\n",
    "                           )\n",
    " "
   ]
  },
  {
   "cell_type": "code",
   "execution_count": 31,
   "metadata": {},
   "outputs": [
    {
     "data": {
      "text/html": [
       "<div>\n",
       "<style scoped>\n",
       "    .dataframe tbody tr th:only-of-type {\n",
       "        vertical-align: middle;\n",
       "    }\n",
       "\n",
       "    .dataframe tbody tr th {\n",
       "        vertical-align: top;\n",
       "    }\n",
       "\n",
       "    .dataframe thead th {\n",
       "        text-align: right;\n",
       "    }\n",
       "</style>\n",
       "<table border=\"1\" class=\"dataframe\">\n",
       "  <thead>\n",
       "    <tr style=\"text-align: right;\">\n",
       "      <th></th>\n",
       "      <th>region</th>\n",
       "      <th>city_m10sts</th>\n",
       "    </tr>\n",
       "  </thead>\n",
       "  <tbody>\n",
       "    <tr>\n",
       "      <td>42</td>\n",
       "      <td>Московская область</td>\n",
       "      <td>791</td>\n",
       "    </tr>\n",
       "    <tr>\n",
       "      <td>31</td>\n",
       "      <td>Краснодарский край</td>\n",
       "      <td>692</td>\n",
       "    </tr>\n",
       "    <tr>\n",
       "      <td>6</td>\n",
       "      <td>Башкортостан</td>\n",
       "      <td>634</td>\n",
       "    </tr>\n",
       "    <tr>\n",
       "      <td>55</td>\n",
       "      <td>Ростовская область</td>\n",
       "      <td>629</td>\n",
       "    </tr>\n",
       "    <tr>\n",
       "      <td>36</td>\n",
       "      <td>Ленинградская область</td>\n",
       "      <td>597</td>\n",
       "    </tr>\n",
       "    <tr>\n",
       "      <td>52</td>\n",
       "      <td>Пермский край</td>\n",
       "      <td>520</td>\n",
       "    </tr>\n",
       "    <tr>\n",
       "      <td>62</td>\n",
       "      <td>Свердловская область</td>\n",
       "      <td>496</td>\n",
       "    </tr>\n",
       "    <tr>\n",
       "      <td>2</td>\n",
       "      <td>Алтайский край</td>\n",
       "      <td>482</td>\n",
       "    </tr>\n",
       "    <tr>\n",
       "      <td>14</td>\n",
       "      <td>Дагестан</td>\n",
       "      <td>481</td>\n",
       "    </tr>\n",
       "    <tr>\n",
       "      <td>68</td>\n",
       "      <td>Татарстан</td>\n",
       "      <td>477</td>\n",
       "    </tr>\n",
       "  </tbody>\n",
       "</table>\n",
       "</div>"
      ],
      "text/plain": [
       "                   region  city_m10sts\n",
       "42     Московская область          791\n",
       "31     Краснодарский край          692\n",
       "6            Башкортостан          634\n",
       "55     Ростовская область          629\n",
       "36  Ленинградская область          597\n",
       "52          Пермский край          520\n",
       "62   Свердловская область          496\n",
       "2          Алтайский край          482\n",
       "14               Дагестан          481\n",
       "68              Татарстан          477"
      ]
     },
     "execution_count": 31,
     "metadata": {},
     "output_type": "execute_result"
    }
   ],
   "source": [
    "city_more_10_streets_temp.head(10)"
   ]
  },
  {
   "cell_type": "code",
   "execution_count": null,
   "metadata": {},
   "outputs": [],
   "source": []
  },
  {
   "cell_type": "markdown",
   "metadata": {},
   "source": [
    "### Считаем сумму ленинских улиц в городах с количеством улиц больше 5 и 10 ###"
   ]
  },
  {
   "cell_type": "markdown",
   "metadata": {},
   "source": [
    "**Населенные пункты с количеством улиц больше 5**"
   ]
  },
  {
   "cell_type": "code",
   "execution_count": 32,
   "metadata": {},
   "outputs": [],
   "source": [
    "# группируем города и поселки с ленинскими улицами\n",
    "\n",
    "city_street_number_lsts = (lenin_streets_strict\n",
    "                           .groupby(['region', 'mun_district', 'city', 'city_type'], as_index=False)\n",
    "                           .agg({'street': 'count'})\n",
    "                           .rename(columns={'street': 'lenin_street_number'})\n",
    "                          )"
   ]
  },
  {
   "cell_type": "code",
   "execution_count": 33,
   "metadata": {},
   "outputs": [
    {
     "data": {
      "text/plain": [
       "(8509, 5)"
      ]
     },
     "execution_count": 33,
     "metadata": {},
     "output_type": "execute_result"
    }
   ],
   "source": [
    "# считаем их количество\n",
    "\n",
    "city_street_number_lsts.shape"
   ]
  },
  {
   "cell_type": "code",
   "execution_count": 34,
   "metadata": {},
   "outputs": [
    {
     "data": {
      "text/html": [
       "<div>\n",
       "<style scoped>\n",
       "    .dataframe tbody tr th:only-of-type {\n",
       "        vertical-align: middle;\n",
       "    }\n",
       "\n",
       "    .dataframe tbody tr th {\n",
       "        vertical-align: top;\n",
       "    }\n",
       "\n",
       "    .dataframe thead th {\n",
       "        text-align: right;\n",
       "    }\n",
       "</style>\n",
       "<table border=\"1\" class=\"dataframe\">\n",
       "  <thead>\n",
       "    <tr style=\"text-align: right;\">\n",
       "      <th></th>\n",
       "      <th>region</th>\n",
       "      <th>mun_district</th>\n",
       "      <th>city</th>\n",
       "      <th>city_type</th>\n",
       "      <th>lenin_street_number</th>\n",
       "    </tr>\n",
       "  </thead>\n",
       "  <tbody>\n",
       "    <tr>\n",
       "      <td>0</td>\n",
       "      <td>Адыгея</td>\n",
       "      <td>Адыгейск</td>\n",
       "      <td>Адыгейск</td>\n",
       "      <td>г</td>\n",
       "      <td>1</td>\n",
       "    </tr>\n",
       "    <tr>\n",
       "      <td>1</td>\n",
       "      <td>Адыгея</td>\n",
       "      <td>Адыгейск</td>\n",
       "      <td>Псекупс</td>\n",
       "      <td>х</td>\n",
       "      <td>1</td>\n",
       "    </tr>\n",
       "    <tr>\n",
       "      <td>2</td>\n",
       "      <td>Адыгея</td>\n",
       "      <td>Гиагинский</td>\n",
       "      <td>Гиагинская</td>\n",
       "      <td>ст-ца</td>\n",
       "      <td>1</td>\n",
       "    </tr>\n",
       "    <tr>\n",
       "      <td>3</td>\n",
       "      <td>Адыгея</td>\n",
       "      <td>Гиагинский</td>\n",
       "      <td>Дондуковская</td>\n",
       "      <td>ст-ца</td>\n",
       "      <td>1</td>\n",
       "    </tr>\n",
       "    <tr>\n",
       "      <td>4</td>\n",
       "      <td>Адыгея</td>\n",
       "      <td>Кошехабльский</td>\n",
       "      <td>Блечепсин</td>\n",
       "      <td>аул</td>\n",
       "      <td>1</td>\n",
       "    </tr>\n",
       "  </tbody>\n",
       "</table>\n",
       "</div>"
      ],
      "text/plain": [
       "   region   mun_district          city city_type  lenin_street_number\n",
       "0  Адыгея       Адыгейск      Адыгейск         г                    1\n",
       "1  Адыгея       Адыгейск       Псекупс         х                    1\n",
       "2  Адыгея     Гиагинский    Гиагинская     ст-ца                    1\n",
       "3  Адыгея     Гиагинский  Дондуковская     ст-ца                    1\n",
       "4  Адыгея  Кошехабльский     Блечепсин       аул                    1"
      ]
     },
     "execution_count": 34,
     "metadata": {},
     "output_type": "execute_result"
    }
   ],
   "source": [
    "city_street_number_lsts.head()"
   ]
  },
  {
   "cell_type": "code",
   "execution_count": 35,
   "metadata": {},
   "outputs": [],
   "source": [
    "# объединяем с city_more_5_streets, чтобы отсеять нас.пункты с количеством улиц меньше 5\n",
    "\n",
    "city_more_5_street_lsts = city_street_number_lsts.merge(\n",
    "    city_more_5_streets,\n",
    "    on=['region', 'mun_district', 'city', 'city_type'], how='left')"
   ]
  },
  {
   "cell_type": "code",
   "execution_count": 36,
   "metadata": {},
   "outputs": [],
   "source": [
    "# заполняем пропуски\n",
    "\n",
    "city_more_5_street_lsts.fillna(0, inplace=True)"
   ]
  },
  {
   "cell_type": "code",
   "execution_count": 37,
   "metadata": {},
   "outputs": [
    {
     "data": {
      "text/plain": [
       "(8509, 6)"
      ]
     },
     "execution_count": 37,
     "metadata": {},
     "output_type": "execute_result"
    }
   ],
   "source": [
    "city_more_5_street_lsts.shape"
   ]
  },
  {
   "cell_type": "code",
   "execution_count": 38,
   "metadata": {},
   "outputs": [],
   "source": [
    "# убираем нас.пункты с количеством улиц меньше 5\n",
    "\n",
    "city_more_5_street_lsts = city_more_5_street_lsts[city_more_5_street_lsts.street_number > 0]"
   ]
  },
  {
   "cell_type": "code",
   "execution_count": 39,
   "metadata": {},
   "outputs": [
    {
     "data": {
      "text/plain": [
       "(7589, 6)"
      ]
     },
     "execution_count": 39,
     "metadata": {},
     "output_type": "execute_result"
    }
   ],
   "source": [
    "city_more_5_street_lsts.shape"
   ]
  },
  {
   "cell_type": "code",
   "execution_count": 40,
   "metadata": {},
   "outputs": [],
   "source": [
    "# считаем сумму улиц в этих городах и поселках по регионам\n",
    "\n",
    "lenin_street_sum_cm5sts_temp = (city_more_5_street_lsts\n",
    "                                .groupby('region', as_index=False)\n",
    "                                .agg({'lenin_street_number': 'sum'})\n",
    "                                .rename(columns={'lenin_street_number': 'lenin_street_cm5st'})\n",
    "                                .sort_values('lenin_street_cm5st', ascending=False)\n",
    "                               )"
   ]
  },
  {
   "cell_type": "code",
   "execution_count": 41,
   "metadata": {},
   "outputs": [
    {
     "data": {
      "text/html": [
       "<div>\n",
       "<style scoped>\n",
       "    .dataframe tbody tr th:only-of-type {\n",
       "        vertical-align: middle;\n",
       "    }\n",
       "\n",
       "    .dataframe tbody tr th {\n",
       "        vertical-align: top;\n",
       "    }\n",
       "\n",
       "    .dataframe thead th {\n",
       "        text-align: right;\n",
       "    }\n",
       "</style>\n",
       "<table border=\"1\" class=\"dataframe\">\n",
       "  <thead>\n",
       "    <tr style=\"text-align: right;\">\n",
       "      <th></th>\n",
       "      <th>region</th>\n",
       "      <th>lenin_street_cm5st</th>\n",
       "    </tr>\n",
       "  </thead>\n",
       "  <tbody>\n",
       "    <tr>\n",
       "      <td>31</td>\n",
       "      <td>Краснодарский край</td>\n",
       "      <td>418</td>\n",
       "    </tr>\n",
       "    <tr>\n",
       "      <td>62</td>\n",
       "      <td>Свердловская область</td>\n",
       "      <td>412</td>\n",
       "    </tr>\n",
       "    <tr>\n",
       "      <td>68</td>\n",
       "      <td>Татарстан</td>\n",
       "      <td>355</td>\n",
       "    </tr>\n",
       "    <tr>\n",
       "      <td>13</td>\n",
       "      <td>Воронежская область</td>\n",
       "      <td>331</td>\n",
       "    </tr>\n",
       "    <tr>\n",
       "      <td>6</td>\n",
       "      <td>Башкортостан</td>\n",
       "      <td>305</td>\n",
       "    </tr>\n",
       "    <tr>\n",
       "      <td>55</td>\n",
       "      <td>Ростовская область</td>\n",
       "      <td>292</td>\n",
       "    </tr>\n",
       "    <tr>\n",
       "      <td>66</td>\n",
       "      <td>Ставропольский край</td>\n",
       "      <td>222</td>\n",
       "    </tr>\n",
       "    <tr>\n",
       "      <td>81</td>\n",
       "      <td>Чувашия</td>\n",
       "      <td>219</td>\n",
       "    </tr>\n",
       "    <tr>\n",
       "      <td>52</td>\n",
       "      <td>Пермский край</td>\n",
       "      <td>219</td>\n",
       "    </tr>\n",
       "    <tr>\n",
       "      <td>2</td>\n",
       "      <td>Алтайский край</td>\n",
       "      <td>213</td>\n",
       "    </tr>\n",
       "  </tbody>\n",
       "</table>\n",
       "</div>"
      ],
      "text/plain": [
       "                  region  lenin_street_cm5st\n",
       "31    Краснодарский край                 418\n",
       "62  Свердловская область                 412\n",
       "68             Татарстан                 355\n",
       "13   Воронежская область                 331\n",
       "6           Башкортостан                 305\n",
       "55    Ростовская область                 292\n",
       "66   Ставропольский край                 222\n",
       "81               Чувашия                 219\n",
       "52         Пермский край                 219\n",
       "2         Алтайский край                 213"
      ]
     },
     "execution_count": 41,
     "metadata": {},
     "output_type": "execute_result"
    }
   ],
   "source": [
    "lenin_street_sum_cm5sts_temp.head(10)"
   ]
  },
  {
   "cell_type": "markdown",
   "metadata": {},
   "source": [
    "**Населенные пункты с количеством улиц больше 10**"
   ]
  },
  {
   "cell_type": "code",
   "execution_count": 42,
   "metadata": {},
   "outputs": [],
   "source": [
    "# объединяем с city_more_10_street, чтобы отсеять нас.пункты с количеством улиц меньше 5\n",
    "\n",
    "city_more_10_street_lsts = city_street_number_lsts.merge(\n",
    "    city_more_10_streets,\n",
    "    on=['region', 'mun_district', 'city', 'city_type'], how='left')"
   ]
  },
  {
   "cell_type": "code",
   "execution_count": 43,
   "metadata": {},
   "outputs": [],
   "source": [
    "# заполняем пропуски\n",
    "\n",
    "city_more_10_street_lsts.fillna(0, inplace=True)"
   ]
  },
  {
   "cell_type": "code",
   "execution_count": 44,
   "metadata": {},
   "outputs": [
    {
     "data": {
      "text/plain": [
       "(8509, 6)"
      ]
     },
     "execution_count": 44,
     "metadata": {},
     "output_type": "execute_result"
    }
   ],
   "source": [
    "city_more_10_street_lsts.shape"
   ]
  },
  {
   "cell_type": "code",
   "execution_count": 45,
   "metadata": {},
   "outputs": [],
   "source": [
    "# убираем нас.пункты с количеством улиц меньше 10\n",
    "\n",
    "city_more_10_street_lsts = city_more_10_street_lsts[city_more_10_street_lsts.street_number > 0]"
   ]
  },
  {
   "cell_type": "code",
   "execution_count": 46,
   "metadata": {},
   "outputs": [
    {
     "data": {
      "text/plain": [
       "(5844, 6)"
      ]
     },
     "execution_count": 46,
     "metadata": {},
     "output_type": "execute_result"
    }
   ],
   "source": [
    "city_more_10_street_lsts.shape"
   ]
  },
  {
   "cell_type": "code",
   "execution_count": 47,
   "metadata": {},
   "outputs": [],
   "source": [
    "# считаем сумму улиц в этих городах и поселках по регионам\n",
    "\n",
    "lenin_street_sum_cm10sts_temp = (city_more_10_street_lsts\n",
    "                                 .groupby('region', as_index=False)\n",
    "                                 .agg({'lenin_street_number': 'sum'})\n",
    "                                 .rename(columns={'lenin_street_number': 'lenin_street_cm10st'})\n",
    "                                 .sort_values('lenin_street_cm10st', ascending=False)\n",
    "                                )"
   ]
  },
  {
   "cell_type": "code",
   "execution_count": 48,
   "metadata": {},
   "outputs": [
    {
     "data": {
      "text/html": [
       "<div>\n",
       "<style scoped>\n",
       "    .dataframe tbody tr th:only-of-type {\n",
       "        vertical-align: middle;\n",
       "    }\n",
       "\n",
       "    .dataframe tbody tr th {\n",
       "        vertical-align: top;\n",
       "    }\n",
       "\n",
       "    .dataframe thead th {\n",
       "        text-align: right;\n",
       "    }\n",
       "</style>\n",
       "<table border=\"1\" class=\"dataframe\">\n",
       "  <thead>\n",
       "    <tr style=\"text-align: right;\">\n",
       "      <th></th>\n",
       "      <th>region</th>\n",
       "      <th>lenin_street_cm10st</th>\n",
       "    </tr>\n",
       "  </thead>\n",
       "  <tbody>\n",
       "    <tr>\n",
       "      <td>31</td>\n",
       "      <td>Краснодарский край</td>\n",
       "      <td>368</td>\n",
       "    </tr>\n",
       "    <tr>\n",
       "      <td>62</td>\n",
       "      <td>Свердловская область</td>\n",
       "      <td>312</td>\n",
       "    </tr>\n",
       "    <tr>\n",
       "      <td>55</td>\n",
       "      <td>Ростовская область</td>\n",
       "      <td>256</td>\n",
       "    </tr>\n",
       "    <tr>\n",
       "      <td>13</td>\n",
       "      <td>Воронежская область</td>\n",
       "      <td>256</td>\n",
       "    </tr>\n",
       "    <tr>\n",
       "      <td>66</td>\n",
       "      <td>Ставропольский край</td>\n",
       "      <td>199</td>\n",
       "    </tr>\n",
       "    <tr>\n",
       "      <td>6</td>\n",
       "      <td>Башкортостан</td>\n",
       "      <td>197</td>\n",
       "    </tr>\n",
       "    <tr>\n",
       "      <td>52</td>\n",
       "      <td>Пермский край</td>\n",
       "      <td>180</td>\n",
       "    </tr>\n",
       "    <tr>\n",
       "      <td>42</td>\n",
       "      <td>Московская область</td>\n",
       "      <td>180</td>\n",
       "    </tr>\n",
       "    <tr>\n",
       "      <td>68</td>\n",
       "      <td>Татарстан</td>\n",
       "      <td>173</td>\n",
       "    </tr>\n",
       "    <tr>\n",
       "      <td>33</td>\n",
       "      <td>Крым</td>\n",
       "      <td>168</td>\n",
       "    </tr>\n",
       "  </tbody>\n",
       "</table>\n",
       "</div>"
      ],
      "text/plain": [
       "                  region  lenin_street_cm10st\n",
       "31    Краснодарский край                  368\n",
       "62  Свердловская область                  312\n",
       "55    Ростовская область                  256\n",
       "13   Воронежская область                  256\n",
       "66   Ставропольский край                  199\n",
       "6           Башкортостан                  197\n",
       "52         Пермский край                  180\n",
       "42    Московская область                  180\n",
       "68             Татарстан                  173\n",
       "33                  Крым                  168"
      ]
     },
     "execution_count": 48,
     "metadata": {},
     "output_type": "execute_result"
    }
   ],
   "source": [
    "lenin_street_sum_cm10sts_temp.head(10)"
   ]
  },
  {
   "cell_type": "markdown",
   "metadata": {},
   "source": [
    "### Количество городов и поселков, в которых есть улицы Ленина ###"
   ]
  },
  {
   "cell_type": "code",
   "execution_count": 49,
   "metadata": {},
   "outputs": [],
   "source": [
    "# считаем количество всех городов, в которых есть хотя бы одна улица Ленина\n",
    "\n",
    "all_cities_lenin_streets_temp = (lenin_streets_strict\n",
    "                                 .drop_duplicates(['city', 'mun_district', 'region'])\n",
    "                                 .groupby('region', as_index=False)\n",
    "                                 .agg({'city': 'count'})\n",
    "                                 .rename(columns={'city': 'cities_1_lsts'})\n",
    "                                )"
   ]
  },
  {
   "cell_type": "markdown",
   "metadata": {},
   "source": [
    "Cчитаем количество городов, в которых есть несколько улиц Ленина."
   ]
  },
  {
   "cell_type": "code",
   "execution_count": 50,
   "metadata": {},
   "outputs": [],
   "source": [
    "# берем датасет lenin_only_streets, чтобы не считать переулки и группируем города по количеству улиц\n",
    "\n",
    "all_cities_lenin_only_streets = (lenin_only_streets\n",
    "                                 .groupby(['region', 'mun_district', 'city', 'city_type'], as_index=False)\n",
    "                                 .agg({'street': 'count'})\n",
    "                                 .rename(columns={'street': 'lenin_street_number'})\n",
    "                                 .sort_values('lenin_street_number', ascending=False)\n",
    "                                )"
   ]
  },
  {
   "cell_type": "code",
   "execution_count": 51,
   "metadata": {},
   "outputs": [
    {
     "data": {
      "text/plain": [
       "1.047085201793722"
      ]
     },
     "execution_count": 51,
     "metadata": {},
     "output_type": "execute_result"
    }
   ],
   "source": [
    "# смотрим среднее значение\n",
    "\n",
    "all_cities_lenin_only_streets.lenin_street_number.mean()"
   ]
  },
  {
   "cell_type": "code",
   "execution_count": 52,
   "metadata": {},
   "outputs": [],
   "source": [
    "# считаем количество городов, в которых 2 и больше улицы Ленина\n",
    "\n",
    "all_cities_2_lenin_streets_temp = (all_cities_lenin_only_streets\n",
    "                                   [all_cities_lenin_only_streets.lenin_street_number >= 2]\n",
    "                                   .groupby('region', as_index=False)\n",
    "                                   .agg({'city': 'count'})\n",
    "                                   .rename(columns={'city': 'cities_2_lsts'})\n",
    "                                   .sort_values('cities_2_lsts', ascending=False)\n",
    "                                  )"
   ]
  },
  {
   "cell_type": "code",
   "execution_count": null,
   "metadata": {},
   "outputs": [],
   "source": []
  },
  {
   "cell_type": "markdown",
   "metadata": {},
   "source": [
    "### Города и поселки с улицами Ленина с общим количество улиц больше 5 и 10 ###"
   ]
  },
  {
   "cell_type": "markdown",
   "metadata": {},
   "source": [
    "**Города и поселки с количеством улиц больше 5**"
   ]
  },
  {
   "cell_type": "code",
   "execution_count": 53,
   "metadata": {},
   "outputs": [],
   "source": [
    "# считаем количество населенных пунктов, где есть хотя бы одна улица Ленина, с общим количеством улиц больше 5\n",
    "\n",
    "cities_m5st_1_lst_temp = (city_more_5_street_lsts\n",
    "                                .groupby('region', as_index=False)\n",
    "                                .agg({'lenin_street_number': 'count'})\n",
    "                                .rename(columns={'lenin_street_number': 'cities_1_lsts_cm5s'})\n",
    "                                .sort_values('cities_1_lsts_cm5s', ascending=False)\n",
    "                               )"
   ]
  },
  {
   "cell_type": "code",
   "execution_count": 54,
   "metadata": {},
   "outputs": [
    {
     "data": {
      "text/html": [
       "<div>\n",
       "<style scoped>\n",
       "    .dataframe tbody tr th:only-of-type {\n",
       "        vertical-align: middle;\n",
       "    }\n",
       "\n",
       "    .dataframe tbody tr th {\n",
       "        vertical-align: top;\n",
       "    }\n",
       "\n",
       "    .dataframe thead th {\n",
       "        text-align: right;\n",
       "    }\n",
       "</style>\n",
       "<table border=\"1\" class=\"dataframe\">\n",
       "  <thead>\n",
       "    <tr style=\"text-align: right;\">\n",
       "      <th></th>\n",
       "      <th>region</th>\n",
       "      <th>cities_1_lsts_cm5s</th>\n",
       "    </tr>\n",
       "  </thead>\n",
       "  <tbody>\n",
       "    <tr>\n",
       "      <td>31</td>\n",
       "      <td>Краснодарский край</td>\n",
       "      <td>378</td>\n",
       "    </tr>\n",
       "    <tr>\n",
       "      <td>62</td>\n",
       "      <td>Свердловская область</td>\n",
       "      <td>374</td>\n",
       "    </tr>\n",
       "    <tr>\n",
       "      <td>68</td>\n",
       "      <td>Татарстан</td>\n",
       "      <td>339</td>\n",
       "    </tr>\n",
       "    <tr>\n",
       "      <td>6</td>\n",
       "      <td>Башкортостан</td>\n",
       "      <td>287</td>\n",
       "    </tr>\n",
       "    <tr>\n",
       "      <td>13</td>\n",
       "      <td>Воронежская область</td>\n",
       "      <td>279</td>\n",
       "    </tr>\n",
       "    <tr>\n",
       "      <td>55</td>\n",
       "      <td>Ростовская область</td>\n",
       "      <td>268</td>\n",
       "    </tr>\n",
       "    <tr>\n",
       "      <td>52</td>\n",
       "      <td>Пермский край</td>\n",
       "      <td>207</td>\n",
       "    </tr>\n",
       "    <tr>\n",
       "      <td>81</td>\n",
       "      <td>Чувашия</td>\n",
       "      <td>206</td>\n",
       "    </tr>\n",
       "    <tr>\n",
       "      <td>2</td>\n",
       "      <td>Алтайский край</td>\n",
       "      <td>204</td>\n",
       "    </tr>\n",
       "    <tr>\n",
       "      <td>33</td>\n",
       "      <td>Крым</td>\n",
       "      <td>196</td>\n",
       "    </tr>\n",
       "  </tbody>\n",
       "</table>\n",
       "</div>"
      ],
      "text/plain": [
       "                  region  cities_1_lsts_cm5s\n",
       "31    Краснодарский край                 378\n",
       "62  Свердловская область                 374\n",
       "68             Татарстан                 339\n",
       "6           Башкортостан                 287\n",
       "13   Воронежская область                 279\n",
       "55    Ростовская область                 268\n",
       "52         Пермский край                 207\n",
       "81               Чувашия                 206\n",
       "2         Алтайский край                 204\n",
       "33                  Крым                 196"
      ]
     },
     "execution_count": 54,
     "metadata": {},
     "output_type": "execute_result"
    }
   ],
   "source": [
    "cities_m5st_1_lst_temp.head(10)"
   ]
  },
  {
   "cell_type": "code",
   "execution_count": 55,
   "metadata": {},
   "outputs": [],
   "source": [
    "# считаем количество населенных пунктов, где есть как минимум 2 улицы Ленина, с общим количеством улиц больше 5\n",
    "# берем все города с количеством улиц больше 5\n",
    "# и присоединяем к ним города с ленискими улицами в варианте без переулков - all_cities_lenin_only_streets\n",
    "\n",
    "\n",
    "cities_lenin_only_streets_cm5sts = city_more_5_streets.merge(all_cities_lenin_only_streets,\n",
    "                          on=(['region', 'mun_district', 'city', 'city_type']),\n",
    "                              how='left'\n",
    "                             )"
   ]
  },
  {
   "cell_type": "code",
   "execution_count": 56,
   "metadata": {},
   "outputs": [],
   "source": [
    "# заполняем пустые значения\n",
    "\n",
    "cities_lenin_only_streets_cm5sts.fillna(0, inplace=True)"
   ]
  },
  {
   "cell_type": "code",
   "execution_count": 57,
   "metadata": {},
   "outputs": [
    {
     "data": {
      "text/plain": [
       "(38711, 6)"
      ]
     },
     "execution_count": 57,
     "metadata": {},
     "output_type": "execute_result"
    }
   ],
   "source": [
    "cities_lenin_only_streets_cm5sts.shape"
   ]
  },
  {
   "cell_type": "code",
   "execution_count": 58,
   "metadata": {},
   "outputs": [],
   "source": [
    "# удаляем нулевые строки, т.е. нас.пункты, где нет ленинских улиц\n",
    "\n",
    "cities_lenin_only_streets_cm5sts = (cities_lenin_only_streets_cm5sts\n",
    "                                    .loc[cities_lenin_only_streets_cm5sts.lenin_street_number > 0]\n",
    "                                   )"
   ]
  },
  {
   "cell_type": "code",
   "execution_count": 59,
   "metadata": {},
   "outputs": [
    {
     "data": {
      "text/plain": [
       "(7556, 6)"
      ]
     },
     "execution_count": 59,
     "metadata": {},
     "output_type": "execute_result"
    }
   ],
   "source": [
    "cities_lenin_only_streets_cm5sts.shape"
   ]
  },
  {
   "cell_type": "code",
   "execution_count": 60,
   "metadata": {},
   "outputs": [],
   "source": [
    "# считаем количество нас.пунктов с количеством ленинских улиц 2 и больше\n",
    "\n",
    "cities_m5st_2_lst_temp = (cities_lenin_only_streets_cm5sts\n",
    "                          .loc[cities_lenin_only_streets_cm5sts.lenin_street_number >= 2]\n",
    "                          .groupby('region', as_index=False)\n",
    "                          .agg({'city': 'count'})\n",
    "                          .rename(columns={'city': 'cities_2_lsts_cm5s'})\n",
    "                          .sort_values('cities_2_lsts_cm5s', ascending=False)\n",
    "                         )"
   ]
  },
  {
   "cell_type": "code",
   "execution_count": 61,
   "metadata": {},
   "outputs": [
    {
     "data": {
      "text/html": [
       "<div>\n",
       "<style scoped>\n",
       "    .dataframe tbody tr th:only-of-type {\n",
       "        vertical-align: middle;\n",
       "    }\n",
       "\n",
       "    .dataframe tbody tr th {\n",
       "        vertical-align: top;\n",
       "    }\n",
       "\n",
       "    .dataframe thead th {\n",
       "        text-align: right;\n",
       "    }\n",
       "</style>\n",
       "<table border=\"1\" class=\"dataframe\">\n",
       "  <thead>\n",
       "    <tr style=\"text-align: right;\">\n",
       "      <th></th>\n",
       "      <th>region</th>\n",
       "      <th>cities_2_lsts_cm5s</th>\n",
       "    </tr>\n",
       "  </thead>\n",
       "  <tbody>\n",
       "    <tr>\n",
       "      <td>36</td>\n",
       "      <td>Московская область</td>\n",
       "      <td>27</td>\n",
       "    </tr>\n",
       "    <tr>\n",
       "      <td>12</td>\n",
       "      <td>Воронежская область</td>\n",
       "      <td>24</td>\n",
       "    </tr>\n",
       "    <tr>\n",
       "      <td>39</td>\n",
       "      <td>Нижегородская область</td>\n",
       "      <td>16</td>\n",
       "    </tr>\n",
       "    <tr>\n",
       "      <td>49</td>\n",
       "      <td>Ростовская область</td>\n",
       "      <td>14</td>\n",
       "    </tr>\n",
       "    <tr>\n",
       "      <td>55</td>\n",
       "      <td>Свердловская область</td>\n",
       "      <td>14</td>\n",
       "    </tr>\n",
       "    <tr>\n",
       "      <td>47</td>\n",
       "      <td>Приморский край</td>\n",
       "      <td>11</td>\n",
       "    </tr>\n",
       "    <tr>\n",
       "      <td>58</td>\n",
       "      <td>Ставропольский край</td>\n",
       "      <td>11</td>\n",
       "    </tr>\n",
       "    <tr>\n",
       "      <td>7</td>\n",
       "      <td>Брянская область</td>\n",
       "      <td>10</td>\n",
       "    </tr>\n",
       "    <tr>\n",
       "      <td>10</td>\n",
       "      <td>Волгоградская область</td>\n",
       "      <td>9</td>\n",
       "    </tr>\n",
       "    <tr>\n",
       "      <td>50</td>\n",
       "      <td>Рязанская область</td>\n",
       "      <td>8</td>\n",
       "    </tr>\n",
       "  </tbody>\n",
       "</table>\n",
       "</div>"
      ],
      "text/plain": [
       "                   region  cities_2_lsts_cm5s\n",
       "36     Московская область                  27\n",
       "12    Воронежская область                  24\n",
       "39  Нижегородская область                  16\n",
       "49     Ростовская область                  14\n",
       "55   Свердловская область                  14\n",
       "47        Приморский край                  11\n",
       "58    Ставропольский край                  11\n",
       "7        Брянская область                  10\n",
       "10  Волгоградская область                   9\n",
       "50      Рязанская область                   8"
      ]
     },
     "execution_count": 61,
     "metadata": {},
     "output_type": "execute_result"
    }
   ],
   "source": [
    "cities_m5st_2_lst_temp.head(10)"
   ]
  },
  {
   "cell_type": "markdown",
   "metadata": {},
   "source": [
    "**Города и поселки с количеством улиц больше 10**"
   ]
  },
  {
   "cell_type": "code",
   "execution_count": 62,
   "metadata": {},
   "outputs": [],
   "source": [
    "# считаем количество населенных пунктов, где есть хотя бы одна улица Ленина, с общим количеством улиц больше 10\n",
    "\n",
    "cities_m10st_1_lst_temp = (city_more_10_street_lsts\n",
    "                                .groupby('region', as_index=False)\n",
    "                                .agg({'lenin_street_number': 'count'})\n",
    "                                .rename(columns={'lenin_street_number': 'cities_1_lsts_cm10s'})\n",
    "                                .sort_values('cities_1_lsts_cm10s', ascending=False)\n",
    "                               )"
   ]
  },
  {
   "cell_type": "code",
   "execution_count": 63,
   "metadata": {},
   "outputs": [
    {
     "data": {
      "text/html": [
       "<div>\n",
       "<style scoped>\n",
       "    .dataframe tbody tr th:only-of-type {\n",
       "        vertical-align: middle;\n",
       "    }\n",
       "\n",
       "    .dataframe tbody tr th {\n",
       "        vertical-align: top;\n",
       "    }\n",
       "\n",
       "    .dataframe thead th {\n",
       "        text-align: right;\n",
       "    }\n",
       "</style>\n",
       "<table border=\"1\" class=\"dataframe\">\n",
       "  <thead>\n",
       "    <tr style=\"text-align: right;\">\n",
       "      <th></th>\n",
       "      <th>region</th>\n",
       "      <th>cities_1_lsts_cm10s</th>\n",
       "    </tr>\n",
       "  </thead>\n",
       "  <tbody>\n",
       "    <tr>\n",
       "      <td>31</td>\n",
       "      <td>Краснодарский край</td>\n",
       "      <td>333</td>\n",
       "    </tr>\n",
       "    <tr>\n",
       "      <td>62</td>\n",
       "      <td>Свердловская область</td>\n",
       "      <td>277</td>\n",
       "    </tr>\n",
       "    <tr>\n",
       "      <td>55</td>\n",
       "      <td>Ростовская область</td>\n",
       "      <td>233</td>\n",
       "    </tr>\n",
       "    <tr>\n",
       "      <td>13</td>\n",
       "      <td>Воронежская область</td>\n",
       "      <td>204</td>\n",
       "    </tr>\n",
       "    <tr>\n",
       "      <td>6</td>\n",
       "      <td>Башкортостан</td>\n",
       "      <td>184</td>\n",
       "    </tr>\n",
       "    <tr>\n",
       "      <td>66</td>\n",
       "      <td>Ставропольский край</td>\n",
       "      <td>175</td>\n",
       "    </tr>\n",
       "    <tr>\n",
       "      <td>52</td>\n",
       "      <td>Пермский край</td>\n",
       "      <td>169</td>\n",
       "    </tr>\n",
       "    <tr>\n",
       "      <td>68</td>\n",
       "      <td>Татарстан</td>\n",
       "      <td>160</td>\n",
       "    </tr>\n",
       "    <tr>\n",
       "      <td>33</td>\n",
       "      <td>Крым</td>\n",
       "      <td>157</td>\n",
       "    </tr>\n",
       "    <tr>\n",
       "      <td>2</td>\n",
       "      <td>Алтайский край</td>\n",
       "      <td>152</td>\n",
       "    </tr>\n",
       "  </tbody>\n",
       "</table>\n",
       "</div>"
      ],
      "text/plain": [
       "                  region  cities_1_lsts_cm10s\n",
       "31    Краснодарский край                  333\n",
       "62  Свердловская область                  277\n",
       "55    Ростовская область                  233\n",
       "13   Воронежская область                  204\n",
       "6           Башкортостан                  184\n",
       "66   Ставропольский край                  175\n",
       "52         Пермский край                  169\n",
       "68             Татарстан                  160\n",
       "33                  Крым                  157\n",
       "2         Алтайский край                  152"
      ]
     },
     "execution_count": 63,
     "metadata": {},
     "output_type": "execute_result"
    }
   ],
   "source": [
    "cities_m10st_1_lst_temp.head(10)"
   ]
  },
  {
   "cell_type": "code",
   "execution_count": 64,
   "metadata": {},
   "outputs": [],
   "source": [
    "# считаем количество населенных пунктов, где есть как минимум 2 улицы Ленина, с общим количеством улиц больше 10\n",
    "# повторяем предыдущий код\n",
    "# берем все города с количеством улиц больше 10\n",
    "# и присоединяем к ним города с ленискими улицами в варианте без переулков - all_cities_lenin_only_streets\n",
    "\n",
    "\n",
    "cities_lenin_only_streets_cm10sts = city_more_10_streets.merge(all_cities_lenin_only_streets,\n",
    "                          on=(['region', 'mun_district', 'city', 'city_type']),\n",
    "                              how='left'\n",
    "                             )"
   ]
  },
  {
   "cell_type": "code",
   "execution_count": 65,
   "metadata": {},
   "outputs": [],
   "source": [
    "# заполняем пустые значения\n",
    "\n",
    "cities_lenin_only_streets_cm10sts.fillna(0, inplace=True)"
   ]
  },
  {
   "cell_type": "code",
   "execution_count": 66,
   "metadata": {},
   "outputs": [
    {
     "data": {
      "text/plain": [
       "(19288, 6)"
      ]
     },
     "execution_count": 66,
     "metadata": {},
     "output_type": "execute_result"
    }
   ],
   "source": [
    "cities_lenin_only_streets_cm10sts.shape"
   ]
  },
  {
   "cell_type": "code",
   "execution_count": 67,
   "metadata": {},
   "outputs": [],
   "source": [
    "# удаляем нулевые строки, т.е. нас.пункты, где нет ленинских улиц\n",
    "\n",
    "cities_lenin_only_streets_cm10sts = (cities_lenin_only_streets_cm10sts\n",
    "                                    .loc[cities_lenin_only_streets_cm10sts.lenin_street_number > 0]\n",
    "                                   )"
   ]
  },
  {
   "cell_type": "code",
   "execution_count": 68,
   "metadata": {},
   "outputs": [
    {
     "data": {
      "text/plain": [
       "(5815, 6)"
      ]
     },
     "execution_count": 68,
     "metadata": {},
     "output_type": "execute_result"
    }
   ],
   "source": [
    "cities_lenin_only_streets_cm10sts.shape"
   ]
  },
  {
   "cell_type": "code",
   "execution_count": 69,
   "metadata": {},
   "outputs": [],
   "source": [
    "# считаем количество нас.пунктов с количеством ленинских улиц 2 и больше\n",
    "\n",
    "cities_m10st_2_lst_temp = (cities_lenin_only_streets_cm10sts\n",
    "                          .loc[cities_lenin_only_streets_cm10sts.lenin_street_number >= 2]\n",
    "                          .groupby('region', as_index=False)\n",
    "                          .agg({'city': 'count'})\n",
    "                          .rename(columns={'city': 'cities_2_lsts_cm10s'})\n",
    "                          .sort_values('cities_2_lsts_cm10s', ascending=False)\n",
    "                         )"
   ]
  },
  {
   "cell_type": "code",
   "execution_count": 70,
   "metadata": {},
   "outputs": [
    {
     "data": {
      "text/html": [
       "<div>\n",
       "<style scoped>\n",
       "    .dataframe tbody tr th:only-of-type {\n",
       "        vertical-align: middle;\n",
       "    }\n",
       "\n",
       "    .dataframe tbody tr th {\n",
       "        vertical-align: top;\n",
       "    }\n",
       "\n",
       "    .dataframe thead th {\n",
       "        text-align: right;\n",
       "    }\n",
       "</style>\n",
       "<table border=\"1\" class=\"dataframe\">\n",
       "  <thead>\n",
       "    <tr style=\"text-align: right;\">\n",
       "      <th></th>\n",
       "      <th>region</th>\n",
       "      <th>cities_2_lsts_cm10s</th>\n",
       "    </tr>\n",
       "  </thead>\n",
       "  <tbody>\n",
       "    <tr>\n",
       "      <td>36</td>\n",
       "      <td>Московская область</td>\n",
       "      <td>25</td>\n",
       "    </tr>\n",
       "    <tr>\n",
       "      <td>12</td>\n",
       "      <td>Воронежская область</td>\n",
       "      <td>24</td>\n",
       "    </tr>\n",
       "    <tr>\n",
       "      <td>39</td>\n",
       "      <td>Нижегородская область</td>\n",
       "      <td>15</td>\n",
       "    </tr>\n",
       "    <tr>\n",
       "      <td>49</td>\n",
       "      <td>Ростовская область</td>\n",
       "      <td>14</td>\n",
       "    </tr>\n",
       "    <tr>\n",
       "      <td>55</td>\n",
       "      <td>Свердловская область</td>\n",
       "      <td>14</td>\n",
       "    </tr>\n",
       "    <tr>\n",
       "      <td>58</td>\n",
       "      <td>Ставропольский край</td>\n",
       "      <td>11</td>\n",
       "    </tr>\n",
       "    <tr>\n",
       "      <td>47</td>\n",
       "      <td>Приморский край</td>\n",
       "      <td>10</td>\n",
       "    </tr>\n",
       "    <tr>\n",
       "      <td>7</td>\n",
       "      <td>Брянская область</td>\n",
       "      <td>10</td>\n",
       "    </tr>\n",
       "    <tr>\n",
       "      <td>10</td>\n",
       "      <td>Волгоградская область</td>\n",
       "      <td>9</td>\n",
       "    </tr>\n",
       "    <tr>\n",
       "      <td>50</td>\n",
       "      <td>Рязанская область</td>\n",
       "      <td>8</td>\n",
       "    </tr>\n",
       "  </tbody>\n",
       "</table>\n",
       "</div>"
      ],
      "text/plain": [
       "                   region  cities_2_lsts_cm10s\n",
       "36     Московская область                   25\n",
       "12    Воронежская область                   24\n",
       "39  Нижегородская область                   15\n",
       "49     Ростовская область                   14\n",
       "55   Свердловская область                   14\n",
       "58    Ставропольский край                   11\n",
       "47        Приморский край                   10\n",
       "7        Брянская область                   10\n",
       "10  Волгоградская область                    9\n",
       "50      Рязанская область                    8"
      ]
     },
     "execution_count": 70,
     "metadata": {},
     "output_type": "execute_result"
    }
   ],
   "source": [
    "cities_m10st_2_lst_temp.head(10)"
   ]
  },
  {
   "cell_type": "code",
   "execution_count": null,
   "metadata": {},
   "outputs": [],
   "source": []
  },
  {
   "cell_type": "markdown",
   "metadata": {},
   "source": [
    "### Количество улиц ###"
   ]
  },
  {
   "cell_type": "code",
   "execution_count": 71,
   "metadata": {},
   "outputs": [],
   "source": [
    "# считаем все улицы\n",
    "\n",
    "all_streets_temp = (work_streets\n",
    "                    .groupby('region', as_index=False)\n",
    "                    .agg({'street': 'count'})\n",
    "                    .rename(columns={'street': 'total_streets'})\n",
    "                   )"
   ]
  },
  {
   "cell_type": "code",
   "execution_count": 72,
   "metadata": {},
   "outputs": [],
   "source": [
    "# считаем ленинские улицы (полный вариант)\n",
    "\n",
    "lenin_streets_full_temp = (lenin_streets_full\n",
    "                           .groupby('region', as_index=False)\n",
    "                           .agg({'street': 'count'})\n",
    "                           .rename(columns={'street': 'len_streets_full'})\n",
    "                          )"
   ]
  },
  {
   "cell_type": "code",
   "execution_count": 73,
   "metadata": {},
   "outputs": [],
   "source": [
    "# считаем ленинские улицы (строгий вариант)\n",
    "\n",
    "lenin_streets_strict_temp = (lenin_streets_strict\n",
    "                             .groupby('region', as_index=False)\n",
    "                             .agg({'street': 'count'})\n",
    "                             .rename(columns={'street': 'len_streets_strict'})\n",
    "                            )"
   ]
  },
  {
   "cell_type": "code",
   "execution_count": 74,
   "metadata": {},
   "outputs": [],
   "source": [
    "# считаем главные улицы (оставляем только улицы, площади, проспекты, бульвары, шоссе)\n",
    "\n",
    "lenin_only_streets_temp = (lenin_only_streets\n",
    "                           .groupby('region', as_index=False)\n",
    "                           .agg({'street': 'count'})\n",
    "                           .rename(columns={'street': 'len_only_streets'})\n",
    "                          )"
   ]
  },
  {
   "cell_type": "code",
   "execution_count": null,
   "metadata": {},
   "outputs": [],
   "source": []
  },
  {
   "cell_type": "markdown",
   "metadata": {},
   "source": [
    "### Памятники ###"
   ]
  },
  {
   "cell_type": "code",
   "execution_count": 75,
   "metadata": {},
   "outputs": [],
   "source": [
    "# считаем памятники из ОКН\n",
    "\n",
    "monuments_OKN_temp = (monuments_OKN\n",
    "                      .groupby('region', as_index=False)\n",
    "                      .agg({'monument': 'count'})\n",
    "                      .rename(columns={'monument': 'monuments_OKN'})\n",
    "                     )"
   ]
  },
  {
   "cell_type": "code",
   "execution_count": 76,
   "metadata": {},
   "outputs": [],
   "source": [
    "# считаем памятники из базы lst\n",
    "\n",
    "monuments_lst_temp = (monuments_lst\n",
    "                      .groupby('region', as_index=False)\n",
    "                      .agg({'original_name': 'count'})\n",
    "                      .rename(columns={'original_name': 'monuments_lst'})\n",
    "                     )"
   ]
  },
  {
   "cell_type": "markdown",
   "metadata": {},
   "source": [
    "### Считаем количество памятников в населенных пунктах с количеством улиц больше 5 и 10 ###"
   ]
  },
  {
   "cell_type": "markdown",
   "metadata": {},
   "source": [
    "**Больше 5 улиц в нас.пункте ОКН**"
   ]
  },
  {
   "cell_type": "code",
   "execution_count": 77,
   "metadata": {},
   "outputs": [],
   "source": [
    "# группируем города и поселки с монументами из ОКН\n",
    "\n",
    "cities_monuments_OKN = (monuments_OKN\n",
    "                        .groupby(['region', 'mun_district', 'city', 'city_type'], as_index=False)\n",
    "                        .agg({'monument': 'count'})\n",
    "                        .rename(columns={'monument': 'monument_OKN_number'})\n",
    "                       )"
   ]
  },
  {
   "cell_type": "code",
   "execution_count": 78,
   "metadata": {},
   "outputs": [],
   "source": [
    "# объединяем сгруппированные нас.пункты с city_w_more_5_street, чтобы отсеять нас.пункты с количеством улиц меньше 5\n",
    "\n",
    "city_more_5_streets_OKN = cities_monuments_OKN.merge(\n",
    "    city_more_5_streets,\n",
    "    on=['region', 'mun_district', 'city', 'city_type'], how='left')"
   ]
  },
  {
   "cell_type": "code",
   "execution_count": 79,
   "metadata": {},
   "outputs": [],
   "source": [
    "# заполняем пропуски\n",
    "\n",
    "city_more_5_streets_OKN.fillna(0, inplace=True)"
   ]
  },
  {
   "cell_type": "code",
   "execution_count": 80,
   "metadata": {},
   "outputs": [
    {
     "data": {
      "text/plain": [
       "(944, 6)"
      ]
     },
     "execution_count": 80,
     "metadata": {},
     "output_type": "execute_result"
    }
   ],
   "source": [
    "city_more_5_streets_OKN.shape"
   ]
  },
  {
   "cell_type": "code",
   "execution_count": 81,
   "metadata": {},
   "outputs": [],
   "source": [
    "# удаляем нас.пункты с количеством улиц меньше 5\n",
    "\n",
    "city_more_5_streets_OKN = city_more_5_streets_OKN[city_more_5_streets_OKN.street_number > 0]"
   ]
  },
  {
   "cell_type": "code",
   "execution_count": 82,
   "metadata": {},
   "outputs": [
    {
     "data": {
      "text/plain": [
       "(907, 6)"
      ]
     },
     "execution_count": 82,
     "metadata": {},
     "output_type": "execute_result"
    }
   ],
   "source": [
    "city_more_5_streets_OKN.shape"
   ]
  },
  {
   "cell_type": "code",
   "execution_count": 83,
   "metadata": {},
   "outputs": [],
   "source": [
    "# считаем количество памятников по регионам\n",
    "\n",
    "monument_OKN_cm5sts_temp = (city_more_5_streets_OKN\n",
    "                              .groupby('region', as_index=False)\n",
    "                              .agg({'monument_OKN_number': 'count'})\n",
    "                              .rename(columns={'monument_OKN_number': 'monument_OKN_cm5sts'})\n",
    "                              .sort_values('monument_OKN_cm5sts', ascending=False)\n",
    "                             )"
   ]
  },
  {
   "cell_type": "code",
   "execution_count": 84,
   "metadata": {},
   "outputs": [
    {
     "data": {
      "text/html": [
       "<div>\n",
       "<style scoped>\n",
       "    .dataframe tbody tr th:only-of-type {\n",
       "        vertical-align: middle;\n",
       "    }\n",
       "\n",
       "    .dataframe tbody tr th {\n",
       "        vertical-align: top;\n",
       "    }\n",
       "\n",
       "    .dataframe thead th {\n",
       "        text-align: right;\n",
       "    }\n",
       "</style>\n",
       "<table border=\"1\" class=\"dataframe\">\n",
       "  <thead>\n",
       "    <tr style=\"text-align: right;\">\n",
       "      <th></th>\n",
       "      <th>region</th>\n",
       "      <th>monument_OKN_cm5sts</th>\n",
       "    </tr>\n",
       "  </thead>\n",
       "  <tbody>\n",
       "    <tr>\n",
       "      <td>28</td>\n",
       "      <td>Краснодарский край</td>\n",
       "      <td>298</td>\n",
       "    </tr>\n",
       "    <tr>\n",
       "      <td>60</td>\n",
       "      <td>Ставропольский край</td>\n",
       "      <td>90</td>\n",
       "    </tr>\n",
       "    <tr>\n",
       "      <td>13</td>\n",
       "      <td>Дагестан</td>\n",
       "      <td>71</td>\n",
       "    </tr>\n",
       "    <tr>\n",
       "      <td>35</td>\n",
       "      <td>Мордовия</td>\n",
       "      <td>43</td>\n",
       "    </tr>\n",
       "    <tr>\n",
       "      <td>30</td>\n",
       "      <td>Крым</td>\n",
       "      <td>30</td>\n",
       "    </tr>\n",
       "    <tr>\n",
       "      <td>0</td>\n",
       "      <td>Адыгея</td>\n",
       "      <td>28</td>\n",
       "    </tr>\n",
       "    <tr>\n",
       "      <td>19</td>\n",
       "      <td>Калмыкия</td>\n",
       "      <td>27</td>\n",
       "    </tr>\n",
       "    <tr>\n",
       "      <td>49</td>\n",
       "      <td>Ростовская область</td>\n",
       "      <td>23</td>\n",
       "    </tr>\n",
       "    <tr>\n",
       "      <td>42</td>\n",
       "      <td>Омская область</td>\n",
       "      <td>22</td>\n",
       "    </tr>\n",
       "    <tr>\n",
       "      <td>3</td>\n",
       "      <td>Амурская область</td>\n",
       "      <td>20</td>\n",
       "    </tr>\n",
       "  </tbody>\n",
       "</table>\n",
       "</div>"
      ],
      "text/plain": [
       "                 region  monument_OKN_cm5sts\n",
       "28   Краснодарский край                  298\n",
       "60  Ставропольский край                   90\n",
       "13             Дагестан                   71\n",
       "35             Мордовия                   43\n",
       "30                 Крым                   30\n",
       "0                Адыгея                   28\n",
       "19             Калмыкия                   27\n",
       "49   Ростовская область                   23\n",
       "42       Омская область                   22\n",
       "3      Амурская область                   20"
      ]
     },
     "execution_count": 84,
     "metadata": {},
     "output_type": "execute_result"
    }
   ],
   "source": [
    "monument_OKN_cm5sts_temp.head(10)"
   ]
  },
  {
   "cell_type": "markdown",
   "metadata": {},
   "source": [
    "**Больше 10 улиц в нас.пункте ОКН**"
   ]
  },
  {
   "cell_type": "code",
   "execution_count": 85,
   "metadata": {},
   "outputs": [],
   "source": [
    "# объединяем сгруппированные нас.пункты с city_w_more_5_street, чтобы отсеять нас.пункты с количеством улиц меньше 5\n",
    "\n",
    "city_more_10_streets_OKN = cities_monuments_OKN.merge(\n",
    "    city_more_10_streets,\n",
    "    on=['region', 'mun_district', 'city', 'city_type'], how='left')"
   ]
  },
  {
   "cell_type": "code",
   "execution_count": 86,
   "metadata": {},
   "outputs": [],
   "source": [
    "# заполняем пропуски\n",
    "\n",
    "city_more_10_streets_OKN.fillna(0, inplace=True)"
   ]
  },
  {
   "cell_type": "code",
   "execution_count": 87,
   "metadata": {},
   "outputs": [
    {
     "data": {
      "text/plain": [
       "(944, 6)"
      ]
     },
     "execution_count": 87,
     "metadata": {},
     "output_type": "execute_result"
    }
   ],
   "source": [
    "city_more_10_streets_OKN.shape"
   ]
  },
  {
   "cell_type": "code",
   "execution_count": 88,
   "metadata": {},
   "outputs": [],
   "source": [
    "# удаляем нас.пункты с количеством улиц меньше 10\n",
    "\n",
    "city_more_10_streets_OKN = city_more_10_streets_OKN[city_more_10_streets_OKN.street_number > 0]"
   ]
  },
  {
   "cell_type": "code",
   "execution_count": 89,
   "metadata": {},
   "outputs": [
    {
     "data": {
      "text/plain": [
       "(832, 6)"
      ]
     },
     "execution_count": 89,
     "metadata": {},
     "output_type": "execute_result"
    }
   ],
   "source": [
    "city_more_10_streets_OKN.shape"
   ]
  },
  {
   "cell_type": "code",
   "execution_count": 90,
   "metadata": {},
   "outputs": [],
   "source": [
    "# считаем количество памятников по регионам\n",
    "\n",
    "monument_OKN_cm10sts_temp = (city_more_10_streets_OKN\n",
    "                               .groupby('region', as_index=False)\n",
    "                               .agg({'monument_OKN_number': 'count'})\n",
    "                               .rename(columns={'monument_OKN_number': 'monument_OKN_cm10sts'})\n",
    "                               .sort_values('monument_OKN_cm10sts', ascending=False)\n",
    "                              )"
   ]
  },
  {
   "cell_type": "code",
   "execution_count": 91,
   "metadata": {},
   "outputs": [
    {
     "data": {
      "text/html": [
       "<div>\n",
       "<style scoped>\n",
       "    .dataframe tbody tr th:only-of-type {\n",
       "        vertical-align: middle;\n",
       "    }\n",
       "\n",
       "    .dataframe tbody tr th {\n",
       "        vertical-align: top;\n",
       "    }\n",
       "\n",
       "    .dataframe thead th {\n",
       "        text-align: right;\n",
       "    }\n",
       "</style>\n",
       "<table border=\"1\" class=\"dataframe\">\n",
       "  <thead>\n",
       "    <tr style=\"text-align: right;\">\n",
       "      <th></th>\n",
       "      <th>region</th>\n",
       "      <th>monument_OKN_cm10sts</th>\n",
       "    </tr>\n",
       "  </thead>\n",
       "  <tbody>\n",
       "    <tr>\n",
       "      <td>28</td>\n",
       "      <td>Краснодарский край</td>\n",
       "      <td>277</td>\n",
       "    </tr>\n",
       "    <tr>\n",
       "      <td>60</td>\n",
       "      <td>Ставропольский край</td>\n",
       "      <td>87</td>\n",
       "    </tr>\n",
       "    <tr>\n",
       "      <td>13</td>\n",
       "      <td>Дагестан</td>\n",
       "      <td>61</td>\n",
       "    </tr>\n",
       "    <tr>\n",
       "      <td>35</td>\n",
       "      <td>Мордовия</td>\n",
       "      <td>30</td>\n",
       "    </tr>\n",
       "    <tr>\n",
       "      <td>30</td>\n",
       "      <td>Крым</td>\n",
       "      <td>28</td>\n",
       "    </tr>\n",
       "    <tr>\n",
       "      <td>19</td>\n",
       "      <td>Калмыкия</td>\n",
       "      <td>23</td>\n",
       "    </tr>\n",
       "    <tr>\n",
       "      <td>49</td>\n",
       "      <td>Ростовская область</td>\n",
       "      <td>23</td>\n",
       "    </tr>\n",
       "    <tr>\n",
       "      <td>0</td>\n",
       "      <td>Адыгея</td>\n",
       "      <td>22</td>\n",
       "    </tr>\n",
       "    <tr>\n",
       "      <td>42</td>\n",
       "      <td>Омская область</td>\n",
       "      <td>21</td>\n",
       "    </tr>\n",
       "    <tr>\n",
       "      <td>3</td>\n",
       "      <td>Амурская область</td>\n",
       "      <td>19</td>\n",
       "    </tr>\n",
       "  </tbody>\n",
       "</table>\n",
       "</div>"
      ],
      "text/plain": [
       "                 region  monument_OKN_cm10sts\n",
       "28   Краснодарский край                   277\n",
       "60  Ставропольский край                    87\n",
       "13             Дагестан                    61\n",
       "35             Мордовия                    30\n",
       "30                 Крым                    28\n",
       "19             Калмыкия                    23\n",
       "49   Ростовская область                    23\n",
       "0                Адыгея                    22\n",
       "42       Омская область                    21\n",
       "3      Амурская область                    19"
      ]
     },
     "execution_count": 91,
     "metadata": {},
     "output_type": "execute_result"
    }
   ],
   "source": [
    "monument_OKN_cm10sts_temp.head(10)"
   ]
  },
  {
   "cell_type": "markdown",
   "metadata": {},
   "source": [
    "**Больше 5 улиц в нас.пункте leninstatues**"
   ]
  },
  {
   "cell_type": "code",
   "execution_count": 92,
   "metadata": {},
   "outputs": [],
   "source": [
    "# группируем города и поселки с монументами из leninstatues\n",
    "\n",
    "cities_monuments_lst = (monuments_lst\n",
    "                          .groupby(['region', 'mun_district', 'city', 'city_type'], as_index=False)\n",
    "                          .agg({'status': 'count'})\n",
    "                          .rename(columns={'status': 'monument_lst_number'})\n",
    "                          .sort_values('monument_lst_number', ascending=False)\n",
    "       )"
   ]
  },
  {
   "cell_type": "code",
   "execution_count": 93,
   "metadata": {},
   "outputs": [],
   "source": [
    "# объединяем сгруппированные нас.пункты с city_more_5_streets, чтобы отсеять нас.пункты с количеством улиц меньше 5\n",
    "\n",
    "city_more_5_streets_lst = cities_monuments_lst.merge(\n",
    "    city_more_5_streets,\n",
    "    on=['region', 'mun_district', 'city', 'city_type'], how='left')"
   ]
  },
  {
   "cell_type": "code",
   "execution_count": 94,
   "metadata": {},
   "outputs": [],
   "source": [
    "# заполняем пропуски\n",
    "\n",
    "city_more_5_streets_lst.fillna(0, inplace=True)"
   ]
  },
  {
   "cell_type": "code",
   "execution_count": 95,
   "metadata": {},
   "outputs": [
    {
     "data": {
      "text/plain": [
       "(3291, 6)"
      ]
     },
     "execution_count": 95,
     "metadata": {},
     "output_type": "execute_result"
    }
   ],
   "source": [
    "city_more_5_streets_lst.shape"
   ]
  },
  {
   "cell_type": "code",
   "execution_count": 96,
   "metadata": {},
   "outputs": [],
   "source": [
    "# удаляем нас.пункты с количеством улиц меньше 5\n",
    "\n",
    "city_more_5_streets_lst = city_more_5_streets_lst[city_more_5_streets_lst.street_number > 0]"
   ]
  },
  {
   "cell_type": "code",
   "execution_count": 97,
   "metadata": {},
   "outputs": [
    {
     "data": {
      "text/plain": [
       "(3090, 6)"
      ]
     },
     "execution_count": 97,
     "metadata": {},
     "output_type": "execute_result"
    }
   ],
   "source": [
    "city_more_5_streets_lst.shape"
   ]
  },
  {
   "cell_type": "code",
   "execution_count": 98,
   "metadata": {},
   "outputs": [],
   "source": [
    "# считаем количество памятников по регионам\n",
    "\n",
    "monument_lst_cm5sts_temp = (city_more_5_streets_lst\n",
    "                            .groupby('region', as_index=False)\n",
    "                            .agg({'monument_lst_number': 'count'})\n",
    "                            .rename(columns={'monument_lst_number': 'monument_lst_cm5sts'})\n",
    "                            .sort_values('monument_lst_cm5sts', ascending=False)\n",
    "                           )"
   ]
  },
  {
   "cell_type": "code",
   "execution_count": 99,
   "metadata": {},
   "outputs": [
    {
     "data": {
      "text/html": [
       "<div>\n",
       "<style scoped>\n",
       "    .dataframe tbody tr th:only-of-type {\n",
       "        vertical-align: middle;\n",
       "    }\n",
       "\n",
       "    .dataframe tbody tr th {\n",
       "        vertical-align: top;\n",
       "    }\n",
       "\n",
       "    .dataframe thead th {\n",
       "        text-align: right;\n",
       "    }\n",
       "</style>\n",
       "<table border=\"1\" class=\"dataframe\">\n",
       "  <thead>\n",
       "    <tr style=\"text-align: right;\">\n",
       "      <th></th>\n",
       "      <th>region</th>\n",
       "      <th>monument_lst_cm5sts</th>\n",
       "    </tr>\n",
       "  </thead>\n",
       "  <tbody>\n",
       "    <tr>\n",
       "      <td>31</td>\n",
       "      <td>Краснодарский край</td>\n",
       "      <td>266</td>\n",
       "    </tr>\n",
       "    <tr>\n",
       "      <td>55</td>\n",
       "      <td>Ростовская область</td>\n",
       "      <td>194</td>\n",
       "    </tr>\n",
       "    <tr>\n",
       "      <td>42</td>\n",
       "      <td>Московская область</td>\n",
       "      <td>135</td>\n",
       "    </tr>\n",
       "    <tr>\n",
       "      <td>59</td>\n",
       "      <td>Саратовская область</td>\n",
       "      <td>99</td>\n",
       "    </tr>\n",
       "    <tr>\n",
       "      <td>48</td>\n",
       "      <td>Омская область</td>\n",
       "      <td>95</td>\n",
       "    </tr>\n",
       "    <tr>\n",
       "      <td>33</td>\n",
       "      <td>Крым</td>\n",
       "      <td>89</td>\n",
       "    </tr>\n",
       "    <tr>\n",
       "      <td>13</td>\n",
       "      <td>Воронежская область</td>\n",
       "      <td>79</td>\n",
       "    </tr>\n",
       "    <tr>\n",
       "      <td>45</td>\n",
       "      <td>Нижегородская область</td>\n",
       "      <td>79</td>\n",
       "    </tr>\n",
       "    <tr>\n",
       "      <td>66</td>\n",
       "      <td>Ставропольский край</td>\n",
       "      <td>72</td>\n",
       "    </tr>\n",
       "    <tr>\n",
       "      <td>35</td>\n",
       "      <td>Курская область</td>\n",
       "      <td>69</td>\n",
       "    </tr>\n",
       "  </tbody>\n",
       "</table>\n",
       "</div>"
      ],
      "text/plain": [
       "                   region  monument_lst_cm5sts\n",
       "31     Краснодарский край                  266\n",
       "55     Ростовская область                  194\n",
       "42     Московская область                  135\n",
       "59    Саратовская область                   99\n",
       "48         Омская область                   95\n",
       "33                   Крым                   89\n",
       "13    Воронежская область                   79\n",
       "45  Нижегородская область                   79\n",
       "66    Ставропольский край                   72\n",
       "35        Курская область                   69"
      ]
     },
     "execution_count": 99,
     "metadata": {},
     "output_type": "execute_result"
    }
   ],
   "source": [
    "monument_lst_cm5sts_temp.head(10)"
   ]
  },
  {
   "cell_type": "markdown",
   "metadata": {},
   "source": [
    "**Больше 10 улиц в нас.пункте leninstatues**"
   ]
  },
  {
   "cell_type": "code",
   "execution_count": 100,
   "metadata": {},
   "outputs": [],
   "source": [
    "# объединяем сгруппированные нас.пункты с city_more_10_street, чтобы отсеять нас.пункты с количеством улиц меньше 10\n",
    "\n",
    "city_more_10_streets_lst = cities_monuments_lst.merge(\n",
    "    city_more_10_streets,\n",
    "    on=['region', 'mun_district', 'city', 'city_type'], how='left')"
   ]
  },
  {
   "cell_type": "code",
   "execution_count": 101,
   "metadata": {},
   "outputs": [],
   "source": [
    "# заполняем пропуски\n",
    "\n",
    "city_more_10_streets_lst.fillna(0, inplace=True)"
   ]
  },
  {
   "cell_type": "code",
   "execution_count": 102,
   "metadata": {},
   "outputs": [
    {
     "data": {
      "text/plain": [
       "(3291, 6)"
      ]
     },
     "execution_count": 102,
     "metadata": {},
     "output_type": "execute_result"
    }
   ],
   "source": [
    "city_more_10_streets_lst.shape"
   ]
  },
  {
   "cell_type": "code",
   "execution_count": 103,
   "metadata": {},
   "outputs": [],
   "source": [
    "# удаляем нас.пункты с количеством улиц меньше 10\n",
    "\n",
    "city_more_10_streets_lst = city_more_10_streets_lst[city_more_10_streets_lst.street_number > 0]"
   ]
  },
  {
   "cell_type": "code",
   "execution_count": 104,
   "metadata": {},
   "outputs": [
    {
     "data": {
      "text/plain": [
       "(2782, 6)"
      ]
     },
     "execution_count": 104,
     "metadata": {},
     "output_type": "execute_result"
    }
   ],
   "source": [
    "city_more_10_streets_lst.shape"
   ]
  },
  {
   "cell_type": "code",
   "execution_count": 105,
   "metadata": {},
   "outputs": [],
   "source": [
    "# считаем количество памятников по регионам\n",
    "\n",
    "monument_lst_cm10sts_temp = (city_more_10_streets_lst\n",
    "                            .groupby('region', as_index=False)\n",
    "                            .agg({'monument_lst_number': 'count'})\n",
    "                            .rename(columns={'monument_lst_number': 'monument_lst_cm10sts'})\n",
    "                            .sort_values('monument_lst_cm10sts', ascending=False)\n",
    "                           )"
   ]
  },
  {
   "cell_type": "code",
   "execution_count": 106,
   "metadata": {},
   "outputs": [
    {
     "data": {
      "text/html": [
       "<div>\n",
       "<style scoped>\n",
       "    .dataframe tbody tr th:only-of-type {\n",
       "        vertical-align: middle;\n",
       "    }\n",
       "\n",
       "    .dataframe tbody tr th {\n",
       "        vertical-align: top;\n",
       "    }\n",
       "\n",
       "    .dataframe thead th {\n",
       "        text-align: right;\n",
       "    }\n",
       "</style>\n",
       "<table border=\"1\" class=\"dataframe\">\n",
       "  <thead>\n",
       "    <tr style=\"text-align: right;\">\n",
       "      <th></th>\n",
       "      <th>region</th>\n",
       "      <th>monument_lst_cm10sts</th>\n",
       "    </tr>\n",
       "  </thead>\n",
       "  <tbody>\n",
       "    <tr>\n",
       "      <td>31</td>\n",
       "      <td>Краснодарский край</td>\n",
       "      <td>248</td>\n",
       "    </tr>\n",
       "    <tr>\n",
       "      <td>55</td>\n",
       "      <td>Ростовская область</td>\n",
       "      <td>162</td>\n",
       "    </tr>\n",
       "    <tr>\n",
       "      <td>42</td>\n",
       "      <td>Московская область</td>\n",
       "      <td>120</td>\n",
       "    </tr>\n",
       "    <tr>\n",
       "      <td>33</td>\n",
       "      <td>Крым</td>\n",
       "      <td>78</td>\n",
       "    </tr>\n",
       "    <tr>\n",
       "      <td>48</td>\n",
       "      <td>Омская область</td>\n",
       "      <td>77</td>\n",
       "    </tr>\n",
       "    <tr>\n",
       "      <td>13</td>\n",
       "      <td>Воронежская область</td>\n",
       "      <td>75</td>\n",
       "    </tr>\n",
       "    <tr>\n",
       "      <td>59</td>\n",
       "      <td>Саратовская область</td>\n",
       "      <td>73</td>\n",
       "    </tr>\n",
       "    <tr>\n",
       "      <td>45</td>\n",
       "      <td>Нижегородская область</td>\n",
       "      <td>72</td>\n",
       "    </tr>\n",
       "    <tr>\n",
       "      <td>66</td>\n",
       "      <td>Ставропольский край</td>\n",
       "      <td>71</td>\n",
       "    </tr>\n",
       "    <tr>\n",
       "      <td>2</td>\n",
       "      <td>Алтайский край</td>\n",
       "      <td>65</td>\n",
       "    </tr>\n",
       "  </tbody>\n",
       "</table>\n",
       "</div>"
      ],
      "text/plain": [
       "                   region  monument_lst_cm10sts\n",
       "31     Краснодарский край                   248\n",
       "55     Ростовская область                   162\n",
       "42     Московская область                   120\n",
       "33                   Крым                    78\n",
       "48         Омская область                    77\n",
       "13    Воронежская область                    75\n",
       "59    Саратовская область                    73\n",
       "45  Нижегородская область                    72\n",
       "66    Ставропольский край                    71\n",
       "2          Алтайский край                    65"
      ]
     },
     "execution_count": 106,
     "metadata": {},
     "output_type": "execute_result"
    }
   ],
   "source": [
    "monument_lst_cm10sts_temp.head(10)"
   ]
  },
  {
   "cell_type": "code",
   "execution_count": null,
   "metadata": {},
   "outputs": [],
   "source": []
  },
  {
   "cell_type": "markdown",
   "metadata": {},
   "source": [
    "## Объединяем датафреймы ##"
   ]
  },
  {
   "cell_type": "code",
   "execution_count": 107,
   "metadata": {},
   "outputs": [],
   "source": [
    "# присоединяем к рабочему датафрейму количество ленинских городов и поселков (названных в честь Ильича)\n",
    "\n",
    "region_work = region_work.merge(lenin_cities_temp, on='region', how='left')"
   ]
  },
  {
   "cell_type": "code",
   "execution_count": 108,
   "metadata": {},
   "outputs": [],
   "source": [
    "# присоединяем все города и поселки\n",
    "\n",
    "region_work = region_work.merge(all_cities_temp, on='region', how='left')"
   ]
  },
  {
   "cell_type": "code",
   "execution_count": 109,
   "metadata": {},
   "outputs": [],
   "source": [
    "# присоединяем города с количеством улиц 5 и больше и 10 и больше\n",
    "\n",
    "region_work = region_work.merge(city_more_5_streets_temp, on='region', how='left')\n",
    "\n",
    "region_work = region_work.merge(city_more_10_streets_temp, on='region', how='left')"
   ]
  },
  {
   "cell_type": "code",
   "execution_count": 110,
   "metadata": {},
   "outputs": [],
   "source": [
    "# присоединяем количество городов, где есть улицы Ленина\n",
    "\n",
    "# хотя бы одна улица Ленина\n",
    "region_work = region_work.merge(all_cities_lenin_streets_temp, on='region', how='left')\n",
    "\n",
    "# как минимум, 2\n",
    "region_work = region_work.merge(all_cities_2_lenin_streets_temp, on='region', how='left')"
   ]
  },
  {
   "cell_type": "code",
   "execution_count": 111,
   "metadata": {},
   "outputs": [],
   "source": [
    "# присоединяем нас.пункты с количеством улиц больше 5 и 10, где есть улицы Ленина\n",
    "\n",
    "# \n",
    "region_work = region_work.merge(cities_m5st_1_lst_temp, on='region', how='left')\n",
    "\n",
    "region_work = region_work.merge(cities_m5st_2_lst_temp, on='region', how='left')\n",
    "\n",
    "\n",
    "# присоединяем города с количеством улиц больше 5 и 10, где есть улицы Ленина\n",
    "\n",
    "region_work = region_work.merge(cities_m10st_1_lst_temp, on='region', how='left')\n",
    "\n",
    "region_work = region_work.merge(cities_m10st_2_lst_temp, on='region', how='left')"
   ]
  },
  {
   "cell_type": "code",
   "execution_count": 112,
   "metadata": {},
   "outputs": [],
   "source": [
    "# присоединяем улицы\n",
    "\n",
    "region_work = region_work.merge(all_streets_temp, on='region', how='left')\n",
    "\n",
    "\n",
    "region_work = region_work.merge(lenin_streets_full_temp, on='region', how='left')\n",
    "\n",
    "\n",
    "region_work = region_work.merge(lenin_streets_strict_temp, on='region', how='left')\n",
    "\n",
    "\n",
    "region_work = region_work.merge(lenin_only_streets_temp, on='region', how='left')"
   ]
  },
  {
   "cell_type": "code",
   "execution_count": 113,
   "metadata": {},
   "outputs": [],
   "source": [
    "# присоединяем города с количеством улиц больше 5 и 10, где есть улицы Ленина\n",
    "\n",
    "region_work = region_work.merge(lenin_street_sum_cm5sts_temp, on='region', how='left')\n",
    "\n",
    "region_work = region_work.merge(lenin_street_sum_cm10sts_temp, on='region', how='left')"
   ]
  },
  {
   "cell_type": "code",
   "execution_count": null,
   "metadata": {},
   "outputs": [],
   "source": []
  },
  {
   "cell_type": "code",
   "execution_count": 114,
   "metadata": {},
   "outputs": [],
   "source": [
    "# присоединяем памятники\n",
    "\n",
    "region_work = region_work.merge(monuments_OKN_temp, on='region', how='left')\n",
    "\n",
    "region_work = region_work.merge(monuments_lst_temp, on='region', how='left')"
   ]
  },
  {
   "cell_type": "code",
   "execution_count": 115,
   "metadata": {},
   "outputs": [],
   "source": [
    "# присоединяем памятники в городах с количеством улиц больше 5 и 10\n",
    "\n",
    "region_work = region_work.merge(monument_OKN_cm5sts_temp, on='region', how='left')\n",
    "\n",
    "region_work = region_work.merge(monument_lst_cm5sts_temp, on='region', how='left')\n",
    "\n",
    "region_work = region_work.merge(monument_OKN_cm10sts_temp, on='region', how='left')\n",
    "\n",
    "region_work = region_work.merge(monument_lst_cm10sts_temp, on='region', how='left')"
   ]
  },
  {
   "cell_type": "code",
   "execution_count": 116,
   "metadata": {},
   "outputs": [],
   "source": [
    "# заполняем Nan-значения\n",
    "\n",
    "region_work.fillna(0, inplace=True)"
   ]
  },
  {
   "cell_type": "code",
   "execution_count": 117,
   "metadata": {},
   "outputs": [
    {
     "data": {
      "text/html": [
       "<div>\n",
       "<style scoped>\n",
       "    .dataframe tbody tr th:only-of-type {\n",
       "        vertical-align: middle;\n",
       "    }\n",
       "\n",
       "    .dataframe tbody tr th {\n",
       "        vertical-align: top;\n",
       "    }\n",
       "\n",
       "    .dataframe thead th {\n",
       "        text-align: right;\n",
       "    }\n",
       "</style>\n",
       "<table border=\"1\" class=\"dataframe\">\n",
       "  <thead>\n",
       "    <tr style=\"text-align: right;\">\n",
       "      <th></th>\n",
       "      <th>datawrapperName</th>\n",
       "      <th>region</th>\n",
       "      <th>lenin_cities</th>\n",
       "      <th>total_cities</th>\n",
       "      <th>city_m5sts</th>\n",
       "      <th>city_m10sts</th>\n",
       "      <th>cities_1_lsts</th>\n",
       "      <th>cities_2_lsts</th>\n",
       "      <th>cities_1_lsts_cm5s</th>\n",
       "      <th>cities_2_lsts_cm5s</th>\n",
       "      <th>...</th>\n",
       "      <th>len_streets_strict</th>\n",
       "      <th>len_only_streets</th>\n",
       "      <th>lenin_street_cm5st</th>\n",
       "      <th>lenin_street_cm10st</th>\n",
       "      <th>monuments_OKN</th>\n",
       "      <th>monuments_lst</th>\n",
       "      <th>monument_OKN_cm5sts</th>\n",
       "      <th>monument_lst_cm5sts</th>\n",
       "      <th>monument_OKN_cm10sts</th>\n",
       "      <th>monument_lst_cm10sts</th>\n",
       "    </tr>\n",
       "  </thead>\n",
       "  <tbody>\n",
       "    <tr>\n",
       "      <td>0</td>\n",
       "      <td>Алтайский край</td>\n",
       "      <td>Алтайский край</td>\n",
       "      <td>5.0</td>\n",
       "      <td>1586</td>\n",
       "      <td>897</td>\n",
       "      <td>482</td>\n",
       "      <td>226</td>\n",
       "      <td>1.0</td>\n",
       "      <td>204</td>\n",
       "      <td>1.0</td>\n",
       "      <td>...</td>\n",
       "      <td>237</td>\n",
       "      <td>227</td>\n",
       "      <td>213</td>\n",
       "      <td>161</td>\n",
       "      <td>2.0</td>\n",
       "      <td>87</td>\n",
       "      <td>2.0</td>\n",
       "      <td>68</td>\n",
       "      <td>2.0</td>\n",
       "      <td>65</td>\n",
       "    </tr>\n",
       "    <tr>\n",
       "      <td>1</td>\n",
       "      <td>Амурская область</td>\n",
       "      <td>Амурская область</td>\n",
       "      <td>2.0</td>\n",
       "      <td>637</td>\n",
       "      <td>340</td>\n",
       "      <td>159</td>\n",
       "      <td>58</td>\n",
       "      <td>1.0</td>\n",
       "      <td>53</td>\n",
       "      <td>1.0</td>\n",
       "      <td>...</td>\n",
       "      <td>62</td>\n",
       "      <td>59</td>\n",
       "      <td>57</td>\n",
       "      <td>46</td>\n",
       "      <td>32.0</td>\n",
       "      <td>37</td>\n",
       "      <td>20.0</td>\n",
       "      <td>22</td>\n",
       "      <td>19.0</td>\n",
       "      <td>20</td>\n",
       "    </tr>\n",
       "    <tr>\n",
       "      <td>2</td>\n",
       "      <td>Архангельская область</td>\n",
       "      <td>Архангельская область</td>\n",
       "      <td>2.0</td>\n",
       "      <td>3931</td>\n",
       "      <td>353</td>\n",
       "      <td>169</td>\n",
       "      <td>33</td>\n",
       "      <td>4.0</td>\n",
       "      <td>33</td>\n",
       "      <td>4.0</td>\n",
       "      <td>...</td>\n",
       "      <td>39</td>\n",
       "      <td>39</td>\n",
       "      <td>39</td>\n",
       "      <td>37</td>\n",
       "      <td>0.0</td>\n",
       "      <td>49</td>\n",
       "      <td>0.0</td>\n",
       "      <td>31</td>\n",
       "      <td>0.0</td>\n",
       "      <td>30</td>\n",
       "    </tr>\n",
       "    <tr>\n",
       "      <td>3</td>\n",
       "      <td>Астраханская область</td>\n",
       "      <td>Астраханская область</td>\n",
       "      <td>1.0</td>\n",
       "      <td>437</td>\n",
       "      <td>228</td>\n",
       "      <td>170</td>\n",
       "      <td>99</td>\n",
       "      <td>6.0</td>\n",
       "      <td>93</td>\n",
       "      <td>6.0</td>\n",
       "      <td>...</td>\n",
       "      <td>112</td>\n",
       "      <td>106</td>\n",
       "      <td>106</td>\n",
       "      <td>88</td>\n",
       "      <td>1.0</td>\n",
       "      <td>38</td>\n",
       "      <td>1.0</td>\n",
       "      <td>21</td>\n",
       "      <td>1.0</td>\n",
       "      <td>19</td>\n",
       "    </tr>\n",
       "    <tr>\n",
       "      <td>4</td>\n",
       "      <td>Белгородская область</td>\n",
       "      <td>Белгородская область</td>\n",
       "      <td>4.0</td>\n",
       "      <td>1611</td>\n",
       "      <td>553</td>\n",
       "      <td>247</td>\n",
       "      <td>79</td>\n",
       "      <td>2.0</td>\n",
       "      <td>67</td>\n",
       "      <td>2.0</td>\n",
       "      <td>...</td>\n",
       "      <td>85</td>\n",
       "      <td>81</td>\n",
       "      <td>73</td>\n",
       "      <td>55</td>\n",
       "      <td>14.0</td>\n",
       "      <td>80</td>\n",
       "      <td>11.0</td>\n",
       "      <td>56</td>\n",
       "      <td>9.0</td>\n",
       "      <td>47</td>\n",
       "    </tr>\n",
       "    <tr>\n",
       "      <td>...</td>\n",
       "      <td>...</td>\n",
       "      <td>...</td>\n",
       "      <td>...</td>\n",
       "      <td>...</td>\n",
       "      <td>...</td>\n",
       "      <td>...</td>\n",
       "      <td>...</td>\n",
       "      <td>...</td>\n",
       "      <td>...</td>\n",
       "      <td>...</td>\n",
       "      <td>...</td>\n",
       "      <td>...</td>\n",
       "      <td>...</td>\n",
       "      <td>...</td>\n",
       "      <td>...</td>\n",
       "      <td>...</td>\n",
       "      <td>...</td>\n",
       "      <td>...</td>\n",
       "      <td>...</td>\n",
       "      <td>...</td>\n",
       "      <td>...</td>\n",
       "    </tr>\n",
       "    <tr>\n",
       "      <td>80</td>\n",
       "      <td>Чеченская республика</td>\n",
       "      <td>Чечня</td>\n",
       "      <td>1.0</td>\n",
       "      <td>369</td>\n",
       "      <td>228</td>\n",
       "      <td>175</td>\n",
       "      <td>44</td>\n",
       "      <td>0.0</td>\n",
       "      <td>43</td>\n",
       "      <td>0.0</td>\n",
       "      <td>...</td>\n",
       "      <td>50</td>\n",
       "      <td>38</td>\n",
       "      <td>49</td>\n",
       "      <td>47</td>\n",
       "      <td>1.0</td>\n",
       "      <td>1</td>\n",
       "      <td>1.0</td>\n",
       "      <td>1</td>\n",
       "      <td>1.0</td>\n",
       "      <td>1</td>\n",
       "    </tr>\n",
       "    <tr>\n",
       "      <td>81</td>\n",
       "      <td>Чувашская республика</td>\n",
       "      <td>Чувашия</td>\n",
       "      <td>6.0</td>\n",
       "      <td>2002</td>\n",
       "      <td>626</td>\n",
       "      <td>206</td>\n",
       "      <td>277</td>\n",
       "      <td>3.0</td>\n",
       "      <td>206</td>\n",
       "      <td>3.0</td>\n",
       "      <td>...</td>\n",
       "      <td>291</td>\n",
       "      <td>281</td>\n",
       "      <td>219</td>\n",
       "      <td>125</td>\n",
       "      <td>1.0</td>\n",
       "      <td>38</td>\n",
       "      <td>1.0</td>\n",
       "      <td>21</td>\n",
       "      <td>1.0</td>\n",
       "      <td>18</td>\n",
       "    </tr>\n",
       "    <tr>\n",
       "      <td>82</td>\n",
       "      <td>Чукотский автономный округ</td>\n",
       "      <td>Чукотский АО</td>\n",
       "      <td>0.0</td>\n",
       "      <td>67</td>\n",
       "      <td>50</td>\n",
       "      <td>18</td>\n",
       "      <td>14</td>\n",
       "      <td>1.0</td>\n",
       "      <td>10</td>\n",
       "      <td>1.0</td>\n",
       "      <td>...</td>\n",
       "      <td>15</td>\n",
       "      <td>15</td>\n",
       "      <td>11</td>\n",
       "      <td>7</td>\n",
       "      <td>2.0</td>\n",
       "      <td>10</td>\n",
       "      <td>2.0</td>\n",
       "      <td>8</td>\n",
       "      <td>1.0</td>\n",
       "      <td>4</td>\n",
       "    </tr>\n",
       "    <tr>\n",
       "      <td>83</td>\n",
       "      <td>Ямало-Ненецкий автономный округ</td>\n",
       "      <td>Ямало-Ненецкий АО</td>\n",
       "      <td>0.0</td>\n",
       "      <td>130</td>\n",
       "      <td>46</td>\n",
       "      <td>32</td>\n",
       "      <td>12</td>\n",
       "      <td>0.0</td>\n",
       "      <td>12</td>\n",
       "      <td>0.0</td>\n",
       "      <td>...</td>\n",
       "      <td>14</td>\n",
       "      <td>12</td>\n",
       "      <td>14</td>\n",
       "      <td>14</td>\n",
       "      <td>0.0</td>\n",
       "      <td>4</td>\n",
       "      <td>0.0</td>\n",
       "      <td>3</td>\n",
       "      <td>0.0</td>\n",
       "      <td>3</td>\n",
       "    </tr>\n",
       "    <tr>\n",
       "      <td>84</td>\n",
       "      <td>Ярославская область</td>\n",
       "      <td>Ярославская область</td>\n",
       "      <td>1.0</td>\n",
       "      <td>6097</td>\n",
       "      <td>329</td>\n",
       "      <td>136</td>\n",
       "      <td>29</td>\n",
       "      <td>3.0</td>\n",
       "      <td>29</td>\n",
       "      <td>3.0</td>\n",
       "      <td>...</td>\n",
       "      <td>35</td>\n",
       "      <td>33</td>\n",
       "      <td>35</td>\n",
       "      <td>32</td>\n",
       "      <td>1.0</td>\n",
       "      <td>59</td>\n",
       "      <td>1.0</td>\n",
       "      <td>27</td>\n",
       "      <td>1.0</td>\n",
       "      <td>26</td>\n",
       "    </tr>\n",
       "  </tbody>\n",
       "</table>\n",
       "<p>85 rows × 24 columns</p>\n",
       "</div>"
      ],
      "text/plain": [
       "                    datawrapperName                 region  lenin_cities  \\\n",
       "0                    Алтайский край         Алтайский край           5.0   \n",
       "1                  Амурская область       Амурская область           2.0   \n",
       "2             Архангельская область  Архангельская область           2.0   \n",
       "3              Астраханская область   Астраханская область           1.0   \n",
       "4              Белгородская область   Белгородская область           4.0   \n",
       "..                              ...                    ...           ...   \n",
       "80             Чеченская республика                  Чечня           1.0   \n",
       "81             Чувашская республика                Чувашия           6.0   \n",
       "82       Чукотский автономный округ           Чукотский АО           0.0   \n",
       "83  Ямало-Ненецкий автономный округ      Ямало-Ненецкий АО           0.0   \n",
       "84              Ярославская область    Ярославская область           1.0   \n",
       "\n",
       "    total_cities  city_m5sts  city_m10sts  cities_1_lsts  cities_2_lsts  \\\n",
       "0           1586         897          482            226            1.0   \n",
       "1            637         340          159             58            1.0   \n",
       "2           3931         353          169             33            4.0   \n",
       "3            437         228          170             99            6.0   \n",
       "4           1611         553          247             79            2.0   \n",
       "..           ...         ...          ...            ...            ...   \n",
       "80           369         228          175             44            0.0   \n",
       "81          2002         626          206            277            3.0   \n",
       "82            67          50           18             14            1.0   \n",
       "83           130          46           32             12            0.0   \n",
       "84          6097         329          136             29            3.0   \n",
       "\n",
       "    cities_1_lsts_cm5s  cities_2_lsts_cm5s  ...  len_streets_strict  \\\n",
       "0                  204                 1.0  ...                 237   \n",
       "1                   53                 1.0  ...                  62   \n",
       "2                   33                 4.0  ...                  39   \n",
       "3                   93                 6.0  ...                 112   \n",
       "4                   67                 2.0  ...                  85   \n",
       "..                 ...                 ...  ...                 ...   \n",
       "80                  43                 0.0  ...                  50   \n",
       "81                 206                 3.0  ...                 291   \n",
       "82                  10                 1.0  ...                  15   \n",
       "83                  12                 0.0  ...                  14   \n",
       "84                  29                 3.0  ...                  35   \n",
       "\n",
       "    len_only_streets  lenin_street_cm5st  lenin_street_cm10st  monuments_OKN  \\\n",
       "0                227                 213                  161            2.0   \n",
       "1                 59                  57                   46           32.0   \n",
       "2                 39                  39                   37            0.0   \n",
       "3                106                 106                   88            1.0   \n",
       "4                 81                  73                   55           14.0   \n",
       "..               ...                 ...                  ...            ...   \n",
       "80                38                  49                   47            1.0   \n",
       "81               281                 219                  125            1.0   \n",
       "82                15                  11                    7            2.0   \n",
       "83                12                  14                   14            0.0   \n",
       "84                33                  35                   32            1.0   \n",
       "\n",
       "    monuments_lst  monument_OKN_cm5sts  monument_lst_cm5sts  \\\n",
       "0              87                  2.0                   68   \n",
       "1              37                 20.0                   22   \n",
       "2              49                  0.0                   31   \n",
       "3              38                  1.0                   21   \n",
       "4              80                 11.0                   56   \n",
       "..            ...                  ...                  ...   \n",
       "80              1                  1.0                    1   \n",
       "81             38                  1.0                   21   \n",
       "82             10                  2.0                    8   \n",
       "83              4                  0.0                    3   \n",
       "84             59                  1.0                   27   \n",
       "\n",
       "    monument_OKN_cm10sts  monument_lst_cm10sts  \n",
       "0                    2.0                    65  \n",
       "1                   19.0                    20  \n",
       "2                    0.0                    30  \n",
       "3                    1.0                    19  \n",
       "4                    9.0                    47  \n",
       "..                   ...                   ...  \n",
       "80                   1.0                     1  \n",
       "81                   1.0                    18  \n",
       "82                   1.0                     4  \n",
       "83                   0.0                     3  \n",
       "84                   1.0                    26  \n",
       "\n",
       "[85 rows x 24 columns]"
      ]
     },
     "execution_count": 117,
     "metadata": {},
     "output_type": "execute_result"
    }
   ],
   "source": [
    "region_work"
   ]
  },
  {
   "cell_type": "code",
   "execution_count": null,
   "metadata": {},
   "outputs": [],
   "source": []
  },
  {
   "cell_type": "markdown",
   "metadata": {},
   "source": [
    "## Записываем результат ##"
   ]
  },
  {
   "cell_type": "code",
   "execution_count": 118,
   "metadata": {},
   "outputs": [],
   "source": [
    "# записываем csv\n",
    "\n",
    "region_work.to_csv('C:/00_Projects/Lenin/Datasets/04_work_data/work_region.csv', sep=',', encoding='utf-8', index=False)"
   ]
  },
  {
   "cell_type": "code",
   "execution_count": null,
   "metadata": {},
   "outputs": [],
   "source": []
  }
 ],
 "metadata": {
  "kernelspec": {
   "display_name": "Python 3",
   "language": "python",
   "name": "python3"
  },
  "language_info": {
   "codemirror_mode": {
    "name": "ipython",
    "version": 3
   },
   "file_extension": ".py",
   "mimetype": "text/x-python",
   "name": "python",
   "nbconvert_exporter": "python",
   "pygments_lexer": "ipython3",
   "version": "3.7.4"
  }
 },
 "nbformat": 4,
 "nbformat_minor": 2
}
