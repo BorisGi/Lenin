{
 "cells": [
  {
   "cell_type": "markdown",
   "metadata": {},
   "source": [
    "Удаляем лишние из датанные из датасетов.\n",
    "\n",
    "В ФИАС есть некоторое количество некорректных значений, поэтому иногда придется выгружать датасеты в Эксель и править вручную."
   ]
  },
  {
   "cell_type": "code",
   "execution_count": 1,
   "metadata": {
    "scrolled": true
   },
   "outputs": [],
   "source": [
    "import pandas as pd\n",
    "import numpy as np\n",
    "\n",
    "pd.set_option('precision', 13)\n",
    "pd.options.display.max_rows = 100"
   ]
  },
  {
   "cell_type": "code",
   "execution_count": 2,
   "metadata": {
    "scrolled": true
   },
   "outputs": [],
   "source": [
    "# загружаем города и поселки\n",
    "\n",
    "all_cities = pd.read_csv('C:/00_Projects/Lenin/01_FIAS_csv_post/03_all_cities.csv')\n",
    "\n",
    "lenin_cities = pd.read_csv('C:/00_Projects/Lenin/01_FIAS_csv_post/04_lenin_cities.csv')"
   ]
  },
  {
   "cell_type": "code",
   "execution_count": 3,
   "metadata": {
    "scrolled": true
   },
   "outputs": [],
   "source": [
    "# загружаем улицы\n",
    "\n",
    "all_streets = pd.read_csv('C:/00_Projects/Lenin/01_FIAS_csv_post/05_all_streets.csv')\n",
    "\n",
    "lenin_streets = pd.read_csv('C:/00_Projects/Lenin/01_FIAS_csv_post/06_lenin_streets.csv')"
   ]
  },
  {
   "cell_type": "code",
   "execution_count": 4,
   "metadata": {
    "scrolled": true
   },
   "outputs": [
    {
     "data": {
      "text/html": [
       "<div>\n",
       "<style scoped>\n",
       "    .dataframe tbody tr th:only-of-type {\n",
       "        vertical-align: middle;\n",
       "    }\n",
       "\n",
       "    .dataframe tbody tr th {\n",
       "        vertical-align: top;\n",
       "    }\n",
       "\n",
       "    .dataframe thead th {\n",
       "        text-align: right;\n",
       "    }\n",
       "</style>\n",
       "<table border=\"1\" class=\"dataframe\">\n",
       "  <thead>\n",
       "    <tr style=\"text-align: right;\">\n",
       "      <th></th>\n",
       "      <th>aolevel</th>\n",
       "      <th>city</th>\n",
       "      <th>city_type</th>\n",
       "      <th>mun_district</th>\n",
       "      <th>offname</th>\n",
       "      <th>okato</th>\n",
       "      <th>oktmo</th>\n",
       "      <th>postalcode</th>\n",
       "      <th>region</th>\n",
       "      <th>shortname</th>\n",
       "      <th>street</th>\n",
       "    </tr>\n",
       "  </thead>\n",
       "  <tbody>\n",
       "    <tr>\n",
       "      <td>0</td>\n",
       "      <td>7</td>\n",
       "      <td>Советский</td>\n",
       "      <td>х</td>\n",
       "      <td>Майкопский</td>\n",
       "      <td>Ленина</td>\n",
       "      <td>79222000044.0</td>\n",
       "      <td>79622420136.0</td>\n",
       "      <td>385064.0</td>\n",
       "      <td>Адыгея</td>\n",
       "      <td>ул</td>\n",
       "      <td>Ленина</td>\n",
       "    </tr>\n",
       "    <tr>\n",
       "      <td>1</td>\n",
       "      <td>7</td>\n",
       "      <td>Ханская</td>\n",
       "      <td>ст-ца</td>\n",
       "      <td>Майкоп</td>\n",
       "      <td>Ленина</td>\n",
       "      <td>79401000008.0</td>\n",
       "      <td>79701000141.0</td>\n",
       "      <td>NaN</td>\n",
       "      <td>Адыгея</td>\n",
       "      <td>ул</td>\n",
       "      <td>Ленина</td>\n",
       "    </tr>\n",
       "    <tr>\n",
       "      <td>2</td>\n",
       "      <td>7</td>\n",
       "      <td>Псекупс</td>\n",
       "      <td>х</td>\n",
       "      <td>Адыгейск</td>\n",
       "      <td>Ленина</td>\n",
       "      <td>79403000002.0</td>\n",
       "      <td>79703000111.0</td>\n",
       "      <td>385239.0</td>\n",
       "      <td>Адыгея</td>\n",
       "      <td>ул</td>\n",
       "      <td>Ленина</td>\n",
       "    </tr>\n",
       "    <tr>\n",
       "      <td>3</td>\n",
       "      <td>7</td>\n",
       "      <td>Адыгейск</td>\n",
       "      <td>г</td>\n",
       "      <td>Адыгейск</td>\n",
       "      <td>Ленинохабльская</td>\n",
       "      <td>79403000000.0</td>\n",
       "      <td>79703000001.0</td>\n",
       "      <td>385200.0</td>\n",
       "      <td>Адыгея</td>\n",
       "      <td>ул</td>\n",
       "      <td>Ленинохабльская</td>\n",
       "    </tr>\n",
       "    <tr>\n",
       "      <td>4</td>\n",
       "      <td>7</td>\n",
       "      <td>Адыгейск</td>\n",
       "      <td>г</td>\n",
       "      <td>Адыгейск</td>\n",
       "      <td>В.И.Ленина</td>\n",
       "      <td>79403000000.0</td>\n",
       "      <td>79703000001.0</td>\n",
       "      <td>NaN</td>\n",
       "      <td>Адыгея</td>\n",
       "      <td>пр-кт</td>\n",
       "      <td>В.И.Ленина</td>\n",
       "    </tr>\n",
       "    <tr>\n",
       "      <td>...</td>\n",
       "      <td>...</td>\n",
       "      <td>...</td>\n",
       "      <td>...</td>\n",
       "      <td>...</td>\n",
       "      <td>...</td>\n",
       "      <td>...</td>\n",
       "      <td>...</td>\n",
       "      <td>...</td>\n",
       "      <td>...</td>\n",
       "      <td>...</td>\n",
       "      <td>...</td>\n",
       "    </tr>\n",
       "    <tr>\n",
       "      <td>11267</td>\n",
       "      <td>7</td>\n",
       "      <td>Приморский</td>\n",
       "      <td>пгт</td>\n",
       "      <td>Феодосия</td>\n",
       "      <td>Ленина</td>\n",
       "      <td>35417000010.0</td>\n",
       "      <td>35726000108.0</td>\n",
       "      <td>298176.0</td>\n",
       "      <td>Крым</td>\n",
       "      <td>ул</td>\n",
       "      <td>Ленина</td>\n",
       "    </tr>\n",
       "    <tr>\n",
       "      <td>11268</td>\n",
       "      <td>7</td>\n",
       "      <td>Коктебель</td>\n",
       "      <td>пгт</td>\n",
       "      <td>Феодосия</td>\n",
       "      <td>Ленина</td>\n",
       "      <td>35417000002.0</td>\n",
       "      <td>35726000102.0</td>\n",
       "      <td>298186.0</td>\n",
       "      <td>Крым</td>\n",
       "      <td>ул</td>\n",
       "      <td>Ленина</td>\n",
       "    </tr>\n",
       "    <tr>\n",
       "      <td>11269</td>\n",
       "      <td>7</td>\n",
       "      <td>Насыпное</td>\n",
       "      <td>с</td>\n",
       "      <td>Феодосия</td>\n",
       "      <td>Ленина</td>\n",
       "      <td>35417000033.0</td>\n",
       "      <td>35726000131.0</td>\n",
       "      <td>298180.0</td>\n",
       "      <td>Крым</td>\n",
       "      <td>ул</td>\n",
       "      <td>Ленина</td>\n",
       "    </tr>\n",
       "    <tr>\n",
       "      <td>11270</td>\n",
       "      <td>7</td>\n",
       "      <td>Краснокаменка</td>\n",
       "      <td>с</td>\n",
       "      <td>Феодосия</td>\n",
       "      <td>Ленина</td>\n",
       "      <td>35417000026.0</td>\n",
       "      <td>35726000111.0</td>\n",
       "      <td>298189.0</td>\n",
       "      <td>Крым</td>\n",
       "      <td>ул</td>\n",
       "      <td>Ленина</td>\n",
       "    </tr>\n",
       "    <tr>\n",
       "      <td>11271</td>\n",
       "      <td>7</td>\n",
       "      <td>Щебетовка</td>\n",
       "      <td>пгт</td>\n",
       "      <td>Феодосия</td>\n",
       "      <td>Ленина</td>\n",
       "      <td>35417000013.0</td>\n",
       "      <td>35726000109.0</td>\n",
       "      <td>298187.0</td>\n",
       "      <td>Крым</td>\n",
       "      <td>ул</td>\n",
       "      <td>Ленина</td>\n",
       "    </tr>\n",
       "  </tbody>\n",
       "</table>\n",
       "<p>11272 rows × 11 columns</p>\n",
       "</div>"
      ],
      "text/plain": [
       "       aolevel           city city_type mun_district          offname  \\\n",
       "0            7      Советский         х   Майкопский           Ленина   \n",
       "1            7        Ханская     ст-ца       Майкоп           Ленина   \n",
       "2            7        Псекупс         х     Адыгейск           Ленина   \n",
       "3            7       Адыгейск         г     Адыгейск  Ленинохабльская   \n",
       "4            7       Адыгейск         г     Адыгейск       В.И.Ленина   \n",
       "...        ...            ...       ...          ...              ...   \n",
       "11267        7     Приморский       пгт     Феодосия           Ленина   \n",
       "11268        7      Коктебель       пгт     Феодосия           Ленина   \n",
       "11269        7       Насыпное         с     Феодосия           Ленина   \n",
       "11270        7  Краснокаменка         с     Феодосия           Ленина   \n",
       "11271        7      Щебетовка       пгт     Феодосия           Ленина   \n",
       "\n",
       "               okato          oktmo  postalcode  region shortname  \\\n",
       "0      79222000044.0  79622420136.0    385064.0  Адыгея        ул   \n",
       "1      79401000008.0  79701000141.0         NaN  Адыгея        ул   \n",
       "2      79403000002.0  79703000111.0    385239.0  Адыгея        ул   \n",
       "3      79403000000.0  79703000001.0    385200.0  Адыгея        ул   \n",
       "4      79403000000.0  79703000001.0         NaN  Адыгея     пр-кт   \n",
       "...              ...            ...         ...     ...       ...   \n",
       "11267  35417000010.0  35726000108.0    298176.0    Крым        ул   \n",
       "11268  35417000002.0  35726000102.0    298186.0    Крым        ул   \n",
       "11269  35417000033.0  35726000131.0    298180.0    Крым        ул   \n",
       "11270  35417000026.0  35726000111.0    298189.0    Крым        ул   \n",
       "11271  35417000013.0  35726000109.0    298187.0    Крым        ул   \n",
       "\n",
       "                street  \n",
       "0               Ленина  \n",
       "1               Ленина  \n",
       "2               Ленина  \n",
       "3      Ленинохабльская  \n",
       "4           В.И.Ленина  \n",
       "...                ...  \n",
       "11267           Ленина  \n",
       "11268           Ленина  \n",
       "11269           Ленина  \n",
       "11270           Ленина  \n",
       "11271           Ленина  \n",
       "\n",
       "[11272 rows x 11 columns]"
      ]
     },
     "execution_count": 4,
     "metadata": {},
     "output_type": "execute_result"
    }
   ],
   "source": [
    "lenin_streets"
   ]
  },
  {
   "cell_type": "code",
   "execution_count": null,
   "metadata": {
    "scrolled": true
   },
   "outputs": [],
   "source": []
  },
  {
   "cell_type": "markdown",
   "metadata": {},
   "source": [
    "## Чистим города и поселки ##\n",
    "\n",
    "Чистим all_cities и lenin_cities"
   ]
  },
  {
   "cell_type": "code",
   "execution_count": 5,
   "metadata": {
    "scrolled": true
   },
   "outputs": [
    {
     "data": {
      "text/plain": [
       "aolevel             0\n",
       "city                0\n",
       "city_type          28\n",
       "mun_district        0\n",
       "offname           782\n",
       "okato              17\n",
       "oktmo             191\n",
       "postalcode      26364\n",
       "region              0\n",
       "dtype: int64"
      ]
     },
     "execution_count": 5,
     "metadata": {},
     "output_type": "execute_result"
    }
   ],
   "source": [
    "all_cities.isnull().sum()"
   ]
  },
  {
   "cell_type": "code",
   "execution_count": 6,
   "metadata": {
    "scrolled": true
   },
   "outputs": [
    {
     "data": {
      "text/plain": [
       "(165148, 9)"
      ]
     },
     "execution_count": 6,
     "metadata": {},
     "output_type": "execute_result"
    }
   ],
   "source": [
    "all_cities.shape"
   ]
  },
  {
   "cell_type": "code",
   "execution_count": 7,
   "metadata": {
    "scrolled": true
   },
   "outputs": [
    {
     "data": {
      "text/html": [
       "<div>\n",
       "<style scoped>\n",
       "    .dataframe tbody tr th:only-of-type {\n",
       "        vertical-align: middle;\n",
       "    }\n",
       "\n",
       "    .dataframe tbody tr th {\n",
       "        vertical-align: top;\n",
       "    }\n",
       "\n",
       "    .dataframe thead th {\n",
       "        text-align: right;\n",
       "    }\n",
       "</style>\n",
       "<table border=\"1\" class=\"dataframe\">\n",
       "  <thead>\n",
       "    <tr style=\"text-align: right;\">\n",
       "      <th></th>\n",
       "      <th>aolevel</th>\n",
       "      <th>city</th>\n",
       "      <th>city_type</th>\n",
       "      <th>mun_district</th>\n",
       "      <th>offname</th>\n",
       "      <th>okato</th>\n",
       "      <th>oktmo</th>\n",
       "      <th>postalcode</th>\n",
       "      <th>region</th>\n",
       "    </tr>\n",
       "  </thead>\n",
       "  <tbody>\n",
       "    <tr>\n",
       "      <td>0</td>\n",
       "      <td>6</td>\n",
       "      <td>Советский</td>\n",
       "      <td>х</td>\n",
       "      <td>Майкопский</td>\n",
       "      <td>Советский</td>\n",
       "      <td>79222000044.0</td>\n",
       "      <td>79622420136.0</td>\n",
       "      <td>385064.0</td>\n",
       "      <td>Адыгея</td>\n",
       "    </tr>\n",
       "    <tr>\n",
       "      <td>1</td>\n",
       "      <td>6</td>\n",
       "      <td>Шенджий</td>\n",
       "      <td>ст</td>\n",
       "      <td>Тахтамукайский</td>\n",
       "      <td>Шенджий</td>\n",
       "      <td>79230000025.0</td>\n",
       "      <td>79630419101.0</td>\n",
       "      <td>385124.0</td>\n",
       "      <td>Адыгея</td>\n",
       "    </tr>\n",
       "    <tr>\n",
       "      <td>2</td>\n",
       "      <td>6</td>\n",
       "      <td>Ханская</td>\n",
       "      <td>ст-ца</td>\n",
       "      <td>Майкоп</td>\n",
       "      <td>Ханская</td>\n",
       "      <td>79401000008.0</td>\n",
       "      <td>79701000141.0</td>\n",
       "      <td>NaN</td>\n",
       "      <td>Адыгея</td>\n",
       "    </tr>\n",
       "    <tr>\n",
       "      <td>3</td>\n",
       "      <td>6</td>\n",
       "      <td>Гатлукай</td>\n",
       "      <td>аул</td>\n",
       "      <td>Адыгейск</td>\n",
       "      <td>Гатлукай</td>\n",
       "      <td>79403000001.0</td>\n",
       "      <td>79703000106.0</td>\n",
       "      <td>385271.0</td>\n",
       "      <td>Адыгея</td>\n",
       "    </tr>\n",
       "    <tr>\n",
       "      <td>4</td>\n",
       "      <td>6</td>\n",
       "      <td>Псекупс</td>\n",
       "      <td>х</td>\n",
       "      <td>Адыгейск</td>\n",
       "      <td>Псекупс</td>\n",
       "      <td>79403000002.0</td>\n",
       "      <td>79703000111.0</td>\n",
       "      <td>385239.0</td>\n",
       "      <td>Адыгея</td>\n",
       "    </tr>\n",
       "    <tr>\n",
       "      <td>...</td>\n",
       "      <td>...</td>\n",
       "      <td>...</td>\n",
       "      <td>...</td>\n",
       "      <td>...</td>\n",
       "      <td>...</td>\n",
       "      <td>...</td>\n",
       "      <td>...</td>\n",
       "      <td>...</td>\n",
       "      <td>...</td>\n",
       "    </tr>\n",
       "    <tr>\n",
       "      <td>165143</td>\n",
       "      <td>6</td>\n",
       "      <td>Береговое</td>\n",
       "      <td>с</td>\n",
       "      <td>Феодосия</td>\n",
       "      <td>Береговое</td>\n",
       "      <td>35417000016.0</td>\n",
       "      <td>35726000116.0</td>\n",
       "      <td>NaN</td>\n",
       "      <td>Крым</td>\n",
       "    </tr>\n",
       "    <tr>\n",
       "      <td>165144</td>\n",
       "      <td>6</td>\n",
       "      <td>Краснокаменка</td>\n",
       "      <td>с</td>\n",
       "      <td>Феодосия</td>\n",
       "      <td>Краснокаменка</td>\n",
       "      <td>35417000026.0</td>\n",
       "      <td>35726000111.0</td>\n",
       "      <td>298189.0</td>\n",
       "      <td>Крым</td>\n",
       "    </tr>\n",
       "    <tr>\n",
       "      <td>165145</td>\n",
       "      <td>6</td>\n",
       "      <td>Степное</td>\n",
       "      <td>с</td>\n",
       "      <td>Феодосия</td>\n",
       "      <td>Степное</td>\n",
       "      <td>35417000046.0</td>\n",
       "      <td>35726000121.0</td>\n",
       "      <td>NaN</td>\n",
       "      <td>Крым</td>\n",
       "    </tr>\n",
       "    <tr>\n",
       "      <td>165146</td>\n",
       "      <td>6</td>\n",
       "      <td>Подгорное</td>\n",
       "      <td>с</td>\n",
       "      <td>Феодосия</td>\n",
       "      <td>Подгорное</td>\n",
       "      <td>35417000039.0</td>\n",
       "      <td>35726000146.0</td>\n",
       "      <td>NaN</td>\n",
       "      <td>Крым</td>\n",
       "    </tr>\n",
       "    <tr>\n",
       "      <td>165147</td>\n",
       "      <td>6</td>\n",
       "      <td>Насыпное</td>\n",
       "      <td>с</td>\n",
       "      <td>Феодосия</td>\n",
       "      <td>Насыпное</td>\n",
       "      <td>35417000033.0</td>\n",
       "      <td>35726000131.0</td>\n",
       "      <td>298180.0</td>\n",
       "      <td>Крым</td>\n",
       "    </tr>\n",
       "  </tbody>\n",
       "</table>\n",
       "<p>165148 rows × 9 columns</p>\n",
       "</div>"
      ],
      "text/plain": [
       "        aolevel           city city_type    mun_district        offname  \\\n",
       "0             6      Советский         х      Майкопский      Советский   \n",
       "1             6        Шенджий        ст  Тахтамукайский        Шенджий   \n",
       "2             6        Ханская     ст-ца          Майкоп        Ханская   \n",
       "3             6       Гатлукай       аул        Адыгейск       Гатлукай   \n",
       "4             6        Псекупс         х        Адыгейск        Псекупс   \n",
       "...         ...            ...       ...             ...            ...   \n",
       "165143        6      Береговое         с        Феодосия      Береговое   \n",
       "165144        6  Краснокаменка         с        Феодосия  Краснокаменка   \n",
       "165145        6        Степное         с        Феодосия        Степное   \n",
       "165146        6      Подгорное         с        Феодосия      Подгорное   \n",
       "165147        6       Насыпное         с        Феодосия       Насыпное   \n",
       "\n",
       "                okato          oktmo  postalcode  region  \n",
       "0       79222000044.0  79622420136.0    385064.0  Адыгея  \n",
       "1       79230000025.0  79630419101.0    385124.0  Адыгея  \n",
       "2       79401000008.0  79701000141.0         NaN  Адыгея  \n",
       "3       79403000001.0  79703000106.0    385271.0  Адыгея  \n",
       "4       79403000002.0  79703000111.0    385239.0  Адыгея  \n",
       "...               ...            ...         ...     ...  \n",
       "165143  35417000016.0  35726000116.0         NaN    Крым  \n",
       "165144  35417000026.0  35726000111.0    298189.0    Крым  \n",
       "165145  35417000046.0  35726000121.0         NaN    Крым  \n",
       "165146  35417000039.0  35726000146.0         NaN    Крым  \n",
       "165147  35417000033.0  35726000131.0    298180.0    Крым  \n",
       "\n",
       "[165148 rows x 9 columns]"
      ]
     },
     "execution_count": 7,
     "metadata": {},
     "output_type": "execute_result"
    }
   ],
   "source": [
    "all_cities"
   ]
  },
  {
   "cell_type": "code",
   "execution_count": 8,
   "metadata": {
    "scrolled": true
   },
   "outputs": [
    {
     "data": {
      "text/plain": [
       "63"
      ]
     },
     "execution_count": 8,
     "metadata": {},
     "output_type": "execute_result"
    }
   ],
   "source": [
    "# смотрим сколько вообще  типов населенных пунктов есть в базе\n",
    "\n",
    "all_cities.city_type.nunique()"
   ]
  },
  {
   "cell_type": "code",
   "execution_count": 9,
   "metadata": {
    "scrolled": true
   },
   "outputs": [
    {
     "data": {
      "text/html": [
       "<div>\n",
       "<style scoped>\n",
       "    .dataframe tbody tr th:only-of-type {\n",
       "        vertical-align: middle;\n",
       "    }\n",
       "\n",
       "    .dataframe tbody tr th {\n",
       "        vertical-align: top;\n",
       "    }\n",
       "\n",
       "    .dataframe thead th {\n",
       "        text-align: right;\n",
       "    }\n",
       "</style>\n",
       "<table border=\"1\" class=\"dataframe\">\n",
       "  <thead>\n",
       "    <tr style=\"text-align: right;\">\n",
       "      <th></th>\n",
       "      <th>city_type</th>\n",
       "      <th>city_number</th>\n",
       "    </tr>\n",
       "  </thead>\n",
       "  <tbody>\n",
       "    <tr>\n",
       "      <td>9</td>\n",
       "      <td>д</td>\n",
       "      <td>96549</td>\n",
       "    </tr>\n",
       "    <tr>\n",
       "      <td>48</td>\n",
       "      <td>с</td>\n",
       "      <td>30812</td>\n",
       "    </tr>\n",
       "    <tr>\n",
       "      <td>35</td>\n",
       "      <td>п</td>\n",
       "      <td>18690</td>\n",
       "    </tr>\n",
       "    <tr>\n",
       "      <td>62</td>\n",
       "      <td>х</td>\n",
       "      <td>5880</td>\n",
       "    </tr>\n",
       "    <tr>\n",
       "      <td>60</td>\n",
       "      <td>тер</td>\n",
       "      <td>2337</td>\n",
       "    </tr>\n",
       "    <tr>\n",
       "      <td>55</td>\n",
       "      <td>снт</td>\n",
       "      <td>1765</td>\n",
       "    </tr>\n",
       "    <tr>\n",
       "      <td>53</td>\n",
       "      <td>с/с</td>\n",
       "      <td>1142</td>\n",
       "    </tr>\n",
       "    <tr>\n",
       "      <td>5</td>\n",
       "      <td>г</td>\n",
       "      <td>1108</td>\n",
       "    </tr>\n",
       "    <tr>\n",
       "      <td>52</td>\n",
       "      <td>с/п</td>\n",
       "      <td>738</td>\n",
       "    </tr>\n",
       "    <tr>\n",
       "      <td>39</td>\n",
       "      <td>пгт</td>\n",
       "      <td>592</td>\n",
       "    </tr>\n",
       "    <tr>\n",
       "      <td>47</td>\n",
       "      <td>рп</td>\n",
       "      <td>537</td>\n",
       "    </tr>\n",
       "    <tr>\n",
       "      <td>58</td>\n",
       "      <td>ст</td>\n",
       "      <td>528</td>\n",
       "    </tr>\n",
       "    <tr>\n",
       "      <td>33</td>\n",
       "      <td>нп</td>\n",
       "      <td>504</td>\n",
       "    </tr>\n",
       "    <tr>\n",
       "      <td>59</td>\n",
       "      <td>ст-ца</td>\n",
       "      <td>457</td>\n",
       "    </tr>\n",
       "    <tr>\n",
       "      <td>10</td>\n",
       "      <td>дп</td>\n",
       "      <td>397</td>\n",
       "    </tr>\n",
       "    <tr>\n",
       "      <td>22</td>\n",
       "      <td>ж/д_ст</td>\n",
       "      <td>385</td>\n",
       "    </tr>\n",
       "    <tr>\n",
       "      <td>46</td>\n",
       "      <td>рзд</td>\n",
       "      <td>275</td>\n",
       "    </tr>\n",
       "    <tr>\n",
       "      <td>38</td>\n",
       "      <td>п/ст</td>\n",
       "      <td>249</td>\n",
       "    </tr>\n",
       "    <tr>\n",
       "      <td>30</td>\n",
       "      <td>м</td>\n",
       "      <td>238</td>\n",
       "    </tr>\n",
       "    <tr>\n",
       "      <td>3</td>\n",
       "      <td>аул</td>\n",
       "      <td>237</td>\n",
       "    </tr>\n",
       "    <tr>\n",
       "      <td>61</td>\n",
       "      <td>у</td>\n",
       "      <td>189</td>\n",
       "    </tr>\n",
       "    <tr>\n",
       "      <td>21</td>\n",
       "      <td>ж/д_рзд</td>\n",
       "      <td>169</td>\n",
       "    </tr>\n",
       "    <tr>\n",
       "      <td>31</td>\n",
       "      <td>массив</td>\n",
       "      <td>162</td>\n",
       "    </tr>\n",
       "    <tr>\n",
       "      <td>44</td>\n",
       "      <td>починок</td>\n",
       "      <td>141</td>\n",
       "    </tr>\n",
       "    <tr>\n",
       "      <td>32</td>\n",
       "      <td>мкр</td>\n",
       "      <td>121</td>\n",
       "    </tr>\n",
       "    <tr>\n",
       "      <td>54</td>\n",
       "      <td>сл</td>\n",
       "      <td>89</td>\n",
       "    </tr>\n",
       "    <tr>\n",
       "      <td>36</td>\n",
       "      <td>п. ж/д ст.</td>\n",
       "      <td>79</td>\n",
       "    </tr>\n",
       "    <tr>\n",
       "      <td>16</td>\n",
       "      <td>ж/д_будка</td>\n",
       "      <td>69</td>\n",
       "    </tr>\n",
       "    <tr>\n",
       "      <td>1</td>\n",
       "      <td>автодорога</td>\n",
       "      <td>63</td>\n",
       "    </tr>\n",
       "    <tr>\n",
       "      <td>24</td>\n",
       "      <td>заимка</td>\n",
       "      <td>61</td>\n",
       "    </tr>\n",
       "    <tr>\n",
       "      <td>4</td>\n",
       "      <td>высел</td>\n",
       "      <td>55</td>\n",
       "    </tr>\n",
       "    <tr>\n",
       "      <td>0</td>\n",
       "      <td>аал</td>\n",
       "      <td>54</td>\n",
       "    </tr>\n",
       "    <tr>\n",
       "      <td>45</td>\n",
       "      <td>промзона</td>\n",
       "      <td>47</td>\n",
       "    </tr>\n",
       "    <tr>\n",
       "      <td>8</td>\n",
       "      <td>гп</td>\n",
       "      <td>43</td>\n",
       "    </tr>\n",
       "    <tr>\n",
       "      <td>17</td>\n",
       "      <td>ж/д_казарм</td>\n",
       "      <td>42</td>\n",
       "    </tr>\n",
       "    <tr>\n",
       "      <td>18</td>\n",
       "      <td>ж/д_оп</td>\n",
       "      <td>32</td>\n",
       "    </tr>\n",
       "    <tr>\n",
       "      <td>26</td>\n",
       "      <td>кв-л</td>\n",
       "      <td>31</td>\n",
       "    </tr>\n",
       "    <tr>\n",
       "      <td>7</td>\n",
       "      <td>г.</td>\n",
       "      <td>29</td>\n",
       "    </tr>\n",
       "    <tr>\n",
       "      <td>56</td>\n",
       "      <td>сп</td>\n",
       "      <td>28</td>\n",
       "    </tr>\n",
       "    <tr>\n",
       "      <td>57</td>\n",
       "      <td>сп.</td>\n",
       "      <td>23</td>\n",
       "    </tr>\n",
       "    <tr>\n",
       "      <td>6</td>\n",
       "      <td>г-к</td>\n",
       "      <td>19</td>\n",
       "    </tr>\n",
       "    <tr>\n",
       "      <td>19</td>\n",
       "      <td>ж/д_платф</td>\n",
       "      <td>18</td>\n",
       "    </tr>\n",
       "    <tr>\n",
       "      <td>2</td>\n",
       "      <td>арбан</td>\n",
       "      <td>17</td>\n",
       "    </tr>\n",
       "    <tr>\n",
       "      <td>25</td>\n",
       "      <td>казарма</td>\n",
       "      <td>16</td>\n",
       "    </tr>\n",
       "    <tr>\n",
       "      <td>23</td>\n",
       "      <td>жилрайон</td>\n",
       "      <td>15</td>\n",
       "    </tr>\n",
       "    <tr>\n",
       "      <td>27</td>\n",
       "      <td>кордон</td>\n",
       "      <td>12</td>\n",
       "    </tr>\n",
       "    <tr>\n",
       "      <td>34</td>\n",
       "      <td>остров</td>\n",
       "      <td>12</td>\n",
       "    </tr>\n",
       "    <tr>\n",
       "      <td>13</td>\n",
       "      <td>ж/д о.п.</td>\n",
       "      <td>11</td>\n",
       "    </tr>\n",
       "    <tr>\n",
       "      <td>28</td>\n",
       "      <td>кп</td>\n",
       "      <td>8</td>\n",
       "    </tr>\n",
       "    <tr>\n",
       "      <td>37</td>\n",
       "      <td>п/о</td>\n",
       "      <td>7</td>\n",
       "    </tr>\n",
       "    <tr>\n",
       "      <td>50</td>\n",
       "      <td>с/мо</td>\n",
       "      <td>7</td>\n",
       "    </tr>\n",
       "    <tr>\n",
       "      <td>20</td>\n",
       "      <td>ж/д_пост</td>\n",
       "      <td>6</td>\n",
       "    </tr>\n",
       "    <tr>\n",
       "      <td>14</td>\n",
       "      <td>ж/д п.п.</td>\n",
       "      <td>4</td>\n",
       "    </tr>\n",
       "    <tr>\n",
       "      <td>29</td>\n",
       "      <td>лпх</td>\n",
       "      <td>4</td>\n",
       "    </tr>\n",
       "    <tr>\n",
       "      <td>42</td>\n",
       "      <td>погост</td>\n",
       "      <td>3</td>\n",
       "    </tr>\n",
       "    <tr>\n",
       "      <td>41</td>\n",
       "      <td>пл.р-н</td>\n",
       "      <td>3</td>\n",
       "    </tr>\n",
       "    <tr>\n",
       "      <td>43</td>\n",
       "      <td>пос.рзд</td>\n",
       "      <td>3</td>\n",
       "    </tr>\n",
       "    <tr>\n",
       "      <td>40</td>\n",
       "      <td>пгт.</td>\n",
       "      <td>2</td>\n",
       "    </tr>\n",
       "    <tr>\n",
       "      <td>49</td>\n",
       "      <td>с/а</td>\n",
       "      <td>2</td>\n",
       "    </tr>\n",
       "    <tr>\n",
       "      <td>15</td>\n",
       "      <td>ж/д пл-ка</td>\n",
       "      <td>1</td>\n",
       "    </tr>\n",
       "    <tr>\n",
       "      <td>11</td>\n",
       "      <td>ж/д б-ка</td>\n",
       "      <td>1</td>\n",
       "    </tr>\n",
       "    <tr>\n",
       "      <td>12</td>\n",
       "      <td>ж/д бл-ст</td>\n",
       "      <td>1</td>\n",
       "    </tr>\n",
       "    <tr>\n",
       "      <td>51</td>\n",
       "      <td>с/о</td>\n",
       "      <td>1</td>\n",
       "    </tr>\n",
       "  </tbody>\n",
       "</table>\n",
       "</div>"
      ],
      "text/plain": [
       "     city_type  city_number\n",
       "9            д        96549\n",
       "48           с        30812\n",
       "35           п        18690\n",
       "62           х         5880\n",
       "60         тер         2337\n",
       "55         снт         1765\n",
       "53         с/с         1142\n",
       "5            г         1108\n",
       "52         с/п          738\n",
       "39         пгт          592\n",
       "47          рп          537\n",
       "58          ст          528\n",
       "33          нп          504\n",
       "59       ст-ца          457\n",
       "10          дп          397\n",
       "22      ж/д_ст          385\n",
       "46         рзд          275\n",
       "38        п/ст          249\n",
       "30           м          238\n",
       "3          аул          237\n",
       "61           у          189\n",
       "21     ж/д_рзд          169\n",
       "31      массив          162\n",
       "44     починок          141\n",
       "32         мкр          121\n",
       "54          сл           89\n",
       "36  п. ж/д ст.           79\n",
       "16   ж/д_будка           69\n",
       "1   автодорога           63\n",
       "24      заимка           61\n",
       "4        высел           55\n",
       "0          аал           54\n",
       "45    промзона           47\n",
       "8           гп           43\n",
       "17  ж/д_казарм           42\n",
       "18      ж/д_оп           32\n",
       "26        кв-л           31\n",
       "7           г.           29\n",
       "56          сп           28\n",
       "57         сп.           23\n",
       "6          г-к           19\n",
       "19   ж/д_платф           18\n",
       "2        арбан           17\n",
       "25     казарма           16\n",
       "23    жилрайон           15\n",
       "27      кордон           12\n",
       "34      остров           12\n",
       "13    ж/д о.п.           11\n",
       "28          кп            8\n",
       "37         п/о            7\n",
       "50        с/мо            7\n",
       "20    ж/д_пост            6\n",
       "14    ж/д п.п.            4\n",
       "29         лпх            4\n",
       "42      погост            3\n",
       "41      пл.р-н            3\n",
       "43     пос.рзд            3\n",
       "40        пгт.            2\n",
       "49         с/а            2\n",
       "15   ж/д пл-ка            1\n",
       "11    ж/д б-ка            1\n",
       "12   ж/д бл-ст            1\n",
       "51         с/о            1"
      ]
     },
     "execution_count": 9,
     "metadata": {},
     "output_type": "execute_result"
    }
   ],
   "source": [
    "# и каких\n",
    "\n",
    "(all_cities\n",
    ".groupby('city_type', as_index=False)\n",
    ".agg({'aolevel': 'count'})\n",
    ".rename(columns={'aolevel': 'city_number'})\n",
    ".sort_values('city_number', ascending=False)\n",
    ")"
   ]
  },
  {
   "cell_type": "code",
   "execution_count": 10,
   "metadata": {
    "scrolled": true
   },
   "outputs": [],
   "source": [
    "# группируем населенные пункты, где есть улицы\n",
    "\n",
    "city_type_with_streets = (all_streets\n",
    " .groupby(['region', 'mun_district', 'city_type', 'city'], as_index=False)\n",
    " .agg({'street': 'count'})\n",
    " .rename(columns={'street': 'street_number'})                          \n",
    " .sort_values('street_number', ascending=False)\n",
    "                          \n",
    ")"
   ]
  },
  {
   "cell_type": "code",
   "execution_count": 11,
   "metadata": {},
   "outputs": [
    {
     "data": {
      "text/plain": [
       "63"
      ]
     },
     "execution_count": 11,
     "metadata": {},
     "output_type": "execute_result"
    }
   ],
   "source": [
    "# количество типов пунктов с улицами\n",
    "\n",
    "city_type_with_streets.city_type.nunique()"
   ]
  },
  {
   "cell_type": "code",
   "execution_count": 12,
   "metadata": {},
   "outputs": [
    {
     "data": {
      "text/html": [
       "<div>\n",
       "<style scoped>\n",
       "    .dataframe tbody tr th:only-of-type {\n",
       "        vertical-align: middle;\n",
       "    }\n",
       "\n",
       "    .dataframe tbody tr th {\n",
       "        vertical-align: top;\n",
       "    }\n",
       "\n",
       "    .dataframe thead th {\n",
       "        text-align: right;\n",
       "    }\n",
       "</style>\n",
       "<table border=\"1\" class=\"dataframe\">\n",
       "  <thead>\n",
       "    <tr style=\"text-align: right;\">\n",
       "      <th></th>\n",
       "      <th>index</th>\n",
       "      <th>city_type</th>\n",
       "    </tr>\n",
       "  </thead>\n",
       "  <tbody>\n",
       "    <tr>\n",
       "      <td>0</td>\n",
       "      <td>д</td>\n",
       "      <td>39532</td>\n",
       "    </tr>\n",
       "    <tr>\n",
       "      <td>1</td>\n",
       "      <td>с</td>\n",
       "      <td>27833</td>\n",
       "    </tr>\n",
       "    <tr>\n",
       "      <td>2</td>\n",
       "      <td>п</td>\n",
       "      <td>14477</td>\n",
       "    </tr>\n",
       "    <tr>\n",
       "      <td>3</td>\n",
       "      <td>х</td>\n",
       "      <td>4556</td>\n",
       "    </tr>\n",
       "    <tr>\n",
       "      <td>4</td>\n",
       "      <td>г</td>\n",
       "      <td>1132</td>\n",
       "    </tr>\n",
       "    <tr>\n",
       "      <td>5</td>\n",
       "      <td>пгт</td>\n",
       "      <td>557</td>\n",
       "    </tr>\n",
       "    <tr>\n",
       "      <td>6</td>\n",
       "      <td>рп</td>\n",
       "      <td>535</td>\n",
       "    </tr>\n",
       "    <tr>\n",
       "      <td>7</td>\n",
       "      <td>ст-ца</td>\n",
       "      <td>440</td>\n",
       "    </tr>\n",
       "    <tr>\n",
       "      <td>8</td>\n",
       "      <td>тер</td>\n",
       "      <td>329</td>\n",
       "    </tr>\n",
       "    <tr>\n",
       "      <td>9</td>\n",
       "      <td>снт</td>\n",
       "      <td>306</td>\n",
       "    </tr>\n",
       "    <tr>\n",
       "      <td>10</td>\n",
       "      <td>ст</td>\n",
       "      <td>305</td>\n",
       "    </tr>\n",
       "    <tr>\n",
       "      <td>11</td>\n",
       "      <td>сп</td>\n",
       "      <td>267</td>\n",
       "    </tr>\n",
       "    <tr>\n",
       "      <td>12</td>\n",
       "      <td>ж/д_ст</td>\n",
       "      <td>219</td>\n",
       "    </tr>\n",
       "    <tr>\n",
       "      <td>13</td>\n",
       "      <td>аул</td>\n",
       "      <td>190</td>\n",
       "    </tr>\n",
       "    <tr>\n",
       "      <td>14</td>\n",
       "      <td>п/ст</td>\n",
       "      <td>186</td>\n",
       "    </tr>\n",
       "    <tr>\n",
       "      <td>15</td>\n",
       "      <td>нп</td>\n",
       "      <td>181</td>\n",
       "    </tr>\n",
       "    <tr>\n",
       "      <td>16</td>\n",
       "      <td>у</td>\n",
       "      <td>165</td>\n",
       "    </tr>\n",
       "    <tr>\n",
       "      <td>17</td>\n",
       "      <td>рзд</td>\n",
       "      <td>140</td>\n",
       "    </tr>\n",
       "    <tr>\n",
       "      <td>18</td>\n",
       "      <td>с/с</td>\n",
       "      <td>135</td>\n",
       "    </tr>\n",
       "    <tr>\n",
       "      <td>19</td>\n",
       "      <td>массив</td>\n",
       "      <td>98</td>\n",
       "    </tr>\n",
       "    <tr>\n",
       "      <td>20</td>\n",
       "      <td>дп</td>\n",
       "      <td>95</td>\n",
       "    </tr>\n",
       "    <tr>\n",
       "      <td>21</td>\n",
       "      <td>сл</td>\n",
       "      <td>80</td>\n",
       "    </tr>\n",
       "    <tr>\n",
       "      <td>22</td>\n",
       "      <td>мкр</td>\n",
       "      <td>80</td>\n",
       "    </tr>\n",
       "    <tr>\n",
       "      <td>23</td>\n",
       "      <td>починок</td>\n",
       "      <td>67</td>\n",
       "    </tr>\n",
       "    <tr>\n",
       "      <td>24</td>\n",
       "      <td>гп</td>\n",
       "      <td>66</td>\n",
       "    </tr>\n",
       "    <tr>\n",
       "      <td>25</td>\n",
       "      <td>ж/д_рзд</td>\n",
       "      <td>54</td>\n",
       "    </tr>\n",
       "    <tr>\n",
       "      <td>26</td>\n",
       "      <td>аал</td>\n",
       "      <td>53</td>\n",
       "    </tr>\n",
       "    <tr>\n",
       "      <td>27</td>\n",
       "      <td>высел</td>\n",
       "      <td>48</td>\n",
       "    </tr>\n",
       "    <tr>\n",
       "      <td>28</td>\n",
       "      <td>р-н</td>\n",
       "      <td>46</td>\n",
       "    </tr>\n",
       "    <tr>\n",
       "      <td>29</td>\n",
       "      <td>п. ж/д ст.</td>\n",
       "      <td>41</td>\n",
       "    </tr>\n",
       "    <tr>\n",
       "      <td>30</td>\n",
       "      <td>заимка</td>\n",
       "      <td>31</td>\n",
       "    </tr>\n",
       "    <tr>\n",
       "      <td>31</td>\n",
       "      <td>г.</td>\n",
       "      <td>30</td>\n",
       "    </tr>\n",
       "    <tr>\n",
       "      <td>32</td>\n",
       "      <td>автодорога</td>\n",
       "      <td>29</td>\n",
       "    </tr>\n",
       "    <tr>\n",
       "      <td>33</td>\n",
       "      <td>м</td>\n",
       "      <td>22</td>\n",
       "    </tr>\n",
       "    <tr>\n",
       "      <td>34</td>\n",
       "      <td>с/п</td>\n",
       "      <td>21</td>\n",
       "    </tr>\n",
       "    <tr>\n",
       "      <td>35</td>\n",
       "      <td>кв-л</td>\n",
       "      <td>18</td>\n",
       "    </tr>\n",
       "    <tr>\n",
       "      <td>36</td>\n",
       "      <td>ж/д_оп</td>\n",
       "      <td>14</td>\n",
       "    </tr>\n",
       "    <tr>\n",
       "      <td>37</td>\n",
       "      <td>поселение</td>\n",
       "      <td>13</td>\n",
       "    </tr>\n",
       "    <tr>\n",
       "      <td>38</td>\n",
       "      <td>жилрайон</td>\n",
       "      <td>13</td>\n",
       "    </tr>\n",
       "    <tr>\n",
       "      <td>39</td>\n",
       "      <td>промзона</td>\n",
       "      <td>11</td>\n",
       "    </tr>\n",
       "    <tr>\n",
       "      <td>40</td>\n",
       "      <td>ж/д о.п.</td>\n",
       "      <td>10</td>\n",
       "    </tr>\n",
       "    <tr>\n",
       "      <td>41</td>\n",
       "      <td>арбан</td>\n",
       "      <td>10</td>\n",
       "    </tr>\n",
       "    <tr>\n",
       "      <td>42</td>\n",
       "      <td>сп.</td>\n",
       "      <td>10</td>\n",
       "    </tr>\n",
       "    <tr>\n",
       "      <td>43</td>\n",
       "      <td>г-к</td>\n",
       "      <td>10</td>\n",
       "    </tr>\n",
       "    <tr>\n",
       "      <td>44</td>\n",
       "      <td>ж/д_будка</td>\n",
       "      <td>7</td>\n",
       "    </tr>\n",
       "    <tr>\n",
       "      <td>45</td>\n",
       "      <td>ж/д_платф</td>\n",
       "      <td>7</td>\n",
       "    </tr>\n",
       "    <tr>\n",
       "      <td>46</td>\n",
       "      <td>волость</td>\n",
       "      <td>6</td>\n",
       "    </tr>\n",
       "    <tr>\n",
       "      <td>47</td>\n",
       "      <td>ж/д_казарм</td>\n",
       "      <td>6</td>\n",
       "    </tr>\n",
       "    <tr>\n",
       "      <td>48</td>\n",
       "      <td>п/о</td>\n",
       "      <td>5</td>\n",
       "    </tr>\n",
       "    <tr>\n",
       "      <td>49</td>\n",
       "      <td>кп</td>\n",
       "      <td>5</td>\n",
       "    </tr>\n",
       "    <tr>\n",
       "      <td>50</td>\n",
       "      <td>остров</td>\n",
       "      <td>4</td>\n",
       "    </tr>\n",
       "    <tr>\n",
       "      <td>51</td>\n",
       "      <td>пл.р-н</td>\n",
       "      <td>3</td>\n",
       "    </tr>\n",
       "    <tr>\n",
       "      <td>52</td>\n",
       "      <td>п ж/д ст</td>\n",
       "      <td>3</td>\n",
       "    </tr>\n",
       "    <tr>\n",
       "      <td>53</td>\n",
       "      <td>ж/д п.п.</td>\n",
       "      <td>3</td>\n",
       "    </tr>\n",
       "    <tr>\n",
       "      <td>54</td>\n",
       "      <td>казарма</td>\n",
       "      <td>3</td>\n",
       "    </tr>\n",
       "    <tr>\n",
       "      <td>55</td>\n",
       "      <td>с/а</td>\n",
       "      <td>2</td>\n",
       "    </tr>\n",
       "    <tr>\n",
       "      <td>56</td>\n",
       "      <td>пгт.</td>\n",
       "      <td>2</td>\n",
       "    </tr>\n",
       "    <tr>\n",
       "      <td>57</td>\n",
       "      <td>кордон</td>\n",
       "      <td>2</td>\n",
       "    </tr>\n",
       "    <tr>\n",
       "      <td>58</td>\n",
       "      <td>ж/д бл-ст</td>\n",
       "      <td>1</td>\n",
       "    </tr>\n",
       "    <tr>\n",
       "      <td>59</td>\n",
       "      <td>п.ст.</td>\n",
       "      <td>1</td>\n",
       "    </tr>\n",
       "    <tr>\n",
       "      <td>60</td>\n",
       "      <td>ж/д пл-ка</td>\n",
       "      <td>1</td>\n",
       "    </tr>\n",
       "    <tr>\n",
       "      <td>61</td>\n",
       "      <td>с/о</td>\n",
       "      <td>1</td>\n",
       "    </tr>\n",
       "    <tr>\n",
       "      <td>62</td>\n",
       "      <td>ж/д_пост</td>\n",
       "      <td>1</td>\n",
       "    </tr>\n",
       "  </tbody>\n",
       "</table>\n",
       "</div>"
      ],
      "text/plain": [
       "         index  city_type\n",
       "0            д      39532\n",
       "1            с      27833\n",
       "2            п      14477\n",
       "3            х       4556\n",
       "4            г       1132\n",
       "5          пгт        557\n",
       "6           рп        535\n",
       "7        ст-ца        440\n",
       "8          тер        329\n",
       "9          снт        306\n",
       "10          ст        305\n",
       "11          сп        267\n",
       "12      ж/д_ст        219\n",
       "13         аул        190\n",
       "14        п/ст        186\n",
       "15          нп        181\n",
       "16           у        165\n",
       "17         рзд        140\n",
       "18         с/с        135\n",
       "19      массив         98\n",
       "20          дп         95\n",
       "21          сл         80\n",
       "22         мкр         80\n",
       "23     починок         67\n",
       "24          гп         66\n",
       "25     ж/д_рзд         54\n",
       "26         аал         53\n",
       "27       высел         48\n",
       "28         р-н         46\n",
       "29  п. ж/д ст.         41\n",
       "30      заимка         31\n",
       "31          г.         30\n",
       "32  автодорога         29\n",
       "33           м         22\n",
       "34         с/п         21\n",
       "35        кв-л         18\n",
       "36      ж/д_оп         14\n",
       "37   поселение         13\n",
       "38    жилрайон         13\n",
       "39    промзона         11\n",
       "40    ж/д о.п.         10\n",
       "41       арбан         10\n",
       "42         сп.         10\n",
       "43         г-к         10\n",
       "44   ж/д_будка          7\n",
       "45   ж/д_платф          7\n",
       "46     волость          6\n",
       "47  ж/д_казарм          6\n",
       "48         п/о          5\n",
       "49          кп          5\n",
       "50      остров          4\n",
       "51      пл.р-н          3\n",
       "52    п ж/д ст          3\n",
       "53    ж/д п.п.          3\n",
       "54     казарма          3\n",
       "55         с/а          2\n",
       "56        пгт.          2\n",
       "57      кордон          2\n",
       "58   ж/д бл-ст          1\n",
       "59       п.ст.          1\n",
       "60   ж/д пл-ка          1\n",
       "61         с/о          1\n",
       "62    ж/д_пост          1"
      ]
     },
     "execution_count": 12,
     "metadata": {},
     "output_type": "execute_result"
    }
   ],
   "source": [
    "city_type_with_streets.city_type.value_counts().reset_index()"
   ]
  },
  {
   "cell_type": "markdown",
   "metadata": {},
   "source": [
    "Посмотрим ленинские города и города с ленинскими улицами"
   ]
  },
  {
   "cell_type": "code",
   "execution_count": 13,
   "metadata": {
    "scrolled": true
   },
   "outputs": [
    {
     "data": {
      "text/plain": [
       "20"
      ]
     },
     "execution_count": 13,
     "metadata": {},
     "output_type": "execute_result"
    }
   ],
   "source": [
    "# типы \"ленинских городов\"\n",
    "\n",
    "lenin_cities.city_type.nunique()"
   ]
  },
  {
   "cell_type": "code",
   "execution_count": 14,
   "metadata": {
    "scrolled": true
   },
   "outputs": [
    {
     "data": {
      "text/plain": [
       "35"
      ]
     },
     "execution_count": 14,
     "metadata": {},
     "output_type": "execute_result"
    }
   ],
   "source": [
    "# типы городов и поселков, где есть ленинские улицы\n",
    "\n",
    "lenin_streets.city_type.nunique()"
   ]
  },
  {
   "cell_type": "code",
   "execution_count": 15,
   "metadata": {
    "scrolled": true
   },
   "outputs": [],
   "source": [
    "# ленинские города и поселки\n",
    "\n",
    "lenin_city_type = (lenin_streets\n",
    "                   .groupby(['region', 'mun_district', 'city_type', 'city'], as_index=False)\n",
    "                   .agg({'street': 'count'})\n",
    "                   .rename(columns={'street': 'street_number'})                          \n",
    "                   .sort_values('street_number', ascending=False)\n",
    "                  )"
   ]
  },
  {
   "cell_type": "code",
   "execution_count": 16,
   "metadata": {},
   "outputs": [
    {
     "data": {
      "text/html": [
       "<div>\n",
       "<style scoped>\n",
       "    .dataframe tbody tr th:only-of-type {\n",
       "        vertical-align: middle;\n",
       "    }\n",
       "\n",
       "    .dataframe tbody tr th {\n",
       "        vertical-align: top;\n",
       "    }\n",
       "\n",
       "    .dataframe thead th {\n",
       "        text-align: right;\n",
       "    }\n",
       "</style>\n",
       "<table border=\"1\" class=\"dataframe\">\n",
       "  <thead>\n",
       "    <tr style=\"text-align: right;\">\n",
       "      <th></th>\n",
       "      <th>index</th>\n",
       "      <th>city_type</th>\n",
       "    </tr>\n",
       "  </thead>\n",
       "  <tbody>\n",
       "    <tr>\n",
       "      <td>0</td>\n",
       "      <td>с</td>\n",
       "      <td>4433</td>\n",
       "    </tr>\n",
       "    <tr>\n",
       "      <td>1</td>\n",
       "      <td>п</td>\n",
       "      <td>1277</td>\n",
       "    </tr>\n",
       "    <tr>\n",
       "      <td>2</td>\n",
       "      <td>г</td>\n",
       "      <td>953</td>\n",
       "    </tr>\n",
       "    <tr>\n",
       "      <td>3</td>\n",
       "      <td>д</td>\n",
       "      <td>935</td>\n",
       "    </tr>\n",
       "    <tr>\n",
       "      <td>4</td>\n",
       "      <td>рп</td>\n",
       "      <td>337</td>\n",
       "    </tr>\n",
       "    <tr>\n",
       "      <td>5</td>\n",
       "      <td>ст-ца</td>\n",
       "      <td>284</td>\n",
       "    </tr>\n",
       "    <tr>\n",
       "      <td>6</td>\n",
       "      <td>пгт</td>\n",
       "      <td>266</td>\n",
       "    </tr>\n",
       "    <tr>\n",
       "      <td>7</td>\n",
       "      <td>х</td>\n",
       "      <td>241</td>\n",
       "    </tr>\n",
       "    <tr>\n",
       "      <td>8</td>\n",
       "      <td>аул</td>\n",
       "      <td>50</td>\n",
       "    </tr>\n",
       "    <tr>\n",
       "      <td>9</td>\n",
       "      <td>у</td>\n",
       "      <td>35</td>\n",
       "    </tr>\n",
       "    <tr>\n",
       "      <td>10</td>\n",
       "      <td>гп</td>\n",
       "      <td>22</td>\n",
       "    </tr>\n",
       "    <tr>\n",
       "      <td>11</td>\n",
       "      <td>г.</td>\n",
       "      <td>21</td>\n",
       "    </tr>\n",
       "    <tr>\n",
       "      <td>12</td>\n",
       "      <td>сл</td>\n",
       "      <td>19</td>\n",
       "    </tr>\n",
       "    <tr>\n",
       "      <td>13</td>\n",
       "      <td>мкр</td>\n",
       "      <td>18</td>\n",
       "    </tr>\n",
       "    <tr>\n",
       "      <td>14</td>\n",
       "      <td>ж/д_ст</td>\n",
       "      <td>13</td>\n",
       "    </tr>\n",
       "    <tr>\n",
       "      <td>15</td>\n",
       "      <td>ст</td>\n",
       "      <td>12</td>\n",
       "    </tr>\n",
       "    <tr>\n",
       "      <td>16</td>\n",
       "      <td>п/ст</td>\n",
       "      <td>11</td>\n",
       "    </tr>\n",
       "    <tr>\n",
       "      <td>17</td>\n",
       "      <td>массив</td>\n",
       "      <td>8</td>\n",
       "    </tr>\n",
       "    <tr>\n",
       "      <td>18</td>\n",
       "      <td>дп</td>\n",
       "      <td>7</td>\n",
       "    </tr>\n",
       "    <tr>\n",
       "      <td>19</td>\n",
       "      <td>тер</td>\n",
       "      <td>6</td>\n",
       "    </tr>\n",
       "    <tr>\n",
       "      <td>20</td>\n",
       "      <td>нп</td>\n",
       "      <td>5</td>\n",
       "    </tr>\n",
       "    <tr>\n",
       "      <td>21</td>\n",
       "      <td>жилрайон</td>\n",
       "      <td>3</td>\n",
       "    </tr>\n",
       "    <tr>\n",
       "      <td>22</td>\n",
       "      <td>высел</td>\n",
       "      <td>3</td>\n",
       "    </tr>\n",
       "    <tr>\n",
       "      <td>23</td>\n",
       "      <td>рзд</td>\n",
       "      <td>3</td>\n",
       "    </tr>\n",
       "    <tr>\n",
       "      <td>24</td>\n",
       "      <td>аал</td>\n",
       "      <td>2</td>\n",
       "    </tr>\n",
       "    <tr>\n",
       "      <td>25</td>\n",
       "      <td>сп.</td>\n",
       "      <td>2</td>\n",
       "    </tr>\n",
       "    <tr>\n",
       "      <td>26</td>\n",
       "      <td>с/п</td>\n",
       "      <td>2</td>\n",
       "    </tr>\n",
       "    <tr>\n",
       "      <td>27</td>\n",
       "      <td>с/а</td>\n",
       "      <td>1</td>\n",
       "    </tr>\n",
       "    <tr>\n",
       "      <td>28</td>\n",
       "      <td>кв-л</td>\n",
       "      <td>1</td>\n",
       "    </tr>\n",
       "    <tr>\n",
       "      <td>29</td>\n",
       "      <td>пл.р-н</td>\n",
       "      <td>1</td>\n",
       "    </tr>\n",
       "    <tr>\n",
       "      <td>30</td>\n",
       "      <td>пгт.</td>\n",
       "      <td>1</td>\n",
       "    </tr>\n",
       "    <tr>\n",
       "      <td>31</td>\n",
       "      <td>п. ж/д ст.</td>\n",
       "      <td>1</td>\n",
       "    </tr>\n",
       "    <tr>\n",
       "      <td>32</td>\n",
       "      <td>г-к</td>\n",
       "      <td>1</td>\n",
       "    </tr>\n",
       "    <tr>\n",
       "      <td>33</td>\n",
       "      <td>снт</td>\n",
       "      <td>1</td>\n",
       "    </tr>\n",
       "    <tr>\n",
       "      <td>34</td>\n",
       "      <td>остров</td>\n",
       "      <td>1</td>\n",
       "    </tr>\n",
       "  </tbody>\n",
       "</table>\n",
       "</div>"
      ],
      "text/plain": [
       "         index  city_type\n",
       "0            с       4433\n",
       "1            п       1277\n",
       "2            г        953\n",
       "3            д        935\n",
       "4           рп        337\n",
       "5        ст-ца        284\n",
       "6          пгт        266\n",
       "7            х        241\n",
       "8          аул         50\n",
       "9            у         35\n",
       "10          гп         22\n",
       "11          г.         21\n",
       "12          сл         19\n",
       "13         мкр         18\n",
       "14      ж/д_ст         13\n",
       "15          ст         12\n",
       "16        п/ст         11\n",
       "17      массив          8\n",
       "18          дп          7\n",
       "19         тер          6\n",
       "20          нп          5\n",
       "21    жилрайон          3\n",
       "22       высел          3\n",
       "23         рзд          3\n",
       "24         аал          2\n",
       "25         сп.          2\n",
       "26         с/п          2\n",
       "27         с/а          1\n",
       "28        кв-л          1\n",
       "29      пл.р-н          1\n",
       "30        пгт.          1\n",
       "31  п. ж/д ст.          1\n",
       "32         г-к          1\n",
       "33         снт          1\n",
       "34      остров          1"
      ]
     },
     "execution_count": 16,
     "metadata": {},
     "output_type": "execute_result"
    }
   ],
   "source": [
    "lenin_city_type.city_type.value_counts().reset_index()"
   ]
  },
  {
   "cell_type": "code",
   "execution_count": null,
   "metadata": {},
   "outputs": [],
   "source": []
  },
  {
   "cell_type": "markdown",
   "metadata": {},
   "source": [
    "Не будем искать Ленина в кустах (хотя он там есть) и удалим часть населенных пунктов из базы.\n",
    "\n",
    "Оставлены аалы, арбаны, выселы, починки и пр. (это, по сути, названия сел).\n",
    "\n",
    "Убираем 'р-н', 'сп', 'сп.' -- это улицы без населенного пункта, \"повисшие\" в районе или сельском поселении."
   ]
  },
  {
   "cell_type": "code",
   "execution_count": 17,
   "metadata": {
    "scrolled": true
   },
   "outputs": [
    {
     "name": "stdout",
     "output_type": "stream",
     "text": [
      "['д', 'с', 'п', 'х', 'тер', 'снт', 'с/с', 'г', 'с/п', 'пгт', 'рп', 'ст', 'нп', 'ст-ца', 'дп', 'ж/д_ст', 'рзд', 'п/ст', 'м', 'аул', 'у', 'ж/д_рзд', 'массив', 'починок', 'мкр', 'сл', 'п. ж/д ст.', 'ж/д_будка', 'автодорога', 'заимка', 'высел', 'аал', 'промзона', 'гп', 'ж/д_казарм', 'ж/д_оп', 'кв-л', 'г.', 'сп', 'сп.', 'г-к', 'ж/д_платф', 'арбан', 'казарма', 'жилрайон', 'кордон', 'остров', 'ж/д о.п.', 'кп', 'п/о', 'с/мо', 'ж/д_пост', 'лпх', 'ж/д п.п.', 'пл.р-н', 'погост', 'пос.рзд', 'с/а', 'пгт.', 'с/о', 'ж/д пл-ка', 'ж/д бл-ст', 'ж/д б-ка']\n"
     ]
    }
   ],
   "source": [
    "# выгружаем все типы\n",
    "\n",
    "print(all_cities.city_type.value_counts().index.to_list())"
   ]
  },
  {
   "cell_type": "code",
   "execution_count": 18,
   "metadata": {
    "scrolled": true
   },
   "outputs": [],
   "source": [
    "no_streets = ['автодорога',\n",
    "              'ж/д б-ка', 'ж/д пл-ка', 'ж/д_будка',\n",
    "              'ж/д_казарм', 'ж/д_оп', 'ж/д_платф', 'ж/д_пост', 'ж/д_рзд',\n",
    "              'заимка', 'казарма', 'кордон', 'лпх',\n",
    "              'м', 'п/о', 'погост', 'пос.рзд', 'промзона', 'рзд',\n",
    "              'с/мо', 'с/о', 'с/с', 'снт', 'тер',\n",
    "              'р-н']"
   ]
  },
  {
   "cell_type": "markdown",
   "metadata": {},
   "source": [
    "### Удаляем ###"
   ]
  },
  {
   "cell_type": "markdown",
   "metadata": {},
   "source": [
    "**Все города**"
   ]
  },
  {
   "cell_type": "code",
   "execution_count": 19,
   "metadata": {
    "scrolled": true
   },
   "outputs": [
    {
     "data": {
      "text/plain": [
       "(165148, 9)"
      ]
     },
     "execution_count": 19,
     "metadata": {},
     "output_type": "execute_result"
    }
   ],
   "source": [
    "all_cities.shape"
   ]
  },
  {
   "cell_type": "code",
   "execution_count": 20,
   "metadata": {
    "scrolled": true
   },
   "outputs": [],
   "source": [
    "# Удаляем ненужные записи\n",
    "\n",
    "all_cities = all_cities.loc[~all_cities.city_type.isin(no_streets)]"
   ]
  },
  {
   "cell_type": "code",
   "execution_count": 21,
   "metadata": {
    "scrolled": true
   },
   "outputs": [
    {
     "data": {
      "text/plain": [
       "(158829, 9)"
      ]
     },
     "execution_count": 21,
     "metadata": {},
     "output_type": "execute_result"
    }
   ],
   "source": [
    "all_cities.shape"
   ]
  },
  {
   "cell_type": "markdown",
   "metadata": {},
   "source": [
    "**Ленинские города**"
   ]
  },
  {
   "cell_type": "code",
   "execution_count": 22,
   "metadata": {
    "scrolled": true
   },
   "outputs": [
    {
     "data": {
      "text/plain": [
       "(437, 9)"
      ]
     },
     "execution_count": 22,
     "metadata": {},
     "output_type": "execute_result"
    }
   ],
   "source": [
    "lenin_cities.shape"
   ]
  },
  {
   "cell_type": "code",
   "execution_count": 23,
   "metadata": {
    "scrolled": true
   },
   "outputs": [],
   "source": [
    "# Удаляем ненужные записи\n",
    "\n",
    "lenin_cities = lenin_cities.loc[~lenin_cities.city_type.isin(no_streets)]"
   ]
  },
  {
   "cell_type": "code",
   "execution_count": 24,
   "metadata": {
    "scrolled": true
   },
   "outputs": [
    {
     "data": {
      "text/plain": [
       "(425, 9)"
      ]
     },
     "execution_count": 24,
     "metadata": {},
     "output_type": "execute_result"
    }
   ],
   "source": [
    "lenin_cities.shape"
   ]
  },
  {
   "cell_type": "markdown",
   "metadata": {},
   "source": [
    "**Все улицы**"
   ]
  },
  {
   "cell_type": "code",
   "execution_count": 25,
   "metadata": {
    "scrolled": true
   },
   "outputs": [
    {
     "data": {
      "text/plain": [
       "(1025483, 10)"
      ]
     },
     "execution_count": 25,
     "metadata": {},
     "output_type": "execute_result"
    }
   ],
   "source": [
    "all_streets.shape"
   ]
  },
  {
   "cell_type": "code",
   "execution_count": 26,
   "metadata": {
    "scrolled": true
   },
   "outputs": [],
   "source": [
    "# Удаляем ненужные записи\n",
    "\n",
    "all_streets = all_streets.loc[~all_streets.city_type.isin(no_streets)]"
   ]
  },
  {
   "cell_type": "code",
   "execution_count": 27,
   "metadata": {
    "scrolled": true
   },
   "outputs": [
    {
     "data": {
      "text/plain": [
       "(1014723, 10)"
      ]
     },
     "execution_count": 27,
     "metadata": {},
     "output_type": "execute_result"
    }
   ],
   "source": [
    "all_streets.shape"
   ]
  },
  {
   "cell_type": "markdown",
   "metadata": {},
   "source": [
    "**Ленинские улицы**"
   ]
  },
  {
   "cell_type": "code",
   "execution_count": 28,
   "metadata": {
    "scrolled": true
   },
   "outputs": [
    {
     "data": {
      "text/plain": [
       "(11272, 11)"
      ]
     },
     "execution_count": 28,
     "metadata": {},
     "output_type": "execute_result"
    }
   ],
   "source": [
    "lenin_streets.shape"
   ]
  },
  {
   "cell_type": "code",
   "execution_count": 29,
   "metadata": {
    "scrolled": true
   },
   "outputs": [],
   "source": [
    "# Удаляем ненужные записи\n",
    "\n",
    "lenin_streets = lenin_streets.loc[~lenin_streets.city_type.isin(no_streets)]"
   ]
  },
  {
   "cell_type": "code",
   "execution_count": 30,
   "metadata": {
    "scrolled": true
   },
   "outputs": [
    {
     "data": {
      "text/plain": [
       "(11260, 11)"
      ]
     },
     "execution_count": 30,
     "metadata": {},
     "output_type": "execute_result"
    }
   ],
   "source": [
    "lenin_streets.shape"
   ]
  },
  {
   "cell_type": "code",
   "execution_count": null,
   "metadata": {
    "scrolled": true
   },
   "outputs": [],
   "source": []
  },
  {
   "cell_type": "markdown",
   "metadata": {},
   "source": [
    "## Чистим улицы ##"
   ]
  },
  {
   "cell_type": "markdown",
   "metadata": {},
   "source": [
    "### Удаляем ненужные записи ###\n",
    "\n",
    "Нам не нужны отдельные населенные пункты (без улиц), промышленные объекты, территории, садовые товарищества, парки, дороги и т.п."
   ]
  },
  {
   "cell_type": "code",
   "execution_count": 31,
   "metadata": {
    "scrolled": true
   },
   "outputs": [
    {
     "data": {
      "text/plain": [
       "<bound method IndexOpsMixin.tolist of Index(['ул', 'пер', 'проезд', 'тер', 'пр-д', 'линия', 'ряд', 'туп', 'пл',\n",
       "       'кв-л', 'м', 'пр-кт', 'мкр', 'ш', 'лн.', 'км', 'сад', 'снт', 'б-р',\n",
       "       'дор', 'аллея', 'гск', 'ал.', 'п', 'наб', 'тракт', 'стр', 'уч-к',\n",
       "       'пер.', 'ряды', 'ст', 'х', 'г-к', 'пл-ка', 'сквер', 'жт', 'рзд', 'парк',\n",
       "       'казарма', 'заезд', 'зона', 'спуск', 'проул.', 'въезд', 'нп',\n",
       "       'тер. СНТ', 'проулок', 'ж/д_будка', 'остров', 'ферма', 'переезд',\n",
       "       'просек', 'сл', 'платф', 'а/я', 'ж/д_ст', 'с-р', 'ж/д_казарм', 'рзд.',\n",
       "       'д', 'ул.', 'просека', 'местность', 'кольцо', 'мгстр.', 'ш.', 'наб.',\n",
       "       'с-к', 'пр-ка', 'мост', 'ж/д_оп', 'ж/д_платф', 'пр-к', 'п/ст', 'п/о',\n",
       "       'промзона', 'с/т', 'проселок', 'с', 'ззд.', 'ж/д_рзд', 'пер-д',\n",
       "       'ж/д_пост', 'берег', 'коса', 'взв.', 'к-цо', 'ф/х', 'сзд.', 'пр-лок',\n",
       "       'вал'],\n",
       "      dtype='object')>"
      ]
     },
     "execution_count": 31,
     "metadata": {},
     "output_type": "execute_result"
    }
   ],
   "source": [
    "# смотрим, что вообще там есть (это уровень 7)\n",
    "\n",
    "all_streets.shortname.value_counts().index.to_list"
   ]
  },
  {
   "cell_type": "code",
   "execution_count": 32,
   "metadata": {
    "scrolled": true
   },
   "outputs": [],
   "source": [
    "# отбираем ненужные в список\n",
    "\n",
    "unnecessary_list = (['а/я', 'берег', 'г-к', 'гск', 'д', 'дор',\n",
    "  'ж/д_будка', 'ж/д_казарм', 'ж/д_оп', 'ж/д_платф', 'ж/д_пост', 'ж/д_рзд', 'ж/д_ст',\n",
    "  'жт', 'зона', 'казарма', 'кв-л', 'км', 'коса', 'м', 'мгстр.', 'местность', 'мкр',\n",
    "  'мост', 'нп', 'остров', 'п/о', 'п/ст', 'парк', 'пер-д', 'переезд', 'платф', 'промзона',\n",
    "  'рзд.', 'с', 'с-р', 'с/т', 'сад', 'сл', 'снт', 'ст', 'стр', 'тер', 'тер. СНТ', 'уч-к',\n",
    "  'ф/х', 'ферма', 'х'])"
   ]
  },
  {
   "cell_type": "markdown",
   "metadata": {},
   "source": [
    "Полный список с расшифровкой (удаляемого):\n",
    "\n",
    "- а/я - абонентский ящик\n",
    "- берег - берег\n",
    "- г-к - городок\n",
    "- гск - гаражно-строительный кооператив\n",
    "- д - деревня\n",
    "- дор - дорога\n",
    "- ж/д_будка - жд будка\n",
    "- ж/д_казарм - жд казарма\n",
    "- ж/д_оп - жд отдел полиции\n",
    "- ж/д_платф - жд платформа\n",
    "- ж/д_пост - жд пост\n",
    "- ж/д_рзд - жд разъезд\n",
    "- ж/д_ст - жд станция\n",
    "- жт - животноводческая точка\n",
    "- зона - зона\n",
    "- казарма - казарма\n",
    "- кв-л - квартал\n",
    "- км - километр\n",
    "- коса - коса\n",
    "- м - местечко\n",
    "- мгстр. - магистраль\n",
    "- местность - местность\n",
    "- мкр - микрарайон\n",
    "- мост - мост\n",
    "- нп - населенный пункт\n",
    "- остров - остров\n",
    "- п/о - почтовое отделение\n",
    "- п/ст - поселок при станции\n",
    "- парк - парк\n",
    "- пер-д - переезд\n",
    "- переезд - переезд\n",
    "- платф - платформа\n",
    "- промзона - промзона\n",
    "- рзд. - разъезд\n",
    "- с - село\n",
    "- с-р - сквер\n",
    "- с/т - садовое товарищество\n",
    "- сад - сад\n",
    "- сл - слобода\n",
    "- снт - садовое некоммерческое товарищество\n",
    "- ст - станция\n",
    "- стр - строение\n",
    "- тер - территория\n",
    "- тер. СНТ - территория садового некоммерческого товарищества\n",
    "- уч-к - участок\n",
    "- ф/х - фермерское хозяйство\n",
    "- ферма - ферма\n",
    "- х - хутор"
   ]
  },
  {
   "cell_type": "code",
   "execution_count": 33,
   "metadata": {
    "scrolled": true
   },
   "outputs": [
    {
     "data": {
      "text/plain": [
       "(1014723, 10)"
      ]
     },
     "execution_count": 33,
     "metadata": {},
     "output_type": "execute_result"
    }
   ],
   "source": [
    "all_streets.shape"
   ]
  },
  {
   "cell_type": "code",
   "execution_count": 34,
   "metadata": {
    "scrolled": true
   },
   "outputs": [],
   "source": [
    "# Удаляем ненужные записи из all_streets\n",
    "\n",
    "all_streets = all_streets.loc[~all_streets.shortname.isin(unnecessary_list)]"
   ]
  },
  {
   "cell_type": "code",
   "execution_count": 35,
   "metadata": {
    "scrolled": true
   },
   "outputs": [
    {
     "data": {
      "text/plain": [
       "(987798, 10)"
      ]
     },
     "execution_count": 35,
     "metadata": {},
     "output_type": "execute_result"
    }
   ],
   "source": [
    "all_streets.shape"
   ]
  },
  {
   "cell_type": "code",
   "execution_count": 36,
   "metadata": {
    "scrolled": true
   },
   "outputs": [
    {
     "data": {
      "text/plain": [
       "<bound method IndexOpsMixin.tolist of Index(['ул', 'пер', 'проезд', 'пр-д', 'линия', 'ряд', 'туп', 'пл', 'пр-кт',\n",
       "       'ш', 'лн.', 'б-р', 'аллея', 'ал.', 'п', 'наб', 'тракт', 'пер.', 'ряды',\n",
       "       'пл-ка', 'сквер', 'рзд', 'заезд', 'спуск', 'проул.', 'въезд', 'проулок',\n",
       "       'просек', 'ул.', 'просека', 'кольцо', 'ш.', 'наб.', 'с-к', 'пр-ка',\n",
       "       'пр-к', 'проселок', 'ззд.', 'сзд.', 'взв.', 'к-цо', 'вал', 'пр-лок'],\n",
       "      dtype='object')>"
      ]
     },
     "execution_count": 36,
     "metadata": {},
     "output_type": "execute_result"
    }
   ],
   "source": [
    "# смотрим, что осталось\n",
    "\n",
    "all_streets.shortname.value_counts().index.to_list"
   ]
  },
  {
   "cell_type": "code",
   "execution_count": 37,
   "metadata": {
    "scrolled": true
   },
   "outputs": [
    {
     "data": {
      "text/plain": [
       "(11260, 11)"
      ]
     },
     "execution_count": 37,
     "metadata": {},
     "output_type": "execute_result"
    }
   ],
   "source": [
    "lenin_streets.shape"
   ]
  },
  {
   "cell_type": "code",
   "execution_count": 38,
   "metadata": {
    "scrolled": true
   },
   "outputs": [],
   "source": [
    "# Удаляем ненужные записи из lenin_streets\n",
    "\n",
    "lenin_streets = lenin_streets.loc[~lenin_streets.shortname.isin(unnecessary_list)]"
   ]
  },
  {
   "cell_type": "code",
   "execution_count": 39,
   "metadata": {
    "scrolled": true
   },
   "outputs": [
    {
     "data": {
      "text/plain": [
       "(11143, 11)"
      ]
     },
     "execution_count": 39,
     "metadata": {},
     "output_type": "execute_result"
    }
   ],
   "source": [
    "lenin_streets.shape"
   ]
  },
  {
   "cell_type": "markdown",
   "metadata": {},
   "source": [
    "Удаляем улицы, в названии которых есть \"км.\", \"км\", \"автодорога\", \"автомагистраль\" (это, можно сказать, технические улицы, участки автотрасс)."
   ]
  },
  {
   "cell_type": "code",
   "execution_count": 40,
   "metadata": {
    "scrolled": true
   },
   "outputs": [],
   "source": [
    "extra_streets = [' км', 'километр', 'автодорог', 'автомагистраль ', ' массив']"
   ]
  },
  {
   "cell_type": "code",
   "execution_count": 41,
   "metadata": {
    "scrolled": true
   },
   "outputs": [],
   "source": [
    "# удаляем лишние записи по названию (через цикл, хотя это не лучший метод, но работает).\n",
    "\n",
    "for i in extra_streets:\n",
    "    all_streets = all_streets.drop(all_streets[all_streets.street.str.contains(i, case=False)].index)"
   ]
  },
  {
   "cell_type": "code",
   "execution_count": 42,
   "metadata": {
    "scrolled": true
   },
   "outputs": [
    {
     "data": {
      "text/plain": [
       "(986426, 10)"
      ]
     },
     "execution_count": 42,
     "metadata": {},
     "output_type": "execute_result"
    }
   ],
   "source": [
    "all_streets.shape"
   ]
  },
  {
   "cell_type": "code",
   "execution_count": 43,
   "metadata": {
    "scrolled": true
   },
   "outputs": [],
   "source": [
    "# удаляем лишние записи в ленинских\n",
    "\n",
    "for i in extra_streets:\n",
    "    lenin_streets = lenin_streets.drop(lenin_streets[lenin_streets.street.str.contains(i, case=False)].index)"
   ]
  },
  {
   "cell_type": "code",
   "execution_count": 44,
   "metadata": {
    "scrolled": true
   },
   "outputs": [
    {
     "data": {
      "text/plain": [
       "(11134, 11)"
      ]
     },
     "execution_count": 44,
     "metadata": {},
     "output_type": "execute_result"
    }
   ],
   "source": [
    "lenin_streets.shape"
   ]
  },
  {
   "cell_type": "code",
   "execution_count": null,
   "metadata": {
    "scrolled": true
   },
   "outputs": [],
   "source": []
  },
  {
   "cell_type": "code",
   "execution_count": null,
   "metadata": {},
   "outputs": [],
   "source": []
  },
  {
   "cell_type": "code",
   "execution_count": 45,
   "metadata": {},
   "outputs": [],
   "source": [
    "all_streets = all_streets.drop('postalcode', axis=1)"
   ]
  },
  {
   "cell_type": "code",
   "execution_count": 46,
   "metadata": {},
   "outputs": [
    {
     "data": {
      "text/plain": [
       "(986426, 9)"
      ]
     },
     "execution_count": 46,
     "metadata": {},
     "output_type": "execute_result"
    }
   ],
   "source": [
    "all_streets.shape"
   ]
  },
  {
   "cell_type": "code",
   "execution_count": 47,
   "metadata": {},
   "outputs": [],
   "source": [
    "all_streets = all_streets.drop_duplicates()"
   ]
  },
  {
   "cell_type": "code",
   "execution_count": 48,
   "metadata": {},
   "outputs": [
    {
     "data": {
      "text/plain": [
       "(975537, 9)"
      ]
     },
     "execution_count": 48,
     "metadata": {},
     "output_type": "execute_result"
    }
   ],
   "source": [
    "all_streets.shape"
   ]
  },
  {
   "cell_type": "code",
   "execution_count": null,
   "metadata": {},
   "outputs": [],
   "source": []
  },
  {
   "cell_type": "markdown",
   "metadata": {},
   "source": [
    "## Записываем файлы в Excel ##\n",
    "\n",
    "К сожалению, на автомате из-за ошибок и поправок в ФИАС все сделать не получится."
   ]
  },
  {
   "cell_type": "code",
   "execution_count": 49,
   "metadata": {
    "scrolled": true
   },
   "outputs": [],
   "source": [
    "all_cities.to_excel('C:/00_Projects/Lenin/01_FIAS_excel/03_all_cities.xlsx', index=False)\n",
    "\n",
    "lenin_cities.to_excel('C:/00_Projects/Lenin/01_FIAS_excel/04_lenin_cities.xlsx', index=False)\n",
    "\n",
    "# all_streets в csv (в Экселе с таким объемом трудно работать)\n",
    "\n",
    "all_streets.to_csv('C:/00_Projects/Lenin/01_FIAS_excel/05_all_streets.csv', sep=',', encoding='utf-8', index=False)\n",
    "\n",
    "lenin_streets.to_excel('C:/00_Projects/Lenin/01_FIAS_excel/06_lenin_streets.xlsx', index=False)"
   ]
  },
  {
   "cell_type": "code",
   "execution_count": null,
   "metadata": {
    "scrolled": true
   },
   "outputs": [],
   "source": []
  }
 ],
 "metadata": {
  "kernelspec": {
   "display_name": "Python 3",
   "language": "python",
   "name": "python3"
  },
  "language_info": {
   "codemirror_mode": {
    "name": "ipython",
    "version": 3
   },
   "file_extension": ".py",
   "mimetype": "text/x-python",
   "name": "python",
   "nbconvert_exporter": "python",
   "pygments_lexer": "ipython3",
   "version": "3.7.4"
  }
 },
 "nbformat": 4,
 "nbformat_minor": 2
}
