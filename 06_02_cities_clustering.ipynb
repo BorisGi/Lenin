{
 "cells": [
  {
   "cell_type": "markdown",
   "metadata": {},
   "source": [
    "## Кластерный анализ городов ##"
   ]
  },
  {
   "cell_type": "code",
   "execution_count": 1,
   "metadata": {},
   "outputs": [],
   "source": [
    "import pandas as pd\n",
    "import numpy as np\n",
    "pd.options.display.max_rows = 85\n",
    "\n",
    "\n",
    "import matplotlib.pyplot as plt\n",
    "import seaborn as sns\n",
    "\n",
    "%matplotlib inline"
   ]
  },
  {
   "cell_type": "code",
   "execution_count": 2,
   "metadata": {},
   "outputs": [],
   "source": [
    "from sklearn import preprocessing\n",
    "from sklearn.cluster import KMeans\n",
    "\n",
    "from scipy.spatial.distance import pdist\n",
    "from scipy.cluster.hierarchy import dendrogram, linkage, fcluster"
   ]
  },
  {
   "cell_type": "code",
   "execution_count": 3,
   "metadata": {},
   "outputs": [],
   "source": [
    "# загружаем датасет, регион переводим сразу в индекс\n",
    "\n",
    "work_city_clust = pd.read_csv('C:/00_Projects/Lenin/Datasets/04_work_data/cities_100.csv', index_col='city')"
   ]
  },
  {
   "cell_type": "code",
   "execution_count": 4,
   "metadata": {},
   "outputs": [
    {
     "data": {
      "text/html": [
       "<div>\n",
       "<style scoped>\n",
       "    .dataframe tbody tr th:only-of-type {\n",
       "        vertical-align: middle;\n",
       "    }\n",
       "\n",
       "    .dataframe tbody tr th {\n",
       "        vertical-align: top;\n",
       "    }\n",
       "\n",
       "    .dataframe thead th {\n",
       "        text-align: right;\n",
       "    }\n",
       "</style>\n",
       "<table border=\"1\" class=\"dataframe\">\n",
       "  <thead>\n",
       "    <tr style=\"text-align: right;\">\n",
       "      <th></th>\n",
       "      <th>region</th>\n",
       "      <th>mun_district</th>\n",
       "      <th>city_type</th>\n",
       "      <th>population</th>\n",
       "      <th>street_number</th>\n",
       "      <th>lenin_street_number</th>\n",
       "      <th>monument_OKN_number</th>\n",
       "      <th>monument_lst_number</th>\n",
       "      <th>monument_weight</th>\n",
       "      <th>monument_OKN_weight</th>\n",
       "    </tr>\n",
       "    <tr>\n",
       "      <th>city</th>\n",
       "      <th></th>\n",
       "      <th></th>\n",
       "      <th></th>\n",
       "      <th></th>\n",
       "      <th></th>\n",
       "      <th></th>\n",
       "      <th></th>\n",
       "      <th></th>\n",
       "      <th></th>\n",
       "      <th></th>\n",
       "    </tr>\n",
       "  </thead>\n",
       "  <tbody>\n",
       "    <tr>\n",
       "      <td>Москва</td>\n",
       "      <td>Москва</td>\n",
       "      <td>Москва</td>\n",
       "      <td>г</td>\n",
       "      <td>12678079</td>\n",
       "      <td>3521</td>\n",
       "      <td>3.0</td>\n",
       "      <td>9.0</td>\n",
       "      <td>112.0</td>\n",
       "      <td>0.0318</td>\n",
       "      <td>0.0026</td>\n",
       "    </tr>\n",
       "    <tr>\n",
       "      <td>Санкт-Петербург</td>\n",
       "      <td>Санкт-Петербург</td>\n",
       "      <td>Санкт-Петербург</td>\n",
       "      <td>г</td>\n",
       "      <td>5398064</td>\n",
       "      <td>2170</td>\n",
       "      <td>5.0</td>\n",
       "      <td>6.0</td>\n",
       "      <td>61.0</td>\n",
       "      <td>0.0281</td>\n",
       "      <td>0.0028</td>\n",
       "    </tr>\n",
       "    <tr>\n",
       "      <td>Новосибирск</td>\n",
       "      <td>Новосибирская область</td>\n",
       "      <td>Новосибирск</td>\n",
       "      <td>г</td>\n",
       "      <td>1625631</td>\n",
       "      <td>2121</td>\n",
       "      <td>4.0</td>\n",
       "      <td>2.0</td>\n",
       "      <td>15.0</td>\n",
       "      <td>0.0071</td>\n",
       "      <td>0.0009</td>\n",
       "    </tr>\n",
       "    <tr>\n",
       "      <td>Екатеринбург</td>\n",
       "      <td>Свердловская область</td>\n",
       "      <td>Екатеринбург</td>\n",
       "      <td>г</td>\n",
       "      <td>1493749</td>\n",
       "      <td>1465</td>\n",
       "      <td>4.0</td>\n",
       "      <td>1.0</td>\n",
       "      <td>11.0</td>\n",
       "      <td>0.0075</td>\n",
       "      <td>0.0007</td>\n",
       "    </tr>\n",
       "    <tr>\n",
       "      <td>Казань</td>\n",
       "      <td>Татарстан</td>\n",
       "      <td>Казань</td>\n",
       "      <td>г</td>\n",
       "      <td>1257391</td>\n",
       "      <td>2302</td>\n",
       "      <td>3.0</td>\n",
       "      <td>2.0</td>\n",
       "      <td>18.0</td>\n",
       "      <td>0.0078</td>\n",
       "      <td>0.0009</td>\n",
       "    </tr>\n",
       "  </tbody>\n",
       "</table>\n",
       "</div>"
      ],
      "text/plain": [
       "                                region     mun_district city_type  population  \\\n",
       "city                                                                            \n",
       "Москва                          Москва           Москва         г    12678079   \n",
       "Санкт-Петербург        Санкт-Петербург  Санкт-Петербург         г     5398064   \n",
       "Новосибирск      Новосибирская область      Новосибирск         г     1625631   \n",
       "Екатеринбург      Свердловская область     Екатеринбург         г     1493749   \n",
       "Казань                       Татарстан           Казань         г     1257391   \n",
       "\n",
       "                 street_number  lenin_street_number  monument_OKN_number  \\\n",
       "city                                                                       \n",
       "Москва                    3521                  3.0                  9.0   \n",
       "Санкт-Петербург           2170                  5.0                  6.0   \n",
       "Новосибирск               2121                  4.0                  2.0   \n",
       "Екатеринбург              1465                  4.0                  1.0   \n",
       "Казань                    2302                  3.0                  2.0   \n",
       "\n",
       "                 monument_lst_number  monument_weight  monument_OKN_weight  \n",
       "city                                                                        \n",
       "Москва                         112.0           0.0318               0.0026  \n",
       "Санкт-Петербург                 61.0           0.0281               0.0028  \n",
       "Новосибирск                     15.0           0.0071               0.0009  \n",
       "Екатеринбург                    11.0           0.0075               0.0007  \n",
       "Казань                          18.0           0.0078               0.0009  "
      ]
     },
     "execution_count": 4,
     "metadata": {},
     "output_type": "execute_result"
    }
   ],
   "source": [
    "work_city_clust.head()"
   ]
  },
  {
   "cell_type": "code",
   "execution_count": 5,
   "metadata": {},
   "outputs": [
    {
     "data": {
      "text/plain": [
       "Index(['region', 'mun_district', 'city_type', 'population', 'street_number',\n",
       "       'lenin_street_number', 'monument_OKN_number', 'monument_lst_number',\n",
       "       'monument_weight', 'monument_OKN_weight'],\n",
       "      dtype='object')"
      ]
     },
     "execution_count": 5,
     "metadata": {},
     "output_type": "execute_result"
    }
   ],
   "source": [
    "work_city_clust.columns"
   ]
  },
  {
   "cell_type": "code",
   "execution_count": 6,
   "metadata": {},
   "outputs": [],
   "source": [
    "# отбираем нужные столбцы для анализа\n",
    "\n",
    "need_columns = ['lenin_street_number',\n",
    "                'monument_OKN_number',\n",
    "                'monument_lst_number']"
   ]
  },
  {
   "cell_type": "code",
   "execution_count": 7,
   "metadata": {},
   "outputs": [],
   "source": [
    "# Исключаем Грозный, Назрань, Москву и Питер\n",
    "#\n",
    "work_city_clust = work_city_clust[~((work_city_clust.index == 'Грозный')\n",
    "                                    | (work_city_clust.index == 'Назрань')\n",
    "                                    | (work_city_clust.index == 'Москва')\n",
    "                                    | (work_city_clust.index == 'Санкт-Петербург')\n",
    "                                    #|(work_city_clust.index == 'Ногинск')\n",
    "                                   )]"
   ]
  },
  {
   "cell_type": "code",
   "execution_count": null,
   "metadata": {},
   "outputs": [],
   "source": []
  },
  {
   "cell_type": "markdown",
   "metadata": {},
   "source": [
    "### Иерархический кластерный анализ ###"
   ]
  },
  {
   "cell_type": "code",
   "execution_count": 8,
   "metadata": {},
   "outputs": [],
   "source": [
    "# Нормализуем данные\n",
    "\n",
    "data_normed = preprocessing.MinMaxScaler().fit_transform(work_city_clust[need_columns].values)"
   ]
  },
  {
   "cell_type": "code",
   "execution_count": 9,
   "metadata": {},
   "outputs": [
    {
     "data": {
      "text/plain": [
       "array([[0.57142857, 0.10526316, 0.55555556],\n",
       "       [0.57142857, 0.05263158, 0.40740741],\n",
       "       [0.42857143, 0.10526316, 0.66666667]])"
      ]
     },
     "execution_count": 9,
     "metadata": {},
     "output_type": "execute_result"
    }
   ],
   "source": [
    "data_normed[:3]"
   ]
  },
  {
   "cell_type": "code",
   "execution_count": 10,
   "metadata": {},
   "outputs": [],
   "source": [
    "# Вычисляем расстояния между данными (строками массива data_for_clust)\n",
    "# по умолчанию евклидово расстояние\n",
    "\n",
    "data_dist = pdist(data_normed, 'euclidean')"
   ]
  },
  {
   "cell_type": "code",
   "execution_count": 11,
   "metadata": {},
   "outputs": [],
   "source": [
    "# Главная функция иерархической кластеризии\n",
    "# Объедение элементов в кластера и сохранение в \n",
    "# специальной переменной (используется ниже для визуализации \n",
    "# и выделения количества кластеров\n",
    "\n",
    "\n",
    "link = linkage(data_dist, method='ward')"
   ]
  },
  {
   "cell_type": "code",
   "execution_count": 12,
   "metadata": {},
   "outputs": [
    {
     "data": {
      "image/png": "[encoded data removed]",
      "text/plain": [
       "<Figure size 1152x720 with 1 Axes>"
      ]
     },
     "metadata": {
      "needs_background": "light"
     },
     "output_type": "display_data"
    },
    {
     "name": "stdout",
     "output_type": "stream",
     "text": [
      "Рекомендованное количество кластеров: 2\n"
     ]
    }
   ],
   "source": [
    "plt.rcParams['figure.figsize']=(16, 10)\n",
    "\n",
    "last = link[-10:, 2]\n",
    "last_rev = last[::-1]\n",
    "idxs = np.arange(1, len(last) + 1)\n",
    "plt.plot(idxs, last_rev)\n",
    "\n",
    "acceleration = np.diff(last, 2)  \n",
    "acceleration_rev = acceleration[::-1]\n",
    "plt.plot(idxs[:-2] + 1, acceleration_rev)\n",
    "plt.show()\n",
    "k = acceleration_rev.argmax() + 2 \n",
    "print(\"Рекомендованное количество кластеров:\", k)"
   ]
  },
  {
   "cell_type": "code",
   "execution_count": 13,
   "metadata": {},
   "outputs": [
    {
     "data": {
      "image/png": "[encoded data removed]",
      "text/plain": [
       "<Figure size 1152x720 with 1 Axes>"
      ]
     },
     "metadata": {
      "needs_background": "light"
     },
     "output_type": "display_data"
    }
   ],
   "source": [
    "# строим дендрограмму \n",
    "\n",
    "dn = dendrogram(link,\n",
    "                # массив с названиями объектов для подписи по оси X\n",
    "                labels = work_city_clust.index.tolist(),\n",
    "                \n",
    "                # опция для более красивого отображения слишком ветввистой дендрограммы\n",
    "                truncate_mode = 'lastp',\n",
    "                \n",
    "                # повернуть подписи вертикально\n",
    "                color_threshold = 5,\n",
    "                orientation = 'right',\n",
    "                leaf_rotation=0.)"
   ]
  },
  {
   "cell_type": "code",
   "execution_count": 14,
   "metadata": {},
   "outputs": [],
   "source": [
    "# Задаем количество кластеров\n",
    "\n",
    "n_clusts = 5"
   ]
  },
  {
   "cell_type": "code",
   "execution_count": 15,
   "metadata": {},
   "outputs": [
    {
     "data": {
      "text/plain": [
       "array([2, 2, 2, 2, 2, 5, 1, 5, 2, 5, 2, 5, 2, 1, 2, 3, 4, 5, 3, 5, 5, 5,\n",
       "       5, 5, 5, 4, 4, 4, 3, 5, 4, 2, 5, 2, 2, 2, 3, 5, 5, 2, 4, 5, 1, 5,\n",
       "       3, 4, 5, 5, 3, 3, 2, 4, 5, 2, 4, 3, 4, 4, 4, 5, 3, 2, 5, 4, 4, 5,\n",
       "       5, 3, 4, 3, 3, 4, 5, 4, 4, 3, 4, 3, 3, 3, 3, 4, 5, 4, 4, 5, 3, 4,\n",
       "       3, 4, 3, 4, 3, 3, 5, 5, 5, 3, 3, 4, 3, 3, 4, 3, 3, 4, 3, 3, 5, 3,\n",
       "       4, 4, 4, 3, 4, 3, 4, 3, 3, 3, 3, 4, 3, 4, 3, 3, 3, 3, 4, 3, 3, 5,\n",
       "       4, 5, 3, 5, 5, 4, 4, 3, 3, 3, 3, 3, 3, 3, 4, 3, 3, 5, 3, 4, 3, 3,\n",
       "       3, 4, 3, 4, 3, 3, 4, 4, 4, 4, 3, 4, 3, 3, 3], dtype=int32)"
      ]
     },
     "execution_count": 15,
     "metadata": {},
     "output_type": "execute_result"
    }
   ],
   "source": [
    "# иерархическая кластеризация\n",
    "\n",
    "clusters = fcluster(link, n_clusts, criterion='maxclust')\n",
    "\n",
    "clusters"
   ]
  },
  {
   "cell_type": "code",
   "execution_count": 16,
   "metadata": {},
   "outputs": [
    {
     "name": "stdout",
     "output_type": "stream",
     "text": [
      "0: lenin_street_number\n",
      "1: monument_OKN_number\n",
      "2: monument_lst_number\n"
     ]
    }
   ],
   "source": [
    "# номера столбцов\n",
    "\n",
    "for i in enumerate(need_columns):\n",
    "    print(i[0], ': ', i[1], sep='')"
   ]
  },
  {
   "cell_type": "code",
   "execution_count": 17,
   "metadata": {},
   "outputs": [
    {
     "data": {
      "image/png": "[encoded data removed]",
      "text/plain": [
       "<Figure size 720x576 with 1 Axes>"
      ]
     },
     "metadata": {
      "needs_background": "light"
     },
     "output_type": "display_data"
    }
   ],
   "source": [
    "# Чтобы построить диаграмму в разных осях, меняйте номера столбцов\n",
    "\n",
    "x = 0\n",
    "y = 1\n",
    "\n",
    "plt.figure(figsize=(10, 8))\n",
    "\n",
    "plt.scatter(data_normed[:,x], data_normed[:,y], c=clusters, cmap='flag')\n",
    "plt.xlabel(need_columns[x])\n",
    "plt.ylabel(need_columns[y]);\n",
    "plt.show()"
   ]
  },
  {
   "cell_type": "code",
   "execution_count": 18,
   "metadata": {},
   "outputs": [],
   "source": [
    "# добавляем номер кластера\n",
    "\n",
    "work_city_clust['cluster_hierarchy'] = clusters"
   ]
  },
  {
   "cell_type": "code",
   "execution_count": 19,
   "metadata": {},
   "outputs": [],
   "source": [
    "# группируем\n",
    "\n",
    "res_hierarchy = work_city_clust.groupby('cluster_hierarchy')[need_columns].mean()\n",
    "\n",
    "res_hierarchy['Объектов в кластере'] = work_city_clust.groupby('cluster_hierarchy').size().values"
   ]
  },
  {
   "cell_type": "code",
   "execution_count": 20,
   "metadata": {},
   "outputs": [
    {
     "data": {
      "text/html": [
       "<div>\n",
       "<style scoped>\n",
       "    .dataframe tbody tr th:only-of-type {\n",
       "        vertical-align: middle;\n",
       "    }\n",
       "\n",
       "    .dataframe tbody tr th {\n",
       "        vertical-align: top;\n",
       "    }\n",
       "\n",
       "    .dataframe thead th {\n",
       "        text-align: right;\n",
       "    }\n",
       "</style>\n",
       "<table border=\"1\" class=\"dataframe\">\n",
       "  <thead>\n",
       "    <tr style=\"text-align: right;\">\n",
       "      <th></th>\n",
       "      <th>lenin_street_number</th>\n",
       "      <th>monument_OKN_number</th>\n",
       "      <th>monument_lst_number</th>\n",
       "      <th>Объектов в кластере</th>\n",
       "    </tr>\n",
       "    <tr>\n",
       "      <th>cluster_hierarchy</th>\n",
       "      <th></th>\n",
       "      <th></th>\n",
       "      <th></th>\n",
       "      <th></th>\n",
       "    </tr>\n",
       "  </thead>\n",
       "  <tbody>\n",
       "    <tr>\n",
       "      <td>1</td>\n",
       "      <td>2.666667</td>\n",
       "      <td>12.333333</td>\n",
       "      <td>20.000000</td>\n",
       "      <td>3</td>\n",
       "    </tr>\n",
       "    <tr>\n",
       "      <td>2</td>\n",
       "      <td>3.588235</td>\n",
       "      <td>1.176471</td>\n",
       "      <td>14.117647</td>\n",
       "      <td>17</td>\n",
       "    </tr>\n",
       "    <tr>\n",
       "      <td>3</td>\n",
       "      <td>0.876923</td>\n",
       "      <td>0.584615</td>\n",
       "      <td>2.953846</td>\n",
       "      <td>65</td>\n",
       "    </tr>\n",
       "    <tr>\n",
       "      <td>4</td>\n",
       "      <td>2.354167</td>\n",
       "      <td>0.645833</td>\n",
       "      <td>3.875000</td>\n",
       "      <td>48</td>\n",
       "    </tr>\n",
       "    <tr>\n",
       "      <td>5</td>\n",
       "      <td>1.638889</td>\n",
       "      <td>2.361111</td>\n",
       "      <td>8.972222</td>\n",
       "      <td>36</td>\n",
       "    </tr>\n",
       "  </tbody>\n",
       "</table>\n",
       "</div>"
      ],
      "text/plain": [
       "                   lenin_street_number  monument_OKN_number  \\\n",
       "cluster_hierarchy                                             \n",
       "1                             2.666667            12.333333   \n",
       "2                             3.588235             1.176471   \n",
       "3                             0.876923             0.584615   \n",
       "4                             2.354167             0.645833   \n",
       "5                             1.638889             2.361111   \n",
       "\n",
       "                   monument_lst_number  Объектов в кластере  \n",
       "cluster_hierarchy                                            \n",
       "1                            20.000000                    3  \n",
       "2                            14.117647                   17  \n",
       "3                             2.953846                   65  \n",
       "4                             3.875000                   48  \n",
       "5                             8.972222                   36  "
      ]
     },
     "execution_count": 20,
     "metadata": {},
     "output_type": "execute_result"
    }
   ],
   "source": [
    "# средние цифры по кластерам и количество объектов\n",
    "\n",
    "res_hierarchy"
   ]
  },
  {
   "cell_type": "code",
   "execution_count": 34,
   "metadata": {},
   "outputs": [
    {
     "data": {
      "text/html": [
       "<div>\n",
       "<style scoped>\n",
       "    .dataframe tbody tr th:only-of-type {\n",
       "        vertical-align: middle;\n",
       "    }\n",
       "\n",
       "    .dataframe tbody tr th {\n",
       "        vertical-align: top;\n",
       "    }\n",
       "\n",
       "    .dataframe thead th {\n",
       "        text-align: right;\n",
       "    }\n",
       "</style>\n",
       "<table border=\"1\" class=\"dataframe\">\n",
       "  <thead>\n",
       "    <tr style=\"text-align: right;\">\n",
       "      <th></th>\n",
       "      <th>lenin_street_number</th>\n",
       "      <th>monument_OKN_number</th>\n",
       "      <th>monument_lst_number</th>\n",
       "    </tr>\n",
       "    <tr>\n",
       "      <th>city</th>\n",
       "      <th></th>\n",
       "      <th></th>\n",
       "      <th></th>\n",
       "    </tr>\n",
       "  </thead>\n",
       "  <tbody>\n",
       "    <tr>\n",
       "      <td>Новосибирск</td>\n",
       "      <td>4.0</td>\n",
       "      <td>2.0</td>\n",
       "      <td>15.0</td>\n",
       "    </tr>\n",
       "    <tr>\n",
       "      <td>Екатеринбург</td>\n",
       "      <td>4.0</td>\n",
       "      <td>1.0</td>\n",
       "      <td>11.0</td>\n",
       "    </tr>\n",
       "    <tr>\n",
       "      <td>Казань</td>\n",
       "      <td>3.0</td>\n",
       "      <td>2.0</td>\n",
       "      <td>18.0</td>\n",
       "    </tr>\n",
       "    <tr>\n",
       "      <td>Нижний Новгород</td>\n",
       "      <td>3.0</td>\n",
       "      <td>3.0</td>\n",
       "      <td>27.0</td>\n",
       "    </tr>\n",
       "    <tr>\n",
       "      <td>Челябинск</td>\n",
       "      <td>3.0</td>\n",
       "      <td>1.0</td>\n",
       "      <td>14.0</td>\n",
       "    </tr>\n",
       "    <tr>\n",
       "      <td>Уфа</td>\n",
       "      <td>2.0</td>\n",
       "      <td>1.0</td>\n",
       "      <td>18.0</td>\n",
       "    </tr>\n",
       "    <tr>\n",
       "      <td>Воронеж</td>\n",
       "      <td>4.0</td>\n",
       "      <td>1.0</td>\n",
       "      <td>13.0</td>\n",
       "    </tr>\n",
       "    <tr>\n",
       "      <td>Волгоград</td>\n",
       "      <td>4.0</td>\n",
       "      <td>2.0</td>\n",
       "      <td>16.0</td>\n",
       "    </tr>\n",
       "    <tr>\n",
       "      <td>Саратов</td>\n",
       "      <td>1.0</td>\n",
       "      <td>0.0</td>\n",
       "      <td>22.0</td>\n",
       "    </tr>\n",
       "    <tr>\n",
       "      <td>Астрахань</td>\n",
       "      <td>3.0</td>\n",
       "      <td>1.0</td>\n",
       "      <td>15.0</td>\n",
       "    </tr>\n",
       "    <tr>\n",
       "      <td>Киров</td>\n",
       "      <td>7.0</td>\n",
       "      <td>1.0</td>\n",
       "      <td>7.0</td>\n",
       "    </tr>\n",
       "    <tr>\n",
       "      <td>Липецк</td>\n",
       "      <td>5.0</td>\n",
       "      <td>0.0</td>\n",
       "      <td>12.0</td>\n",
       "    </tr>\n",
       "    <tr>\n",
       "      <td>Балашиха</td>\n",
       "      <td>4.0</td>\n",
       "      <td>1.0</td>\n",
       "      <td>13.0</td>\n",
       "    </tr>\n",
       "    <tr>\n",
       "      <td>Курск</td>\n",
       "      <td>2.0</td>\n",
       "      <td>1.0</td>\n",
       "      <td>16.0</td>\n",
       "    </tr>\n",
       "    <tr>\n",
       "      <td>Владимир</td>\n",
       "      <td>4.0</td>\n",
       "      <td>2.0</td>\n",
       "      <td>8.0</td>\n",
       "    </tr>\n",
       "    <tr>\n",
       "      <td>Архангельск</td>\n",
       "      <td>4.0</td>\n",
       "      <td>0.0</td>\n",
       "      <td>9.0</td>\n",
       "    </tr>\n",
       "    <tr>\n",
       "      <td>Курган</td>\n",
       "      <td>4.0</td>\n",
       "      <td>1.0</td>\n",
       "      <td>6.0</td>\n",
       "    </tr>\n",
       "  </tbody>\n",
       "</table>\n",
       "</div>"
      ],
      "text/plain": [
       "                 lenin_street_number  monument_OKN_number  monument_lst_number\n",
       "city                                                                          \n",
       "Новосибирск                      4.0                  2.0                 15.0\n",
       "Екатеринбург                     4.0                  1.0                 11.0\n",
       "Казань                           3.0                  2.0                 18.0\n",
       "Нижний Новгород                  3.0                  3.0                 27.0\n",
       "Челябинск                        3.0                  1.0                 14.0\n",
       "Уфа                              2.0                  1.0                 18.0\n",
       "Воронеж                          4.0                  1.0                 13.0\n",
       "Волгоград                        4.0                  2.0                 16.0\n",
       "Саратов                          1.0                  0.0                 22.0\n",
       "Астрахань                        3.0                  1.0                 15.0\n",
       "Киров                            7.0                  1.0                  7.0\n",
       "Липецк                           5.0                  0.0                 12.0\n",
       "Балашиха                         4.0                  1.0                 13.0\n",
       "Курск                            2.0                  1.0                 16.0\n",
       "Владимир                         4.0                  2.0                  8.0\n",
       "Архангельск                      4.0                  0.0                  9.0\n",
       "Курган                           4.0                  1.0                  6.0"
      ]
     },
     "execution_count": 34,
     "metadata": {},
     "output_type": "execute_result"
    }
   ],
   "source": [
    "# состав кластеров\n",
    "\n",
    "work_city_clust[work_city_clust['cluster_hierarchy'] == 2][need_columns]"
   ]
  },
  {
   "cell_type": "code",
   "execution_count": null,
   "metadata": {},
   "outputs": [],
   "source": []
  },
  {
   "cell_type": "markdown",
   "metadata": {},
   "source": [
    "### K-means ###"
   ]
  },
  {
   "cell_type": "code",
   "execution_count": 22,
   "metadata": {},
   "outputs": [],
   "source": [
    "# строим кластеризаци методом KMeans\n",
    "\n",
    "km = KMeans(n_clusters=n_clusts).fit(data_normed)"
   ]
  },
  {
   "cell_type": "code",
   "execution_count": 23,
   "metadata": {},
   "outputs": [
    {
     "data": {
      "text/plain": [
       "array([1, 1, 1, 1, 1, 1, 1, 4, 1, 1, 1, 1, 1, 3, 5, 2, 4, 5, 2, 5, 5, 1,\n",
       "       5, 5, 2, 4, 4, 4, 2, 5, 4, 1, 5, 1, 1, 1, 2, 5, 4, 5, 4, 5, 3, 5,\n",
       "       2, 4, 5, 1, 2, 2, 1, 4, 5, 1, 4, 2, 4, 4, 4, 5, 2, 4, 5, 4, 4, 5,\n",
       "       5, 2, 4, 2, 2, 4, 5, 5, 4, 2, 4, 2, 2, 2, 2, 4, 5, 4, 4, 5, 2, 4,\n",
       "       2, 4, 2, 4, 2, 2, 5, 5, 3, 2, 2, 4, 2, 2, 4, 2, 2, 4, 2, 2, 5, 2,\n",
       "       4, 4, 4, 2, 4, 2, 4, 2, 2, 2, 2, 4, 2, 4, 2, 2, 2, 2, 4, 2, 2, 5,\n",
       "       4, 2, 2, 4, 5, 4, 4, 2, 2, 2, 2, 2, 2, 2, 4, 2, 2, 5, 2, 4, 2, 2,\n",
       "       2, 4, 2, 4, 2, 2, 4, 4, 4, 4, 2, 4, 2, 2, 2])"
      ]
     },
     "execution_count": 23,
     "metadata": {},
     "output_type": "execute_result"
    }
   ],
   "source": [
    "# выведем полученное распределение по кластерам\n",
    "# так же номер кластера, к котрому относится строка, так как нумерация начинается с нуля, выводим добавляя 1\n",
    "\n",
    "km.labels_ +1"
   ]
  },
  {
   "cell_type": "code",
   "execution_count": 24,
   "metadata": {},
   "outputs": [
    {
     "name": "stdout",
     "output_type": "stream",
     "text": [
      "0: lenin_street_number\n",
      "1: monument_OKN_number\n",
      "2: monument_lst_number\n"
     ]
    }
   ],
   "source": [
    "# номера столбцов\n",
    "\n",
    "for i in enumerate(need_columns):\n",
    "    print(i[0], ': ', i[1], sep='')"
   ]
  },
  {
   "cell_type": "code",
   "execution_count": 25,
   "metadata": {},
   "outputs": [
    {
     "data": {
      "image/png": "[encoded data removed]",
      "text/plain": [
       "<Figure size 720x576 with 1 Axes>"
      ]
     },
     "metadata": {
      "needs_background": "light"
     },
     "output_type": "display_data"
    }
   ],
   "source": [
    "# Чтобы построить диаграмму в разных осях, меняйте номера столбцов\n",
    "# звездочки центры кластеров\n",
    "\n",
    "x = 0\n",
    "y = 1\n",
    "\n",
    "centroids = km.cluster_centers_\n",
    "plt.figure(figsize=(10, 8))\n",
    "plt.scatter(data_normed[:,x], data_normed[:,y], c=km.labels_, cmap='flag')\n",
    "plt.scatter(centroids[:, x], centroids[:, y], marker='*', s=300,\n",
    "            c='r', label='centroid')\n",
    "plt.xlabel(need_columns[x])\n",
    "plt.ylabel(need_columns[y]);\n",
    "plt.show()"
   ]
  },
  {
   "cell_type": "code",
   "execution_count": 26,
   "metadata": {},
   "outputs": [],
   "source": [
    "# к оригинальным данным добавляем номера кластеров\n",
    "\n",
    "work_city_clust['cluster_KMeans'] = km.labels_+1"
   ]
  },
  {
   "cell_type": "code",
   "execution_count": 27,
   "metadata": {},
   "outputs": [],
   "source": [
    "# группируем\n",
    "\n",
    "res_KMeans = work_city_clust.groupby('cluster_KMeans')[need_columns].mean()\n",
    "res_KMeans['объектов в KM'] = work_city_clust.groupby('cluster_KMeans').size().values"
   ]
  },
  {
   "cell_type": "code",
   "execution_count": 28,
   "metadata": {},
   "outputs": [
    {
     "data": {
      "text/html": [
       "<div>\n",
       "<style scoped>\n",
       "    .dataframe tbody tr th:only-of-type {\n",
       "        vertical-align: middle;\n",
       "    }\n",
       "\n",
       "    .dataframe tbody tr th {\n",
       "        vertical-align: top;\n",
       "    }\n",
       "\n",
       "    .dataframe thead th {\n",
       "        text-align: right;\n",
       "    }\n",
       "</style>\n",
       "<table border=\"1\" class=\"dataframe\">\n",
       "  <thead>\n",
       "    <tr style=\"text-align: right;\">\n",
       "      <th></th>\n",
       "      <th>lenin_street_number</th>\n",
       "      <th>monument_OKN_number</th>\n",
       "      <th>monument_lst_number</th>\n",
       "      <th>объектов в KM</th>\n",
       "    </tr>\n",
       "    <tr>\n",
       "      <th>cluster_KMeans</th>\n",
       "      <th></th>\n",
       "      <th></th>\n",
       "      <th></th>\n",
       "      <th></th>\n",
       "    </tr>\n",
       "  </thead>\n",
       "  <tbody>\n",
       "    <tr>\n",
       "      <td>1</td>\n",
       "      <td>3.650000</td>\n",
       "      <td>1.950000</td>\n",
       "      <td>13.450000</td>\n",
       "      <td>20</td>\n",
       "    </tr>\n",
       "    <tr>\n",
       "      <td>2</td>\n",
       "      <td>0.880597</td>\n",
       "      <td>0.746269</td>\n",
       "      <td>2.985075</td>\n",
       "      <td>67</td>\n",
       "    </tr>\n",
       "    <tr>\n",
       "      <td>3</td>\n",
       "      <td>1.666667</td>\n",
       "      <td>14.000000</td>\n",
       "      <td>17.000000</td>\n",
       "      <td>3</td>\n",
       "    </tr>\n",
       "    <tr>\n",
       "      <td>4</td>\n",
       "      <td>2.411765</td>\n",
       "      <td>0.843137</td>\n",
       "      <td>4.019608</td>\n",
       "      <td>51</td>\n",
       "    </tr>\n",
       "    <tr>\n",
       "      <td>5</td>\n",
       "      <td>1.357143</td>\n",
       "      <td>1.321429</td>\n",
       "      <td>9.857143</td>\n",
       "      <td>28</td>\n",
       "    </tr>\n",
       "  </tbody>\n",
       "</table>\n",
       "</div>"
      ],
      "text/plain": [
       "                lenin_street_number  monument_OKN_number  monument_lst_number  \\\n",
       "cluster_KMeans                                                                  \n",
       "1                          3.650000             1.950000            13.450000   \n",
       "2                          0.880597             0.746269             2.985075   \n",
       "3                          1.666667            14.000000            17.000000   \n",
       "4                          2.411765             0.843137             4.019608   \n",
       "5                          1.357143             1.321429             9.857143   \n",
       "\n",
       "                объектов в KM  \n",
       "cluster_KMeans                 \n",
       "1                          20  \n",
       "2                          67  \n",
       "3                           3  \n",
       "4                          51  \n",
       "5                          28  "
      ]
     },
     "execution_count": 28,
     "metadata": {},
     "output_type": "execute_result"
    }
   ],
   "source": [
    "# средние цифры по кластерам и количество объектов\n",
    "\n",
    "res_KMeans"
   ]
  },
  {
   "cell_type": "code",
   "execution_count": 29,
   "metadata": {},
   "outputs": [
    {
     "data": {
      "text/html": [
       "<div>\n",
       "<style scoped>\n",
       "    .dataframe tbody tr th:only-of-type {\n",
       "        vertical-align: middle;\n",
       "    }\n",
       "\n",
       "    .dataframe tbody tr th {\n",
       "        vertical-align: top;\n",
       "    }\n",
       "\n",
       "    .dataframe thead th {\n",
       "        text-align: right;\n",
       "    }\n",
       "</style>\n",
       "<table border=\"1\" class=\"dataframe\">\n",
       "  <thead>\n",
       "    <tr style=\"text-align: right;\">\n",
       "      <th></th>\n",
       "      <th>lenin_street_number</th>\n",
       "      <th>monument_OKN_number</th>\n",
       "      <th>monument_lst_number</th>\n",
       "    </tr>\n",
       "    <tr>\n",
       "      <th>city</th>\n",
       "      <th></th>\n",
       "      <th></th>\n",
       "      <th></th>\n",
       "    </tr>\n",
       "  </thead>\n",
       "  <tbody>\n",
       "    <tr>\n",
       "      <td>Саратов</td>\n",
       "      <td>1.0</td>\n",
       "      <td>0.0</td>\n",
       "      <td>22.0</td>\n",
       "    </tr>\n",
       "    <tr>\n",
       "      <td>Ижевск</td>\n",
       "      <td>1.0</td>\n",
       "      <td>1.0</td>\n",
       "      <td>8.0</td>\n",
       "    </tr>\n",
       "    <tr>\n",
       "      <td>Ульяновск</td>\n",
       "      <td>2.0</td>\n",
       "      <td>3.0</td>\n",
       "      <td>12.0</td>\n",
       "    </tr>\n",
       "    <tr>\n",
       "      <td>Иркутск</td>\n",
       "      <td>2.0</td>\n",
       "      <td>2.0</td>\n",
       "      <td>9.0</td>\n",
       "    </tr>\n",
       "    <tr>\n",
       "      <td>Ярославль</td>\n",
       "      <td>1.0</td>\n",
       "      <td>1.0</td>\n",
       "      <td>14.0</td>\n",
       "    </tr>\n",
       "    <tr>\n",
       "      <td>Владивосток</td>\n",
       "      <td>0.0</td>\n",
       "      <td>3.0</td>\n",
       "      <td>10.0</td>\n",
       "    </tr>\n",
       "    <tr>\n",
       "      <td>Рязань</td>\n",
       "      <td>2.0</td>\n",
       "      <td>1.0</td>\n",
       "      <td>10.0</td>\n",
       "    </tr>\n",
       "    <tr>\n",
       "      <td>Пенза</td>\n",
       "      <td>2.0</td>\n",
       "      <td>1.0</td>\n",
       "      <td>9.0</td>\n",
       "    </tr>\n",
       "    <tr>\n",
       "      <td>Калининград</td>\n",
       "      <td>1.0</td>\n",
       "      <td>1.0</td>\n",
       "      <td>13.0</td>\n",
       "    </tr>\n",
       "    <tr>\n",
       "      <td>Курск</td>\n",
       "      <td>2.0</td>\n",
       "      <td>1.0</td>\n",
       "      <td>16.0</td>\n",
       "    </tr>\n",
       "    <tr>\n",
       "      <td>Севастополь</td>\n",
       "      <td>1.0</td>\n",
       "      <td>2.0</td>\n",
       "      <td>12.0</td>\n",
       "    </tr>\n",
       "    <tr>\n",
       "      <td>Улан-Удэ</td>\n",
       "      <td>1.0</td>\n",
       "      <td>1.0</td>\n",
       "      <td>7.0</td>\n",
       "    </tr>\n",
       "    <tr>\n",
       "      <td>Иваново</td>\n",
       "      <td>2.0</td>\n",
       "      <td>1.0</td>\n",
       "      <td>9.0</td>\n",
       "    </tr>\n",
       "    <tr>\n",
       "      <td>Нижний Тагил</td>\n",
       "      <td>2.0</td>\n",
       "      <td>0.0</td>\n",
       "      <td>9.0</td>\n",
       "    </tr>\n",
       "    <tr>\n",
       "      <td>Саранск</td>\n",
       "      <td>1.0</td>\n",
       "      <td>7.0</td>\n",
       "      <td>6.0</td>\n",
       "    </tr>\n",
       "    <tr>\n",
       "      <td>Вологда</td>\n",
       "      <td>1.0</td>\n",
       "      <td>1.0</td>\n",
       "      <td>8.0</td>\n",
       "    </tr>\n",
       "    <tr>\n",
       "      <td>Владикавказ</td>\n",
       "      <td>2.0</td>\n",
       "      <td>1.0</td>\n",
       "      <td>9.0</td>\n",
       "    </tr>\n",
       "    <tr>\n",
       "      <td>Тамбов</td>\n",
       "      <td>1.0</td>\n",
       "      <td>0.0</td>\n",
       "      <td>8.0</td>\n",
       "    </tr>\n",
       "    <tr>\n",
       "      <td>Новороссийск</td>\n",
       "      <td>1.0</td>\n",
       "      <td>3.0</td>\n",
       "      <td>8.0</td>\n",
       "    </tr>\n",
       "    <tr>\n",
       "      <td>Йошкар-Ола</td>\n",
       "      <td>2.0</td>\n",
       "      <td>1.0</td>\n",
       "      <td>8.0</td>\n",
       "    </tr>\n",
       "    <tr>\n",
       "      <td>Дзержинск</td>\n",
       "      <td>2.0</td>\n",
       "      <td>0.0</td>\n",
       "      <td>10.0</td>\n",
       "    </tr>\n",
       "    <tr>\n",
       "      <td>Благовещенск</td>\n",
       "      <td>2.0</td>\n",
       "      <td>4.0</td>\n",
       "      <td>8.0</td>\n",
       "    </tr>\n",
       "    <tr>\n",
       "      <td>Бийск</td>\n",
       "      <td>1.0</td>\n",
       "      <td>0.0</td>\n",
       "      <td>8.0</td>\n",
       "    </tr>\n",
       "    <tr>\n",
       "      <td>Прокопьевск</td>\n",
       "      <td>2.0</td>\n",
       "      <td>0.0</td>\n",
       "      <td>9.0</td>\n",
       "    </tr>\n",
       "    <tr>\n",
       "      <td>Каменск-Уральский</td>\n",
       "      <td>1.0</td>\n",
       "      <td>0.0</td>\n",
       "      <td>8.0</td>\n",
       "    </tr>\n",
       "    <tr>\n",
       "      <td>Серпухов</td>\n",
       "      <td>1.0</td>\n",
       "      <td>0.0</td>\n",
       "      <td>9.0</td>\n",
       "    </tr>\n",
       "    <tr>\n",
       "      <td>Новомосковск</td>\n",
       "      <td>0.0</td>\n",
       "      <td>2.0</td>\n",
       "      <td>8.0</td>\n",
       "    </tr>\n",
       "    <tr>\n",
       "      <td>Евпатория</td>\n",
       "      <td>1.0</td>\n",
       "      <td>0.0</td>\n",
       "      <td>9.0</td>\n",
       "    </tr>\n",
       "  </tbody>\n",
       "</table>\n",
       "</div>"
      ],
      "text/plain": [
       "                   lenin_street_number  monument_OKN_number  \\\n",
       "city                                                          \n",
       "Саратов                            1.0                  0.0   \n",
       "Ижевск                             1.0                  1.0   \n",
       "Ульяновск                          2.0                  3.0   \n",
       "Иркутск                            2.0                  2.0   \n",
       "Ярославль                          1.0                  1.0   \n",
       "Владивосток                        0.0                  3.0   \n",
       "Рязань                             2.0                  1.0   \n",
       "Пенза                              2.0                  1.0   \n",
       "Калининград                        1.0                  1.0   \n",
       "Курск                              2.0                  1.0   \n",
       "Севастополь                        1.0                  2.0   \n",
       "Улан-Удэ                           1.0                  1.0   \n",
       "Иваново                            2.0                  1.0   \n",
       "Нижний Тагил                       2.0                  0.0   \n",
       "Саранск                            1.0                  7.0   \n",
       "Вологда                            1.0                  1.0   \n",
       "Владикавказ                        2.0                  1.0   \n",
       "Тамбов                             1.0                  0.0   \n",
       "Новороссийск                       1.0                  3.0   \n",
       "Йошкар-Ола                         2.0                  1.0   \n",
       "Дзержинск                          2.0                  0.0   \n",
       "Благовещенск                       2.0                  4.0   \n",
       "Бийск                              1.0                  0.0   \n",
       "Прокопьевск                        2.0                  0.0   \n",
       "Каменск-Уральский                  1.0                  0.0   \n",
       "Серпухов                           1.0                  0.0   \n",
       "Новомосковск                       0.0                  2.0   \n",
       "Евпатория                          1.0                  0.0   \n",
       "\n",
       "                   monument_lst_number  \n",
       "city                                    \n",
       "Саратов                           22.0  \n",
       "Ижевск                             8.0  \n",
       "Ульяновск                         12.0  \n",
       "Иркутск                            9.0  \n",
       "Ярославль                         14.0  \n",
       "Владивосток                       10.0  \n",
       "Рязань                            10.0  \n",
       "Пенза                              9.0  \n",
       "Калининград                       13.0  \n",
       "Курск                             16.0  \n",
       "Севастополь                       12.0  \n",
       "Улан-Удэ                           7.0  \n",
       "Иваново                            9.0  \n",
       "Нижний Тагил                       9.0  \n",
       "Саранск                            6.0  \n",
       "Вологда                            8.0  \n",
       "Владикавказ                        9.0  \n",
       "Тамбов                             8.0  \n",
       "Новороссийск                       8.0  \n",
       "Йошкар-Ола                         8.0  \n",
       "Дзержинск                         10.0  \n",
       "Благовещенск                       8.0  \n",
       "Бийск                              8.0  \n",
       "Прокопьевск                        9.0  \n",
       "Каменск-Уральский                  8.0  \n",
       "Серпухов                           9.0  \n",
       "Новомосковск                       8.0  \n",
       "Евпатория                          9.0  "
      ]
     },
     "execution_count": 29,
     "metadata": {},
     "output_type": "execute_result"
    }
   ],
   "source": [
    "# состав кластеров\n",
    "\n",
    "work_city_clust[work_city_clust['cluster_KMeans'] == 5][need_columns]"
   ]
  },
  {
   "cell_type": "code",
   "execution_count": 30,
   "metadata": {},
   "outputs": [],
   "source": [
    "# возвращаем города в столбец city\n",
    "\n",
    "city_clust_res = (work_city_clust\n",
    "                   .rename_axis('index').reset_index()\n",
    "                   .rename(columns={'index': 'city'})\n",
    "                  )"
   ]
  },
  {
   "cell_type": "code",
   "execution_count": 31,
   "metadata": {},
   "outputs": [],
   "source": [
    "city_clust_res.to_excel('C:/00_Projects/Lenin/Datasets/04_work_data/city_hierarchy.xlsx', encoding='utf-8', index=False)"
   ]
  },
  {
   "cell_type": "code",
   "execution_count": 32,
   "metadata": {},
   "outputs": [],
   "source": [
    "res_hierarchy.to_excel('C:/00_Projects/Lenin/Datasets/04_work_data/city_res_hierarchy.xlsx', encoding='utf-8', index=False)"
   ]
  },
  {
   "cell_type": "code",
   "execution_count": null,
   "metadata": {},
   "outputs": [],
   "source": []
  }
 ],
 "metadata": {
  "kernelspec": {
   "display_name": "Python 3",
   "language": "python",
   "name": "python3"
  },
  "language_info": {
   "codemirror_mode": {
    "name": "ipython",
    "version": 3
   },
   "file_extension": ".py",
   "mimetype": "text/x-python",
   "name": "python",
   "nbconvert_exporter": "python",
   "pygments_lexer": "ipython3",
   "version": "3.7.4"
  }
 },
 "nbformat": 4,
 "nbformat_minor": 2
}
